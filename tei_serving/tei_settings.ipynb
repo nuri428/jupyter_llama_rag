{
 "cells": [
  {
   "cell_type": "markdown",
   "id": "a994524b-3272-49ff-b46d-6f808a727c5f",
   "metadata": {},
   "source": [
    "## Text Embedding Inference"
   ]
  },
  {
   "cell_type": "markdown",
   "id": "a0a051c5-733f-425b-8228-3f56415d5dc6",
   "metadata": {},
   "source": [
    "원문 : https://huggingface.co/docs/text-embeddings-inference/index <br>"
   ]
  },
  {
   "cell_type": "markdown",
   "id": "cf2ae5e6-74f7-4c4a-bc3a-e0e0536664df",
   "metadata": {},
   "source": [
    "Text Embeddings Inference (TEI) is a comprehensive toolkit designed for efficient deployment and serving of open source text embeddings models. It enables high-performance extraction for the most popular models, including FlagEmbedding, Ember, GTE, and E5.\n",
    "\n",
    "\n",
    "TEI offers multiple features tailored to optimize the deployment process and enhance overall performance."
   ]
  },
  {
   "cell_type": "markdown",
   "id": "3b42814a-efc3-4c52-ac99-27389805aab4",
   "metadata": {},
   "source": [
    "## Docker 설정"
   ]
  },
  {
   "cell_type": "markdown",
   "id": "4187208d-21d7-4443-8daa-016d5d6b73a6",
   "metadata": {},
   "source": [
    "TEI를 사용하기 위해서는 docker 및 nvidia-docker 설정이 필요. "
   ]
  },
  {
   "cell_type": "markdown",
   "id": "1572ca51-51ec-4df5-9e7c-2646a7a5694a",
   "metadata": {},
   "source": [
    "### docker 설치 "
   ]
  },
  {
   "cell_type": "markdown",
   "id": "8512ab73-5759-43da-b07b-cc0007c12113",
   "metadata": {},
   "source": [
    "https://docs.docker.com/get-docker/"
   ]
  },
  {
   "cell_type": "markdown",
   "id": "0dfeb731-aa29-469c-8d85-36182615d2e0",
   "metadata": {
    "tags": []
   },
   "source": [
    "### nvidia docker 설치 "
   ]
  },
  {
   "cell_type": "markdown",
   "id": "4e38ff56-d7ce-4b2f-9bdc-0fa5a6e84610",
   "metadata": {},
   "source": [
    "https://docs.nvidia.com/datacenter/cloud-native/container-toolkit/latest/install-guide.html"
   ]
  },
  {
   "cell_type": "markdown",
   "id": "11cd812c-7c32-4765-ae4f-e5362fdea4aa",
   "metadata": {},
   "source": [
    "### support model and h/w"
   ]
  },
  {
   "cell_type": "markdown",
   "id": "ecca3ec0-9f1b-44dd-8484-ef7b7954b38b",
   "metadata": {},
   "source": [
    "https://huggingface.co/docs/text-embeddings-inference/supported_models"
   ]
  },
  {
   "cell_type": "markdown",
   "id": "676a564e-7ea0-4297-a9b1-fb39534c142d",
   "metadata": {},
   "source": [
    "### docker 실행 "
   ]
  },
  {
   "cell_type": "markdown",
   "id": "86f0f941-345a-4933-aa15-b8021b72fe30",
   "metadata": {},
   "source": [
    "``` shell\n",
    "model=BAAI/bge-large-en-v1.5\n",
    "volume=$PWD/data\n",
    "\n",
    "docker run --gpus all -p 8080:80 -v $volume:/data --pull always ghcr.io/huggingface/text-embeddings-inference:1.5 --model-id $model\n",
    "```"
   ]
  },
  {
   "cell_type": "markdown",
   "id": "60750835-94f0-45aa-987b-ef002933b8b2",
   "metadata": {},
   "source": [
    "model-id : 임베딩 모듈에 사용할 모델명"
   ]
  },
  {
   "cell_type": "markdown",
   "id": "f1adc7e4-3fa3-440e-b389-b06de79999b2",
   "metadata": {},
   "source": [
    "$PWD/data : 임베딩 모듈의 웨이트 값이 저장된 경로"
   ]
  },
  {
   "cell_type": "markdown",
   "id": "ac34ba38-1c1e-4166-9a27-fc260b35ef3f",
   "metadata": {},
   "source": [
    "### 동작 확인 "
   ]
  },
  {
   "cell_type": "markdown",
   "id": "315e5ca5-92d9-4d4e-a973-43af0b64465c",
   "metadata": {},
   "source": [
    "```\n",
    "curl 127.0.0.1:8080/embed \\\n",
    "-X POST \\\n",
    "-d '{\"Inputs\":\"What is Deep Learnging\"}' \\\n",
    "-H 'Content-Type: application/json'\n",
    "```"
   ]
  },
  {
   "cell_type": "markdown",
   "id": "2d5b346c-bcdb-4e65-8f87-0ed7f4a48a50",
   "metadata": {},
   "source": [
    "# Langchain useage"
   ]
  },
  {
   "cell_type": "code",
   "execution_count": 1,
   "id": "c89db211-9141-4a21-a7d0-edd039d42854",
   "metadata": {
    "tags": []
   },
   "outputs": [],
   "source": [
    "import os\n",
    "from dotenv import load_dotenv\n",
    "load_dotenv()\n",
    "OPENAI_API_KEY = os.getenv('OPENAI_API_KEY')\n",
    "HUGGINGFACE_API_KEY = os.getenv('HUGGINGFACE_KEY')"
   ]
  },
  {
   "cell_type": "code",
   "execution_count": 2,
   "id": "7c674f3d-4ba6-492a-894a-a39b77eb85bb",
   "metadata": {
    "tags": []
   },
   "outputs": [],
   "source": [
    "# embedding 패키지 로딩\n",
    "from langchain_community.embeddings import HuggingFaceHubEmbeddings"
   ]
  },
  {
   "cell_type": "code",
   "execution_count": 3,
   "id": "a0b8e5bc-e8d7-4ac6-b540-8db2178743b4",
   "metadata": {
    "tags": []
   },
   "outputs": [
    {
     "name": "stderr",
     "output_type": "stream",
     "text": [
      "/Users/nuri/dev/jupyter/.venv/lib/python3.9/site-packages/langchain_core/_api/deprecation.py:139: LangChainDeprecationWarning: The class `HuggingFaceHubEmbeddings` was deprecated in LangChain 0.2.2 and will be removed in 0.3.0. An updated version of the class exists in the langchain-huggingface package and should be used instead. To use it run `pip install -U langchain-huggingface` and import as `from langchain_huggingface import HuggingFaceEndpointEmbeddings`.\n",
      "  warn_deprecated(\n"
     ]
    }
   ],
   "source": [
    "# embedding 클래스 정의 \n",
    "EMBEDDING_BASE_URL=os.getenv(\"EMBEDDING_BASE_URL\")\n",
    "HUGGINGFACEHUB_API_TOKEN = os.getenv(\"HUGGUNGFACE_TOKEN\")\n",
    "embeddings = HuggingFaceHubEmbeddings(model=EMBEDDING_BASE_URL, huggingfacehub_api_token=HUGGINGFACEHUB_API_TOKEN)"
   ]
  },
  {
   "cell_type": "code",
   "execution_count": 4,
   "id": "fb3970cd-3215-4697-9c63-7d8233a3b5a8",
   "metadata": {
    "tags": []
   },
   "outputs": [
    {
     "name": "stdout",
     "output_type": "stream",
     "text": [
      "[-0.009637534, 0.055481587, -0.043658268]\n"
     ]
    }
   ],
   "source": [
    "print(embeddings.embed_documents(\"test 문장입니다\")[0][0:3])"
   ]
  },
  {
   "cell_type": "code",
   "execution_count": null,
   "id": "cfcb4331-b164-4f7a-9f29-2f4fa7277f4a",
   "metadata": {},
   "outputs": [],
   "source": []
  }
 ],
 "metadata": {
  "kernelspec": {
   "display_name": "Python 3 (ipykernel)",
   "language": "python",
   "name": "python3"
  },
  "language_info": {
   "codemirror_mode": {
    "name": "ipython",
    "version": 3
   },
   "file_extension": ".py",
   "mimetype": "text/x-python",
   "name": "python",
   "nbconvert_exporter": "python",
   "pygments_lexer": "ipython3",
   "version": "3.9.19"
  }
 },
 "nbformat": 4,
 "nbformat_minor": 5
}
