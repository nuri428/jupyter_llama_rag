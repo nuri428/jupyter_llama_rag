{
 "cells": [
  {
   "cell_type": "markdown",
   "id": "008b4631-5223-4541-8e5e-04d5a9a302af",
   "metadata": {},
   "source": [
    "# Retrieve embedding useage"
   ]
  },
  {
   "cell_type": "markdown",
   "id": "c263e6f7-d763-41ec-9e51-ac6cc1a3e6ae",
   "metadata": {},
   "source": [
    "### Using ElasticSearchVectorStore and Embedding"
   ]
  },
  {
   "cell_type": "code",
   "execution_count": null,
   "id": "48f19350-f489-4bae-8d9d-75cd6e6c0e72",
   "metadata": {
    "tags": []
   },
   "outputs": [],
   "source": [
    "from langchain_community.vectorstores.elasticsearch import ElasticsearchStore\n",
    "from langchain_community.embeddings import LocalAIEmbeddings\n",
    "from elasticsearch import Elasticsearch\n",
    "from langchain.text_splitter import RecursiveCharacterTextSplitter"
   ]
  },
  {
   "cell_type": "code",
   "execution_count": null,
   "id": "b69b30e6-f3ba-493a-bd86-cbfd76fa334d",
   "metadata": {},
   "outputs": [],
   "source": [
    "import os\n",
    "from dotenv import load_dotenv\n",
    "load_dotenv()"
   ]
  },
  {
   "cell_type": "code",
   "execution_count": null,
   "id": "6e313ea1-ab5c-449c-8248-dfa0e30d1bbf",
   "metadata": {},
   "outputs": [],
   "source": [
    "# 환경 변수 로딩 \n",
    "OPENAI_API_KEY = os.getenv('OPENAI_API_KEY')\n",
    "es_hosts = os.getenv('ES_HOST')\n",
    "es_id = os.getenv('ES_ID')\n",
    "es_pwd = os.getenv('ES_PWD')\n",
    "index_name = os.getenv('ES_INDEX_NAME')\n",
    "\n",
    "base_url = os.getenv(\"EMBEDDING_BASE_URL\")\n",
    "model = os.getenv(\"EMBEDDING_MODEL\")\n",
    "\n",
    "dataset = pd.DataFrame()\n",
    "batch_count = 10"
   ]
  },
  {
   "cell_type": "markdown",
   "id": "c6a2eef9-cd30-46cc-9cff-e2826cb14462",
   "metadata": {},
   "source": [
    "### embedding 클래스 정의"
   ]
  },
  {
   "cell_type": "code",
   "execution_count": null,
   "id": "22063e60-4084-4a1a-8ed2-5e8d6c94b03c",
   "metadata": {},
   "outputs": [],
   "source": [
    "embeddings = LocalAIEmbeddings(openai_api_base=base_url, \n",
    "                                       model=model,\n",
    "                                       openai_api_key=OPENAI_API_KEY)"
   ]
  },
  {
   "cell_type": "markdown",
   "id": "c00e7e0f-429f-498e-b8bd-17818df2accd",
   "metadata": {},
   "source": [
    "### 예제용 환경 변수 "
   ]
  },
  {
   "cell_type": "code",
   "execution_count": null,
   "id": "bd4aa74e-7487-4e41-9a25-9f878e01051d",
   "metadata": {},
   "outputs": [],
   "source": [
    "text_splitter = RecursiveCharacterTextSplitter(chunk_size=800, chunk_overlap=250)"
   ]
  },
  {
   "cell_type": "markdown",
   "id": "3ada6e04-8841-4792-9068-7e1e5bdf917b",
   "metadata": {},
   "source": [
    "텍스트 길이가 길기 때문에 RecursiveCharacterTextSplitter 사용 청크 단위로 잘라서 임베딩 <br> 청크와의 오버래핑을 250으로 지정"
   ]
  },
  {
   "cell_type": "code",
   "execution_count": null,
   "id": "6bbb3bfd-0393-47e2-80ba-badf04e56d6c",
   "metadata": {},
   "outputs": [],
   "source": [
    "es = ElasticSearch([es_hosts], basic_auth=(es_id,es_pwd))"
   ]
  },
  {
   "cell_type": "markdown",
   "id": "a6c729b3-aa65-4796-bd3c-cff15e8dfeb9",
   "metadata": {},
   "source": [
    "es 인스턴스 생성"
   ]
  },
  {
   "cell_type": "code",
   "execution_count": null,
   "id": "c25ea0c3-f3b9-47a8-ad41-904452237b33",
   "metadata": {},
   "outputs": [],
   "source": [
    "vectorstore = ElasticsearchStore(\n",
    "            index_name=index_name,\n",
    "            embedding=embeddings,\n",
    "            es_connection=es\n",
    "        )"
   ]
  },
  {
   "cell_type": "markdown",
   "id": "029468dc-3f91-42c2-a54f-6c2d463f22c3",
   "metadata": {},
   "source": [
    "vectorstore 인스턴스 생성 "
   ]
  },
  {
   "cell_type": "code",
   "execution_count": null,
   "id": "92af70a2-061e-4fe9-8cd6-8d3793155de1",
   "metadata": {},
   "outputs": [],
   "source": [
    "for offset in tqdm(range(0, len(dataset), batch_count)):\n",
    "    loader = DataFrameLoader(dataset[offset:offset+batch_count], page_content_column=\"content\")\n",
    "    all_splits = text_splitter.split_documents(loader.load())\n",
    "    vectorstore.add_documents(all_splits)\n",
    "    del all_splits\n",
    "    del loader\n",
    "                \n",
    "es.index(index=settings.NEWS_BULK_INDEX, body={\"flush\": \"true\"})\n",
    "es.close()"
   ]
  },
  {
   "cell_type": "markdown",
   "id": "40a6e1a9-8205-48e1-b828-f009c871c655",
   "metadata": {
    "tags": []
   },
   "source": [
    "dataset 데이터 프레임을 이용하여 전체 데이터에 대해서 임베딩을 수행하고 <br>vectorstore에 문서 입력.<br> 루프 바깥의 index flush는 입력된 문서를 ES에 즉시 적용"
   ]
  },
  {
   "cell_type": "code",
   "execution_count": null,
   "id": "da0d9faa-024f-4a5c-8361-b481e66d6bd8",
   "metadata": {},
   "outputs": [],
   "source": []
  }
 ],
 "metadata": {
  "kernelspec": {
   "display_name": "Python 3 (ipykernel)",
   "language": "python",
   "name": "python3"
  },
  "language_info": {
   "codemirror_mode": {
    "name": "ipython",
    "version": 3
   },
   "file_extension": ".py",
   "mimetype": "text/x-python",
   "name": "python",
   "nbconvert_exporter": "python",
   "pygments_lexer": "ipython3",
   "version": "3.9.17"
  }
 },
 "nbformat": 4,
 "nbformat_minor": 5
}
