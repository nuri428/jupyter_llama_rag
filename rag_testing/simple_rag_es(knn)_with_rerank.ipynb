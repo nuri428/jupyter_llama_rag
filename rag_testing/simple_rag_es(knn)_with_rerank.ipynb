{
 "cells": [
  {
   "cell_type": "markdown",
   "id": "a53f7697-4630-4a1c-bf32-ac554220ebee",
   "metadata": {},
   "source": [
    "# simaple rag with rerank 작성예정"
   ]
  },
  {
   "cell_type": "markdown",
   "id": "d4398842-197c-4ff8-ad2f-1e863f2dae5c",
   "metadata": {},
   "source": [
    "### ElasticSearch에서 ReRank가 통합되어 있어서 <br> es에 rerank를 추가 <br>es의 kibana에서 dev tools 혹은 wget, curl을 통하 아래 커맨드를 수행"
   ]
  },
  {
   "cell_type": "markdown",
   "id": "ed7efda7-0b67-4c52-a4bc-0c5ee28bf842",
   "metadata": {},
   "source": [
    "### Rerank를 지원하는 ES 버젼은 8.14 이기 때문에, 8.13 이하 버젼은 8.14로 버젼업을 해야함."
   ]
  },
  {
   "cell_type": "markdown",
   "id": "1efc45b0-59de-4fc5-b8e0-540de28d217f",
   "metadata": {},
   "source": [
    "PUT _inference/rerank/cohere_rerank <br>\n",
    "{<br>\n",
    "    \"service\": \"cohere\",<br>\n",
    "    \"service_settings\": {<br>\n",
    "        \"api_key\": <API-KEY>, <br>\n",
    "        \"model_id\": \"rerank-english-v3.0\"<br>\n",
    "    },<br>\n",
    "    \"task_settings\": {<br>\n",
    "        \"top_n\": 10,<br>\n",
    "        \"return_documents\": true<br>\n",
    "    }<br>\n",
    "}"
   ]
  },
  {
   "cell_type": "markdown",
   "id": "15d49718-adfc-46ec-954f-ce0083362b7a",
   "metadata": {},
   "source": [
    "### 영어가 아니기 때문에 모델을 \"rerank-multilingual-v3.0\"로 바꿈."
   ]
  },
  {
   "cell_type": "markdown",
   "id": "96c4af4a-c96e-431a-9ff5-fd53b7596b24",
   "metadata": {},
   "source": [
    "## vectorstore : es8"
   ]
  },
  {
   "cell_type": "markdown",
   "id": "6d20f936-2667-4ac4-9272-39edb8536e97",
   "metadata": {},
   "source": [
    "# 필요한 패키지 설치"
   ]
  },
  {
   "cell_type": "code",
   "execution_count": 1,
   "id": "4375d02f-d658-4689-afbe-ffba0cb6b4fd",
   "metadata": {
    "tags": []
   },
   "outputs": [],
   "source": [
    "# !openai migrate\n",
    "# openai 1.x.x 이상 버젼을 사용할 경우 위 명령을 수행해야 langchain_community오류가 해결됨. \n",
    "# 오류 메세지는 open.error.ApiError과 같은 오류.\n",
    "# openai migrate가 동작하지 않을 경우 \n",
    "# 아래 명령을 수행. grit이 설치 되어 있을 경우 1라인은 스킵 가능.\n",
    "# curl -fsSL https://docs.grit.io/install | bash\n",
    "# grit install\n",
    "# grit apply openai\n",
    "\n",
    "# 위 명령을 수행하면 python 의 site_package 에서 langchain_community에서 python파일을 로딩해서 오류 구문을 수정. \n",
    "# 단 아래와 같은 코드는 아직도 버그임. \n",
    "# | retry_if_exception_type(openai.ServiceUnavailableError)\n",
    "# openai 에는 ServiceUnavailableError 에러 클래스가 없음.."
   ]
  },
  {
   "cell_type": "code",
   "execution_count": 2,
   "id": "da5ee6b4-bdc1-493a-8a5c-ee118e3233b3",
   "metadata": {
    "tags": []
   },
   "outputs": [
    {
     "name": "stdout",
     "output_type": "stream",
     "text": [
      "1.37.1\n",
      "0.2.10\n"
     ]
    }
   ],
   "source": [
    "import openai\n",
    "print(openai.__version__)\n",
    "import langchain_community\n",
    "print(langchain_community.__version__)"
   ]
  },
  {
   "cell_type": "code",
   "execution_count": 3,
   "id": "adaf0eb4-7ad0-4634-951a-4669e6495007",
   "metadata": {
    "tags": []
   },
   "outputs": [],
   "source": [
    "# %pip install -qU openai\n",
    "# %pip install -qU langchain\n",
    "# %pip install langchainhub\n",
    "# %pip install -qU langchain-openai\n",
    "# %pip install -U langchain_community\n",
    "# %pip install langchain_elasticsearch\n",
    "# %pip install -U langchain-cohere"
   ]
  },
  {
   "cell_type": "code",
   "execution_count": 4,
   "id": "3a49cc85-c744-476b-8592-6ac4749eb010",
   "metadata": {
    "tags": []
   },
   "outputs": [],
   "source": [
    "import os\n",
    "# from langchain_community.vectorstores.elastic_vector_search import ElasticKnnSearch\n",
    "# from langchain_elasticsearch import ElasticsearchStore, DenseVectorStrategy, ElasticsearchEmbeddings\n",
    "from elasticsearch import Elasticsearch\n",
    "from langchain_elasticsearch import ElasticsearchRetriever\n",
    "\n",
    "from langchain_core.output_parsers import StrOutputParser\n",
    "from langchain_openai import ChatOpenAI\n",
    "from langchain import hub\n",
    "from langchain_core.runnables import RunnablePassthrough\n",
    "# embedding 패키지 로딩\n",
    "from langchain_community.embeddings import HuggingFaceHubEmbeddings"
   ]
  },
  {
   "cell_type": "code",
   "execution_count": 5,
   "id": "620ff325-a8cc-43d7-b949-23231b37a8bc",
   "metadata": {
    "tags": []
   },
   "outputs": [
    {
     "data": {
      "text/plain": [
       "True"
      ]
     },
     "execution_count": 5,
     "metadata": {},
     "output_type": "execute_result"
    }
   ],
   "source": [
    "from dotenv import load_dotenv\n",
    "load_dotenv()"
   ]
  },
  {
   "cell_type": "code",
   "execution_count": 6,
   "id": "5839c9c2-a3fc-40f0-8d30-041aa65c250e",
   "metadata": {
    "tags": []
   },
   "outputs": [],
   "source": [
    "OPENAI_API_KEY = os.getenv(\"OPENAI_API_KEY\")\n",
    "ES_HOST = os.getenv(\"ES_HOST\")\n",
    "ES_USER_ID = os.getenv(\"ES_ID\")\n",
    "ES_PASSWD = os.getenv(\"ES_PWD\")\n",
    "ES_INDEX_NAME = os.getenv(\"ES_INDEX_NAME\")\n",
    "EMBEDDING_BASE_URL=os.getenv(\"EMBEDDING_BASE_URL\")\n",
    "EMBEDDING_MODEL=os.getenv(\"EMBEDDING_MODEL\")\n",
    "HUGGINGFACEHUB_API_TOKEN = os.getenv(\"HUGGUNGFACE_TOKEN\")\n",
    "COHERE_API_KEY = os.getenv(\"COHERE_API_KEY\")"
   ]
  },
  {
   "cell_type": "markdown",
   "id": "dfc82c5c-7b94-4e15-8f17-d24134e7ab0f",
   "metadata": {},
   "source": [
    "### embedding 정의"
   ]
  },
  {
   "cell_type": "code",
   "execution_count": 7,
   "id": "3254f83a-c7ca-4127-89e5-6d3dbc2f1092",
   "metadata": {
    "tags": []
   },
   "outputs": [
    {
     "name": "stderr",
     "output_type": "stream",
     "text": [
      "/Users/nuri/dev/jupyter/.venv/lib/python3.9/site-packages/langchain_core/_api/deprecation.py:139: LangChainDeprecationWarning: The class `HuggingFaceHubEmbeddings` was deprecated in LangChain 0.2.2 and will be removed in 0.3.0. An updated version of the class exists in the langchain-huggingface package and should be used instead. To use it run `pip install -U langchain-huggingface` and import as `from langchain_huggingface import HuggingFaceEndpointEmbeddings`.\n",
      "  warn_deprecated(\n"
     ]
    }
   ],
   "source": [
    "embeddings = HuggingFaceHubEmbeddings(model=EMBEDDING_BASE_URL, huggingfacehub_api_token=HUGGINGFACEHUB_API_TOKEN)"
   ]
  },
  {
   "cell_type": "code",
   "execution_count": 8,
   "id": "1d9d31fb-888b-4d5b-8382-6bf04b519853",
   "metadata": {
    "tags": []
   },
   "outputs": [
    {
     "data": {
      "text/plain": [
       "<InferenceClient(model='http://192.168.0.10:3000', timeout=None)>"
      ]
     },
     "execution_count": 8,
     "metadata": {},
     "output_type": "execute_result"
    }
   ],
   "source": [
    "embeddings.client"
   ]
  },
  {
   "cell_type": "code",
   "execution_count": 9,
   "id": "7622b48b-6491-4287-a3eb-994c04928a7a",
   "metadata": {
    "tags": []
   },
   "outputs": [
    {
     "data": {
      "text/plain": [
       "[-0.017445877, 0.036139887, -0.017976798]"
      ]
     },
     "execution_count": 9,
     "metadata": {},
     "output_type": "execute_result"
    }
   ],
   "source": [
    "embeddings.embed_documents(\"테스트\")[0][0:3]"
   ]
  },
  {
   "cell_type": "markdown",
   "id": "df02e3aa-2d64-433f-a07c-cccbeaae160b",
   "metadata": {},
   "source": [
    "### llm. 정의"
   ]
  },
  {
   "cell_type": "code",
   "execution_count": 10,
   "id": "bfaf8495-d3a1-495a-a1c0-555240ae1e6c",
   "metadata": {
    "tags": []
   },
   "outputs": [],
   "source": [
    "llm = ChatOpenAI(model=\"gpt-4o\", api_key=OPENAI_API_KEY)"
   ]
  },
  {
   "cell_type": "code",
   "execution_count": 11,
   "id": "8d6772fe-2ff7-4991-8ae9-4599b5872aec",
   "metadata": {
    "tags": []
   },
   "outputs": [
    {
     "data": {
      "text/plain": [
       "AIMessage(content='안녕하세요! 무엇을 도와드릴까요?', response_metadata={'token_usage': {'completion_tokens': 11, 'prompt_tokens': 9, 'total_tokens': 20}, 'model_name': 'gpt-4o-2024-05-13', 'system_fingerprint': 'fp_3aa7262c27', 'finish_reason': 'stop', 'logprobs': None}, id='run-df27950c-a674-49bc-99c9-73e667ee6c18-0', usage_metadata={'input_tokens': 9, 'output_tokens': 11, 'total_tokens': 20})"
      ]
     },
     "execution_count": 11,
     "metadata": {},
     "output_type": "execute_result"
    }
   ],
   "source": [
    "llm.invoke(\"안녕\")"
   ]
  },
  {
   "cell_type": "markdown",
   "id": "49496c84-409a-4c08-89c4-250d9bf536a3",
   "metadata": {},
   "source": [
    "### ES 모듈 로딩"
   ]
  },
  {
   "cell_type": "code",
   "execution_count": 12,
   "id": "5bf1a69b-ec17-4451-981f-79efeff16009",
   "metadata": {
    "tags": []
   },
   "outputs": [
    {
     "name": "stderr",
     "output_type": "stream",
     "text": [
      "/var/folders/jy/5_rl6575533638lskdr9s6s00000gn/T/ipykernel_7524/99351195.py:1: DeprecationWarning: The 'timeout' parameter is deprecated in favor of 'request_timeout'\n",
      "  es = Elasticsearch([ES_HOST], basic_auth=(ES_USER_ID, ES_PASSWD), ca_certs=\"./../certs/ca.crt\", verify_certs=False, timeout=120)\n",
      "/Users/nuri/dev/jupyter/.venv/lib/python3.9/site-packages/elasticsearch/_sync/client/__init__.py:399: SecurityWarning: Connecting to 'https://192.168.0.10:9200' using TLS with verify_certs=False is insecure\n",
      "  _transport = transport_class(\n"
     ]
    }
   ],
   "source": [
    "es = Elasticsearch([ES_HOST], basic_auth=(ES_USER_ID, ES_PASSWD), ca_certs=\"./../certs/ca.crt\", verify_certs=False, timeout=120)"
   ]
  },
  {
   "cell_type": "code",
   "execution_count": 13,
   "id": "8ceabdd7-f932-4296-965a-629e341429fe",
   "metadata": {
    "tags": []
   },
   "outputs": [
    {
     "name": "stderr",
     "output_type": "stream",
     "text": [
      "/Users/nuri/dev/jupyter/.venv/lib/python3.9/site-packages/urllib3/connectionpool.py:1063: InsecureRequestWarning: Unverified HTTPS request is being made to host '192.168.0.10'. Adding certificate verification is strongly advised. See: https://urllib3.readthedocs.io/en/1.26.x/advanced-usage.html#ssl-warnings\n",
      "  warnings.warn(\n"
     ]
    },
    {
     "data": {
      "text/plain": [
       "ObjectApiResponse({'name': 'es01', 'cluster_name': 'docker-cluster', 'cluster_uuid': 'aZJrg1ffSsCl52WsqYpJvQ', 'version': {'number': '8.14.3', 'build_flavor': 'default', 'build_type': 'docker', 'build_hash': 'd55f984299e0e88dee72ebd8255f7ff130859ad0', 'build_date': '2024-07-07T22:04:49.882652950Z', 'build_snapshot': False, 'lucene_version': '9.10.0', 'minimum_wire_compatibility_version': '7.17.0', 'minimum_index_compatibility_version': '7.0.0'}, 'tagline': 'You Know, for Search'})"
      ]
     },
     "execution_count": 13,
     "metadata": {},
     "output_type": "execute_result"
    }
   ],
   "source": [
    "es.info()"
   ]
  },
  {
   "cell_type": "markdown",
   "id": "800c56af-19e5-4cde-a906-50747f556afa",
   "metadata": {},
   "source": [
    "### Retriever 정의"
   ]
  },
  {
   "cell_type": "code",
   "execution_count": 19,
   "id": "ce588a54-8ee8-4d0b-a3f4-33901400b779",
   "metadata": {
    "tags": []
   },
   "outputs": [
    {
     "name": "stderr",
     "output_type": "stream",
     "text": [
      "/Users/nuri/dev/jupyter/.venv/lib/python3.9/site-packages/elasticsearch/_sync/client/__init__.py:399: SecurityWarning: Connecting to 'https://192.168.0.10:9200' using TLS with verify_certs=False is insecure\n",
      "  _transport = transport_class(\n"
     ]
    }
   ],
   "source": [
    "import typing as t \n",
    "def hybrid_query(search_query: str) -> t.Dict:\n",
    "    vector = embeddings.embed_query(search_query)  # same embeddings as for indexing\n",
    "    return {\n",
    "        \"_source\": [\"text\",\"metadata\"], \n",
    "        \"query\": {\n",
    "            \"match\": {\n",
    "                'text': search_query,\n",
    "            },\n",
    "        },\n",
    "        \"knn\": {\n",
    "            \"field\": 'vector',\n",
    "            \"query_vector\": vector,\n",
    "            \"k\": 10,\n",
    "            \"num_candidates\": 100,\n",
    "        },\n",
    "        \"rank\": {\"rrf\": {}},\n",
    "        \n",
    "    }\n",
    "from typing import Any, Callable, Dict, List, Mapping, Optional, Sequence, Union, cast\n",
    "\n",
    "es = Elasticsearch([ES_HOST], basic_auth=(ES_USER_ID, ES_PASSWD), ca_certs=\"./../certs/ca.crt\", verify_certs=False, request_timeout=120)\n",
    "\n",
    "knn_retriever = ElasticsearchRetriever(\n",
    "    es_client=es,\n",
    "    index_name = ES_INDEX_NAME,\n",
    "    body_func=hybrid_query,\n",
    "    content_field=\"text\",\n",
    ")"
   ]
  },
  {
   "cell_type": "markdown",
   "id": "800ce10c-791a-4d47-9a3d-7ec4483bc9c9",
   "metadata": {},
   "source": [
    "### Cohere Reranker"
   ]
  },
  {
   "cell_type": "code",
   "execution_count": 20,
   "id": "aee778ac-91c8-45da-b474-332953e89e58",
   "metadata": {
    "tags": []
   },
   "outputs": [],
   "source": [
    "from langchain.retrievers.contextual_compression import ContextualCompressionRetriever\n",
    "from langchain_cohere import CohereRerank\n",
    "from langchain_community.llms import Cohere"
   ]
  },
  {
   "cell_type": "code",
   "execution_count": 21,
   "id": "43045ff8-41c0-43af-a846-9d8a70e66ccd",
   "metadata": {
    "tags": []
   },
   "outputs": [],
   "source": [
    "# Cohere?"
   ]
  },
  {
   "cell_type": "code",
   "execution_count": 22,
   "id": "90f7eb7f-f9a6-47a8-93c2-9ac3409d412d",
   "metadata": {
    "tags": []
   },
   "outputs": [
    {
     "name": "stderr",
     "output_type": "stream",
     "text": [
      "/Users/nuri/dev/jupyter/.venv/lib/python3.9/site-packages/urllib3/connectionpool.py:1063: InsecureRequestWarning: Unverified HTTPS request is being made to host '192.168.0.10'. Adding certificate verification is strongly advised. See: https://urllib3.readthedocs.io/en/1.26.x/advanced-usage.html#ssl-warnings\n",
      "  warnings.warn(\n"
     ]
    },
    {
     "name": "stdout",
     "output_type": "stream",
     "text": [
      "[Document(metadata={'_index': 'news_article_embedding', '_id': 'c6139d40-d308-46bc-b019-bf5627bde3a1', '_score': None, '_rank': 5, '_ignored': ['text.keyword'], '_source': {'metadata': {'id': 475372, 'hash_key': '3b2e7bbf13415c7f8f475cbd2678d7a2', 'title': '작년 말 삼성전자 소액주주 467만명… 1년 새 114만명 떠났다', 'created_date': '2024-03-13T06:57:07', 'portal': 'daum', 'media': '조선비즈', 'url': 'https://v.daum.net/v/20240313065707437', 'image_url': 'https://img1.daumcdn.net/thumb/S1200x630/?fname=https://t1.daumcdn.net/news/202403/13/chosunbiz/20240313065713108qiol.jpg'}}, 'relevance_score': 0.9993929}, page_content='작년 말 삼성전자 소액주주 467만명… 1년 새 114만명 떠났다\\n삼성전자 주식을 보유한 소액주주 수가 지난해 114만명 넘게 줄었다.\\n13일 금융감독원 전자공시시스템에 따르면 작년 말 기준 지분율 1% 미만 삼성전자 소액주주는 467만2039명으로 집계됐다.\\n1년 전인 2022년 말 삼성전자 소액주주 수 581만3977명과 비교해 114만1938명 감소했다.\\n한편 삼성전자 소액주주 467만2039명은 지난해 말 기준 삼성전자 주식 40억1789만2514주를 보유한 것으로 집계됐다.\\n이 글자크기로 변경됩니다.\\n(예시) 가장 빠른 뉴스가 있고 다양한 정보, 쌍방향 소통이 숨쉬는 다음뉴스를 만나보세요. 다음뉴스는 국내외 주요이슈와 실시간 속보, 문화생활 및 다양한 분야의 뉴스를 입체적으로 전달하고 있습니다.\\n삼성전자 주식을 보유한 소액주주 수가 지난해 114만명 넘게 줄었다.\\n13일 금융감독원 전자공시시스템에 따르면 작년 말 기준 지분율 1% 미만 삼성전자 소액주주는 467만2039명으로 집계됐다.\\n1년 전인 2022년 말 삼성전자 소액주주 수 581만3977명과 비교해 114만1938명 감소했다.\\n삼성전자 주식은 이른바 ‘국민주’로 불렸다. 2020년 말 215만3969명이었던 소액주주 수가 2021년 말 506만6351명으로 증가, 2022년 9월에는 600만명을 넘어서기도 했다.\\n반도체 업황 회복세에 지난해 초 5만원대였던 삼성전자 주가가 7만원대까지 오르자 소액주주들이 대거 차익 실현에 나선 것으로 풀이된다.\\n실제 개인 투자자는 작년 한해 동안 16조1923억원어치 주식을 순매도했다.'), Document(metadata={'_index': 'news_article_embedding', '_id': '0e2522f6-5a8e-4245-9cdb-3654a250880e', '_score': None, '_rank': 8, '_ignored': ['text.keyword'], '_source': {'metadata': {'id': 243759, 'hash_key': '81c0753b23ee6abf66b37ee0c1e39cb0', 'title': '[특징주] 삼성전자, 연간 영업익 15년만 최저치에도 ‘상승세’', 'created_date': '2024-01-09T09:45:29', 'portal': 'daum', 'media': '데일리안', 'url': 'https://v.daum.net/v/20240109094529201', 'image_url': 'https://img1.daumcdn.net/thumb/S1200x630/?fname=https://t1.daumcdn.net/news/202401/09/dailian/20240109094912294swqf.jpg'}}, 'relevance_score': 0.99918324}, page_content='9일 한국거래소에 따르면 이날 오전 9시 44분 현재 삼성전자는 전 거래일 대비 0.78%(600원) 오른 7만7100원에 거래되고 있다.\\n삼성전자는 이날 개장 직전 공시를 통해 지난해 4분기 매출 67조원, 영업이익 2조8000억원을 기록한 것으로 잠정 집계됐다고 밝혔다. 전년 동기 대비 매출과 영업이익이 각각 4.91%, 35.03% 줄어든 수치다.\\n지난해 삼성전자의 연간 실적은 매출 258조1600억원, 영업이익 6조5400억원으로 전년보다 각각 14.58%, 84.92% 급감한 성적이다. 특히 삼성전자의 연간 영업이익이 10조원을 하회한 것은 글로벌 금융위기가 닥친 지난 2008년(6조319억원) 이후 15년 만이다.\\n이는 반도체 실적 부진의 영향을 받은 것으로 풀이된다. 반도체 불황 여파로 반도체 사업을 담당하는 디바이스솔루션(DS) 부문이 지난해 3분기까지 누적 12조원대 적자를 기록하면서다.\\n다만 반도체 업황이 회복되자 4분기에는 DS 부문의 실적이 개선될 것으로 전망된다. 삼성전자가 이날 공개한 잠정 실적에는 사업부별 실적이 공개되지 않았으나 메모리 반도체 재고 감소 등 업계 회복으로 DS 부문 적자가 축소되면서 개선을 이끌 것으로 분석된다.\\nCopyright© 데일리안. 무단전재 및 재배포 금지.'), Document(metadata={'_index': 'news_article_embedding', '_id': '96f9ee5c-5e0e-47ed-80f5-f59a3fc3b056', '_score': None, '_rank': 4, '_ignored': ['text.keyword'], '_source': {'metadata': {'id': 209416, 'hash_key': '9c0236593da611e47d67a6b1cab1f958', 'title': \"삼성전자, 또 52주 최고가 경신…'8만전자' 다가서\", 'created_date': '2024-01-02T10:26:07', 'portal': 'daum', 'media': '한국경제', 'url': 'https://v.daum.net/v/20240102102607828', 'image_url': 'https://img1.daumcdn.net/thumb/S1200x630/?fname=https://t1.daumcdn.net/news/202401/02/ked/20240102102608958epwg.jpg'}}, 'relevance_score': 0.9982926}, page_content='2일 오전 10시 20분 기준 삼성전자는 전 거래일 대비 300원(0.38%) 오른 7만8800원에 거래되고 있다. 장중 삼성전자는 7만9400원까지 오르며 52주 신고가를 기록했다. 전 거래일까지 삼성전자는 7거래일 연속 상승했다.\\n이날 메리츠증권은 삼성전자에 대한 목표주가를 기존 9만4000원에서 9만5000원으로 높였다. 투자의견은 \\'매수\\'를 유지했다. 작년 4분기 삼성전자의 영업이익이 3분기에 비해 개선될 것으로 전망하면서다.\\n김선우 메리츠증권 연구원은 \"지난해 4분기 영업이익은 4조4000억원으로 전분기 2조4000억원 대비 소폭 개선될 것\"이라며 \"주로 메모리 매출 극대화에 집중하는 가운데 반도체(DS) 부문 영업손실이 전분기 3조7000억원에서 6000억원으로 감소하겠지만 모바일경험(MX) 부문 영업이익은 3조3000억원에서 2조3000억원으로 축소될 것\"이라고 설명했다.\\n이어 \"삼성전자는 최근 예상보다 빠른 속도로 D램 감산폭을 줄이는 것으로 추정된다\"며 \"올해 2분기부터 감산폭 축소에서 오는 고정비 분배 및 수익성 회복이 예상된다\"고 밝혔다.\\n진영기 한경닷컴 기자 young71@hankyung.com\\n▶ 내가 부자가 될 사주인가…2024년 신년운세 확인▶ 한경 창간 60주년 구독신청 사은품 보기\\nCopyright© 한국경제. 무단전재 및 재배포 금지.')]\n"
     ]
    }
   ],
   "source": [
    "cohere_llm = Cohere(temperature=0, cohere_api_key=COHERE_API_KEY)\n",
    "compressor = CohereRerank(model=\"rerank-multilingual-v3.0\")\n",
    "compression_retriever = ContextualCompressionRetriever(\n",
    "    base_compressor=compressor, base_retriever=knn_retriever\n",
    ")\n",
    "\n",
    "compressed_docs = compression_retriever.invoke(\n",
    "    \"삼성전자\", k=10, candidate=10\n",
    ")\n",
    "print(compressed_docs)"
   ]
  },
  {
   "cell_type": "markdown",
   "id": "4534a1a7-e7dd-4e5c-8960-fe2cb1cf4d8e",
   "metadata": {},
   "source": [
    "### rag prompt 로딩"
   ]
  },
  {
   "cell_type": "code",
   "execution_count": 23,
   "id": "c617a44b-eb4b-4a10-8da9-60d7dcfd0d00",
   "metadata": {
    "tags": []
   },
   "outputs": [],
   "source": [
    "prompt = hub.pull(\"rlm/rag-prompt\")"
   ]
  },
  {
   "cell_type": "code",
   "execution_count": 28,
   "id": "c7f00e2c-7d0d-44a8-9766-8de6bd9451a1",
   "metadata": {
    "tags": []
   },
   "outputs": [
    {
     "name": "stdout",
     "output_type": "stream",
     "text": [
      "input_variables=['context', 'question'] metadata={'lc_hub_owner': 'rlm', 'lc_hub_repo': 'rag-prompt', 'lc_hub_commit_hash': '50442af133e61576e74536c6556cefe1fac147cad032f4377b60c436e6cdcb6e'} messages=[HumanMessagePromptTemplate(prompt=PromptTemplate(input_variables=['context', 'question'], template=\"You are an assistant for question-answering tasks. Use the following pieces of retrieved context to answer the question. If you don't know the answer, just say that you don't know. Use three sentences maximum and keep the answer concise.\\nQuestion: {question} \\nContext: {context} \\nAnswer:\"))]\n"
     ]
    }
   ],
   "source": [
    "print(prompt)"
   ]
  },
  {
   "cell_type": "code",
   "execution_count": 24,
   "id": "a9ff97a7-0853-43b2-a8ed-a319e1cbbdbc",
   "metadata": {
    "tags": []
   },
   "outputs": [],
   "source": [
    "def format_docs(docs):\n",
    "    return \"\\n\\n\".join(doc.page_content for doc in docs)"
   ]
  },
  {
   "cell_type": "code",
   "execution_count": 26,
   "id": "66a38f74-dc9f-42d3-90d5-f6a77ce43992",
   "metadata": {
    "tags": []
   },
   "outputs": [],
   "source": [
    "rag_chain = (\n",
    "    {\"context\": compression_retriever | format_docs, \"question\": RunnablePassthrough()}\n",
    "    | prompt\n",
    "    | llm\n",
    "    | StrOutputParser()\n",
    ")"
   ]
  },
  {
   "cell_type": "code",
   "execution_count": 27,
   "id": "e117930d-5872-4546-8e48-f4711643b4ad",
   "metadata": {
    "tags": []
   },
   "outputs": [
    {
     "name": "stderr",
     "output_type": "stream",
     "text": [
      "/Users/nuri/dev/jupyter/.venv/lib/python3.9/site-packages/urllib3/connectionpool.py:1063: InsecureRequestWarning: Unverified HTTPS request is being made to host '192.168.0.10'. Adding certificate verification is strongly advised. See: https://urllib3.readthedocs.io/en/1.26.x/advanced-usage.html#ssl-warnings\n",
      "  warnings.warn(\n"
     ]
    },
    {
     "data": {
      "text/plain": [
       "'2024년 3월 28일, 삼성전자 주가가 장중 8만원을 넘었다는 기사가 두 번 보도되었습니다.'"
      ]
     },
     "execution_count": 27,
     "metadata": {},
     "output_type": "execute_result"
    }
   ],
   "source": [
    "rag_chain.invoke(\"최근 삼성전자 관련 기사를 검색하고 각각의 기사에 대한 내용을 요약하고 날짜를 같이 표시해줘\")"
   ]
  },
  {
   "cell_type": "code",
   "execution_count": null,
   "id": "34fe584a-5d19-4acd-9943-ddf5ce6050a9",
   "metadata": {},
   "outputs": [],
   "source": [
    "es.close()"
   ]
  },
  {
   "cell_type": "code",
   "execution_count": null,
   "id": "23eb1534-ff47-4f32-900a-6a2fa8ff7ac2",
   "metadata": {},
   "outputs": [],
   "source": []
  }
 ],
 "metadata": {
  "kernelspec": {
   "display_name": "Python 3 (ipykernel)",
   "language": "python",
   "name": "python3"
  },
  "language_info": {
   "codemirror_mode": {
    "name": "ipython",
    "version": 3
   },
   "file_extension": ".py",
   "mimetype": "text/x-python",
   "name": "python",
   "nbconvert_exporter": "python",
   "pygments_lexer": "ipython3",
   "version": "3.9.19"
  }
 },
 "nbformat": 4,
 "nbformat_minor": 5
}
