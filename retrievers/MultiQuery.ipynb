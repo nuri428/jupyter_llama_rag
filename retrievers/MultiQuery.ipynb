{
 "cells": [
  {
   "cell_type": "code",
   "execution_count": 1,
   "id": "ac23c9e9-3fe1-482d-8d32-07049b574944",
   "metadata": {
    "tags": []
   },
   "outputs": [],
   "source": [
    "from dotenv import load_dotenv\n",
    "import os\n",
    "load_dotenv()\n",
    "os.environ[\"LANGCHAIN_TRACING_V2\"] = \"true\"\n",
    "os.environ[\"LANGCHAIN_API_KEY\"] = os.getenv(\"LANGCHAIN_API_KEY\")\n",
    "OPENAI_API_KEY = os.getenv(\"OPENAI_API_KEY\")\n",
    "ES_HOST = os.getenv(\"ES_HOST\")\n",
    "ES_USER_ID = os.getenv(\"ES_ID\")\n",
    "ES_PASSWD = os.getenv(\"ES_PWD\")\n",
    "ES_INDEX_NAME = os.getenv(\"ES_INDEX_NAME\")\n",
    "EMBEDDING_BASE_URL=os.getenv(\"EMBEDDING_BASE_URL\")\n",
    "EMBEDDING_MODEL=os.getenv(\"EMBEDDING_MODEL\")\n",
    "HUGGINGFACEHUB_API_TOKEN = os.getenv(\"HUGGUNGFACE_TOKEN\")"
   ]
  },
  {
   "cell_type": "code",
   "execution_count": 2,
   "id": "e5de7f97-d01b-4ed9-98a9-8161a6462906",
   "metadata": {
    "tags": []
   },
   "outputs": [],
   "source": [
    "# from langchain_community.vectorstores.elasticsearch import ElasticsearchStore\n",
    "# from langchain_community.vectorstores.elastic_vector_search import ElasticKnnSearch\n",
    "# %pip install lark\n",
    "from langchain_elasticsearch import ElasticsearchStore, DenseVectorStrategy, ElasticsearchEmbeddings\n",
    "from langchain_elasticsearch import ElasticsearchRetriever\n",
    "from elasticsearch import Elasticsearch\n",
    "from langchain_community.embeddings import HuggingFaceHubEmbeddings\n",
    "from langchain_openai import ChatOpenAI\n",
    "from langchain.retrievers import MultiQueryRetriever, SelfQueryRetriever\n",
    "from pydantic.v1 import BaseModel, Field  # <-- Uses v1 namespace\n",
    "from langchain.tools import StructuredTool"
   ]
  },
  {
   "cell_type": "code",
   "execution_count": 3,
   "id": "cce90c90-c65d-4e54-b896-a4b15155f713",
   "metadata": {
    "tags": []
   },
   "outputs": [
    {
     "name": "stderr",
     "output_type": "stream",
     "text": [
      "/Users/nuri/dev/jupyter/.venv/lib/python3.9/site-packages/langchain_core/_api/deprecation.py:139: LangChainDeprecationWarning: The class `HuggingFaceHubEmbeddings` was deprecated in LangChain 0.2.2 and will be removed in 0.3.0. An updated version of the class exists in the langchain-huggingface package and should be used instead. To use it run `pip install -U langchain-huggingface` and import as `from langchain_huggingface import HuggingFaceEndpointEmbeddings`.\n",
      "  warn_deprecated(\n"
     ]
    }
   ],
   "source": [
    "embeddings = HuggingFaceHubEmbeddings(model=EMBEDDING_BASE_URL, huggingfacehub_api_token=HUGGINGFACEHUB_API_TOKEN)"
   ]
  },
  {
   "cell_type": "code",
   "execution_count": 4,
   "id": "1ceac809-633d-4311-842a-2a0c1926b0bd",
   "metadata": {
    "tags": []
   },
   "outputs": [],
   "source": [
    "from langchain.chains.query_constructor.base import AttributeInfo\n",
    "metadata_field_info = [\n",
    "    AttributeInfo(\n",
    "        name=\"text\",\n",
    "        description=\"The Content of news article\",\n",
    "        type=\"string\",\n",
    "    ),\n",
    "    AttributeInfo(\n",
    "        name=\"vector\",\n",
    "        description=\"this field is embedding of text field\",\n",
    "        type=\"vector\",\n",
    "    ),\n",
    "    AttributeInfo(\n",
    "        name=\"title\",\n",
    "        description=\"The title of the article or document\",\n",
    "        type=\"string\",\n",
    "    ),\n",
    "    AttributeInfo(\n",
    "        name=\"created_date\",\n",
    "        description=\"The creation date of the article or document. That field format is 'YYYY-MM-DD' \",\n",
    "        type=\"date\",\n",
    "    ),\n",
    "    AttributeInfo(\n",
    "        name=\"portal\",\n",
    "        description=\"portal of the article or document. It can be daum, naver, etc\",\n",
    "        type=\"string\",\n",
    "    ),\n",
    "    AttributeInfo(\n",
    "        name=\"media\", description=\"The newspaper that created the article\", type=\"String\"\n",
    "    ),\n",
    "    AttributeInfo(\n",
    "        name=\"url\", description=\"The URL address where the data was posted\", type=\"String\"\n",
    "    ),\n",
    "    AttributeInfo(\n",
    "        name=\"image_url\", description=\"The URL of the image included in the article\", type=\"String\"\n",
    "    ),\n",
    "]\n",
    "document_content_description = \"this document is news article\""
   ]
  },
  {
   "cell_type": "code",
   "execution_count": 5,
   "id": "9b062c89-edbc-44a5-8e56-9d0157e1e3c3",
   "metadata": {
    "tags": []
   },
   "outputs": [
    {
     "name": "stderr",
     "output_type": "stream",
     "text": [
      "/var/folders/jy/5_rl6575533638lskdr9s6s00000gn/T/ipykernel_6765/1668103102.py:1: DeprecationWarning: The 'timeout' parameter is deprecated in favor of 'request_timeout'\n",
      "  es = Elasticsearch([ES_HOST], basic_auth=(ES_USER_ID, ES_PASSWD), ca_certs=\"./../certs/ca.crt\", verify_certs=False, timeout=120)\n",
      "/Users/nuri/dev/jupyter/.venv/lib/python3.9/site-packages/elasticsearch/_sync/client/__init__.py:399: SecurityWarning: Connecting to 'https://192.168.0.10:9200' using TLS with verify_certs=False is insecure\n",
      "  _transport = transport_class(\n"
     ]
    }
   ],
   "source": [
    "es = Elasticsearch([ES_HOST], basic_auth=(ES_USER_ID, ES_PASSWD), ca_certs=\"./../certs/ca.crt\", verify_certs=False, timeout=120)\n",
    "vector_store = ElasticsearchStore(\n",
    "    embedding=embeddings,\n",
    "    index_name=ES_INDEX_NAME,\n",
    "    es_connection=es,\n",
    "    strategy=DenseVectorStrategy(hybrid=True),\n",
    ")"
   ]
  },
  {
   "cell_type": "code",
   "execution_count": 6,
   "id": "5c6dfa14-abe4-4438-96c4-f2143d9d97f7",
   "metadata": {
    "tags": []
   },
   "outputs": [],
   "source": [
    "from langchain.chains.query_constructor.base import (\n",
    "    StructuredQueryOutputParser,\n",
    "    get_query_constructor_prompt,\n",
    ")\n",
    "\n",
    "llm = ChatOpenAI(model_name=\"gpt-4o\", temperature=0)\n",
    "\n",
    "prompt = get_query_constructor_prompt(\n",
    "    document_content_description,\n",
    "    metadata_field_info,\n",
    "    enable_limit=True\n",
    ")\n",
    "output_parser = StructuredQueryOutputParser.from_components()\n",
    "query_constructor = prompt | llm | output_parser\n"
   ]
  },
  {
   "cell_type": "code",
   "execution_count": 8,
   "id": "90b2ccf0-b6e6-4122-bcf6-d47b3a1c322b",
   "metadata": {
    "tags": []
   },
   "outputs": [],
   "source": [
    "import logging\n",
    "logging.basicConfig()\n",
    "logging.getLogger(\"langchain.retrievers.multi_query\").setLevel(logging.INFO)\n",
    "from langchain.retrievers.self_query.elasticsearch import ElasticsearchTranslator\n",
    "\n",
    "# retriever = SelfQueryRetriever.from_llm(\n",
    "#     llm,\n",
    "#     vector_store,\n",
    "#     document_content_description,\n",
    "#     metadata_field_info,\n",
    "#     structured_query_translator=ElasticsearchTranslator()\n",
    "# )\n",
    "\n",
    "retriever = SelfQueryRetriever(\n",
    "    query_constructor=query_constructor,\n",
    "    vectorstore=vector_store,    \n",
    "    structured_query_translator=ElasticsearchTranslator(),\n",
    ")\n",
    "retrievers_multi = MultiQueryRetriever.from_llm(\n",
    "        retriever=retriever,\n",
    "        llm=llm,\n",
    "#     document_content_description,\n",
    "#     metadata_field_info,\n",
    "    # structured_query_translator=ElasticsearchTranslator()\n",
    ")\n"
   ]
  },
  {
   "cell_type": "code",
   "execution_count": 10,
   "id": "d2b73946-135e-4658-a770-7bae9ffa0325",
   "metadata": {
    "tags": []
   },
   "outputs": [],
   "source": [
    "# query_constructor.invoke(\"삼성전자와 HMB 관련된 2024년 6월 이후 뉴스 관련도가 높은 순서대로 10개를 보여줘\")"
   ]
  },
  {
   "cell_type": "code",
   "execution_count": 13,
   "id": "d58bee96-ff1c-45ad-9917-1f03034eaa71",
   "metadata": {
    "tags": []
   },
   "outputs": [
    {
     "name": "stderr",
     "output_type": "stream",
     "text": [
      "/Users/nuri/dev/jupyter/.venv/lib/python3.9/site-packages/langchain_core/_api/deprecation.py:139: LangChainDeprecationWarning: The method `BaseRetriever.get_relevant_documents` was deprecated in langchain-core 0.1.46 and will be removed in 0.3.0. Use invoke instead.\n",
      "  warn_deprecated(\n",
      "INFO:langchain.retrievers.multi_query:Generated queries: ['1. 2024년 6월 이후 삼성전자와 HMB에 관한 최신 뉴스 10개를 순위별로 보여주세요.', '2. 삼성전자와 HMB에 대한 2024년 6월 이후의 주요 뉴스 10개를 관련도 높은 순으로 제공해 주세요.', '3. 2024년 6월 이후 삼성전자와 HMB 관련 뉴스 중에서 가장 관련성이 높은 10개를 찾아주세요.']\n",
      "/Users/nuri/dev/jupyter/.venv/lib/python3.9/site-packages/urllib3/connectionpool.py:1063: InsecureRequestWarning: Unverified HTTPS request is being made to host '192.168.0.10'. Adding certificate verification is strongly advised. See: https://urllib3.readthedocs.io/en/1.26.x/advanced-usage.html#ssl-warnings\n",
      "  warnings.warn(\n",
      "/Users/nuri/dev/jupyter/.venv/lib/python3.9/site-packages/urllib3/connectionpool.py:1063: InsecureRequestWarning: Unverified HTTPS request is being made to host '192.168.0.10'. Adding certificate verification is strongly advised. See: https://urllib3.readthedocs.io/en/1.26.x/advanced-usage.html#ssl-warnings\n",
      "  warnings.warn(\n"
     ]
    },
    {
     "name": "stdout",
     "output_type": "stream",
     "text": [
      "10\n"
     ]
    },
    {
     "name": "stderr",
     "output_type": "stream",
     "text": [
      "/Users/nuri/dev/jupyter/.venv/lib/python3.9/site-packages/urllib3/connectionpool.py:1063: InsecureRequestWarning: Unverified HTTPS request is being made to host '192.168.0.10'. Adding certificate verification is strongly advised. See: https://urllib3.readthedocs.io/en/1.26.x/advanced-usage.html#ssl-warnings\n",
      "  warnings.warn(\n"
     ]
    }
   ],
   "source": [
    "# result = retrievers_multi.invoke(\"삼성전자와 HMB 관련된 2024년 6월 이후 뉴스 관련도가 높은 순서대로 10개를 보여줘\")\n",
    "result = retrievers_multi.get_relevant_documents(\"삼성전자와 HMB 관련된 2024년 6월 이후 뉴스 관련도가 높은 순서대로 10개를 보여줘\")\n",
    "print(len(result))"
   ]
  },
  {
   "cell_type": "code",
   "execution_count": 14,
   "id": "5afdd3ba-efab-426f-95b2-f96d73438766",
   "metadata": {
    "tags": []
   },
   "outputs": [
    {
     "name": "stdout",
     "output_type": "stream",
     "text": [
      "page_content='5일 한국거래소에 따르면 이날 3.59% 상승 출발한 삼성전자의 주가는 전일 대비 2100원(2.79%) 오른 7만7400원에 거래를 마감했다. 삼성전자는 엔비디아 호재에 힘입어 전날 장 마감후 시간외거래에서 4.12%까지 치솟기도 했다.\n",
      "업계에 따르면 황 CEO는 전날 열린 기자간담회에서 삼성전자 HBM의 엔비디아 제품 탑재 계획에 대해 \"삼성전자와 SK하이닉스, 마이크론과 모두 협력 중이고, 이들 업체에서 모두 제품을 제공받을 것\"이라는 입장을 밝혔다.\n",
      "그는 최근 삼성전자 HBM이 발열 등 문제로 엔비디아의 퀄 테스트를 통과하지 못했다는 추측과 관련해 \"어제도 테스트가 진행 중이었고 테스트를 통과하지 못한 게 아니다\"고 일축했다.\n",
      "황 CEO가 삼성전자 HBM의 퀄테스트 실패 루머를 정면 반박한데다 HBM 제품 공급에 대한 긍정적인 답을 내놓으면서 삼성전자의 HMB 엔비디아 납품 가능성이 커질 전망이다.\n",
      "박유악 키움증권 연구원은 \"삼성전자는 엔디비아향 HBM3(4세대)와 HBM3E(5세대) 모두 퀄 테스트가 진행 중에 있다\"며 \"HBM 뿐만 아니라 9세대 V낸드 양산에도 나서며, 메모리 기술 리더십 탈환에 나설 것\"이라고 전망했다.\n",
      "한동희 SK증권 연구원은 \"AI 수요 강세와 HBM 중요성, 기술 경쟁, 수율 저하, 가격 반등세 등을 감안하면 삼성전자의 내년 HBM 계약은 올해 3분기 중 마무리 될 가능성이 매우 높다\"고 판단했다.\n",
      "한편 삼성전자는 현재 5세대 HBM인 '12단 HBM3E'의 엔비디아 퀄테스트 통과에 주력하고 있다.\n",
      "☞공감언론 뉴시스 byh@newsis.com' metadata={'id': 630328, 'hash_key': '2f2dc9198216783cf76625f371dcd4da', 'title': '젠슨 황 \"HBM 테스트 실패 아냐\" 삼성전자, 2.79%↑[핫스탁](종합)', 'created_date': '2024-06-05T16:04:50', 'portal': 'daum', 'media': '뉴시스', 'url': 'https://v.daum.net/v/20240605160450516', 'image_url': 'https://img1.daumcdn.net/thumb/S1200x630/?fname=https://t1.daumcdn.net/news/202406/05/newsis/20240605160450447seka.jpg'}\n",
      "\n",
      "page_content='젠슨 황 \"HBM 테스트 실패 아냐\" 삼성전자, 2.79%↑[핫스탁](종합)\n",
      "삼성전자의 주가가 '엔비디아 호재'에 힘입어 상승 마감했다.\n",
      "젠슨 황 엔비디아 최고경영자(CEO)가 삼성전자의 고대역폭메모리(HBM) 퀄테스트(품질검증)가 실패한 것이 아니라는 입장을 내놓으면서 납품 기대감이 주가를 끌어올린 것으로 해석된다.\n",
      "황 CEO가 삼성전자 HBM의 퀄테스트 실패 루머를 정면 반박한데다 HBM 제품 공급에 대한 긍정적인 답을 내놓으면서 삼성전자의 HMB 엔비디아 납품 가능성이 커질 전망이다.\n",
      "이 글자크기로 변경됩니다.\n",
      "(예시) 가장 빠른 뉴스가 있고 다양한 정보, 쌍방향 소통이 숨쉬는 다음뉴스를 만나보세요. 다음뉴스는 국내외 주요이슈와 실시간 속보, 문화생활 및 다양한 분야의 뉴스를 입체적으로 전달하고 있습니다.\n",
      "'엔비디아 호재' 삼성전자 주가 2.79% 상승 마감\n",
      "[서울=뉴시스] 배요한 기자 = 삼성전자의 주가가 '엔비디아 호재'에 힘입어 상승 마감했다. 젠슨 황 엔비디아 최고경영자(CEO)가 삼성전자의 고대역폭메모리(HBM) 퀄테스트(품질검증)가 실패한 것이 아니라는 입장을 내놓으면서 납품 기대감이 주가를 끌어올린 것으로 해석된다.\n",
      "5일 한국거래소에 따르면 이날 3.59% 상승 출발한 삼성전자의 주가는 전일 대비 2100원(2.79%) 오른 7만7400원에 거래를 마감했다. 삼성전자는 엔비디아 호재에 힘입어 전날 장 마감후 시간외거래에서 4.12%까지 치솟기도 했다.' metadata={'id': 630328, 'hash_key': '2f2dc9198216783cf76625f371dcd4da', 'title': '젠슨 황 \"HBM 테스트 실패 아냐\" 삼성전자, 2.79%↑[핫스탁](종합)', 'created_date': '2024-06-05T16:04:50', 'portal': 'daum', 'media': '뉴시스', 'url': 'https://v.daum.net/v/20240605160450516', 'image_url': 'https://img1.daumcdn.net/thumb/S1200x630/?fname=https://t1.daumcdn.net/news/202406/05/newsis/20240605160450447seka.jpg'}\n",
      "\n",
      "page_content='이날 오후 2시 16분 기준 삼성전자(005930)는 전 거래일 대비 2.66% 상승한 7만 7300원에 거래되고 있다.\n",
      "황 CEO는 전날 열린 기자간담회에서 삼성전자 HBM을 엔비디아 제품에 탑재할 계획에 대해 “삼성전자와 SK 하이닉스, 마이크론과 모두 협력 중”이라고 언급하면서, 퀄테스트 문제를 언급하며 “테스트를 통과하지 못한 것이 아니다”라고 일축했다.\n",
      "이에 따라 삼성전자가 엔비디아에 HBM을 납품 가능성이 다시금 열리면서 기대감으로 주가가 올랐다.\n",
      "박유악 키움증권 연구원은 “삼성전자는 엔디비아향 HBM3(4세대)와 HBM3E(5세대) 모두 퀄 테스트가 진행 중에 있다”며 “HBM 뿐만 아니라 9세대 V낸드 양산에도 나서며, 메모리 기술 리더십 탈환에 나설 것”이라고 전망했다.\n",
      "#삼성전자 #AI 매매신호 #실시간 매매타이밍 #알림 신청\n",
      "이 기사는 전자신문과 금융 AI 전문기업 씽크풀이 공동으로 작성한 것입니다. AI를 기반으로 생성된 데이터에 기자의 취재 내용을 추가한 'AI 휴머노이드 기사'입니다.\n",
      "※ ET라씨로에서 실시간 속보 확인하기\n",
      "서희원 기자 shw@etnews.com\n",
      "Copyright © 전자신문. 무단전재 및 재배포 금지.' metadata={'id': 630070, 'hash_key': '2b0797ed0289eef89575ca3037c54533', 'title': '[ET라씨로] 엔비디아 젠슨 황 발언에…삼성전자 2%대↑', 'created_date': '2024-06-05T14:23:41', 'portal': 'daum', 'media': '전자신문', 'url': 'https://v.daum.net/v/20240605142341863', 'image_url': 'https://img1.daumcdn.net/thumb/S1200x630/?fname=https://t1.daumcdn.net/news/202406/05/etimesi/20240605142342971ssvi.gif'}\n",
      "\n",
      "page_content='젠슨 황 \"HBM 테스트 실패 아니다\" 삼성전자, 3% 강세[핫스탁]\n",
      "삼성전자의 주가가 장 초반부터 강세를 보이고 있다.\n",
      "젠슨 황 엔비디아 최고경영자(CEO)가 삼성전자의 고대역폭메모리(HBM) 퀄테스트(품질검증)가 실패한 것이 아니라는 입장을 내놓으면서 납품 기대감이 주가를 끌어올린 것으로 해석된다.\n",
      "황 CEO가 삼성전자 HBM의 퀄테스트 실패 루머를 정면 반박한데다 HBM 제품 공급에 대한 긍정적인 답을 내놓으면서 삼성전자의 HMB 엔비디아 납품 가능성이 커질 전망이다.\n",
      "이 글자크기로 변경됩니다.\n",
      "(예시) 가장 빠른 뉴스가 있고 다양한 정보, 쌍방향 소통이 숨쉬는 다음뉴스를 만나보세요. 다음뉴스는 국내외 주요이슈와 실시간 속보, 문화생활 및 다양한 분야의 뉴스를 입체적으로 전달하고 있습니다.\n",
      "'엔비디아 호재' 삼성전자 주가 3.59% 상승 출발\n",
      "[서울=뉴시스] 배요한 기자 = 삼성전자의 주가가 장 초반부터 강세를 보이고 있다. 젠슨 황 엔비디아 최고경영자(CEO)가 삼성전자의 고대역폭메모리(HBM) 퀄테스트(품질검증)가 실패한 것이 아니라는 입장을 내놓으면서 납품 기대감이 주가를 끌어올린 것으로 해석된다.\n",
      "5일 한국거래소에 따르면 오전 9시7분 현재 삼성전자의 주가는 전일 대비 2100원(2.79%) 오른 7만7400원에 거래되고 있다. 이날 삼성전자는 3.59% 상승 출발했지만 차익실현 매물이 출회되면서 2%대 후반에서 매매 공방이 벌어지고 있다.\n",
      "삼성전자는 엔비디아 호재에 힘입어 전날 장 마감후 시간외거래에서 4.12%까지 치솟기도 했다.' metadata={'id': 629280, 'hash_key': '05999dcb24612a9896d436569d103b5c', 'title': '젠슨 황 \"HBM 테스트 실패 아니다\" 삼성전자, 3% 강세[핫스탁]', 'created_date': '2024-06-05T09:16:06', 'portal': 'daum', 'media': '뉴시스', 'url': 'https://v.daum.net/v/20240605091606619', 'image_url': 'https://img1.daumcdn.net/thumb/S1200x630/?fname=https://t1.daumcdn.net/news/202406/05/newsis/20240605091847699zkuc.jpg'}\n",
      "\n",
      "page_content='삼성전자는 “하반기에는 HBM 생산 능력 확충을 통해 HBM3E 판매 비중을 확대할 예정”이라며 “서버용 D램 분야에서도 1b나노 32Gb DDR5 기반의 128GB, 256GB 모듈 등 고용량 제품을 기반으로 시장 경쟁력을 강화해 나갈 계획”이라고 말했다.\n",
      "삼성전자는 또 시장 주도권을 잡기 위해 지난 4일 ‘HBM 개발팀’을 신설하는 등 대대적 조직 개편도 단행했다. HBM 개발팀은 HBM3와 HBM3E뿐 아니라 차세대 HBM4(6세대) 기술 개발에 집중한다. HBM4의 경우 2025년 샘플링, 2026년 양산을 목표로 개발 중이다.\n",
      "Copyright © 국제신문. 무단전재 및 재배포 금지.' metadata={'id': 690253, 'hash_key': '08aba6c0297012e0aea723bfdc63215f', 'title': '삼성전자 2분기 반도체 6조 이상 흑자…SK하이닉스와 격차 벌린다', 'created_date': '2024-07-31T11:54:10', 'portal': 'daum', 'media': '국제신문', 'url': 'https://v.daum.net/v/20240731115410759', 'image_url': 'https://img1.daumcdn.net/thumb/S1200x630/?fname=https://t1.daumcdn.net/news/202407/31/kookje/20240731115411738scii.jpg'}\n",
      "\n",
      "page_content='삼성전자는 HBM4를 HBM 역전의 기회로 삼겠다는 복안이다. 삼성전자는 시스템LSI사업부와 파운드리사업부를 모두 보유하고 있어, HBM4 베이스 다이 초기 설계부터 성능 최적화를 위해 함께 움직일 수 있기 때문이다. 엔비디아 같은 칩 제조사는 파운드리와 패키징 등 전체 프로세스를 단일 업체에 맡기고 싶어 하기 때문에 삼성전자가 강점으로 내세우는 이른바 '턴키(일괄생산)' 전략으로 수주전에서 경쟁력을 보일 수 있다.\n",
      "특히, 삼성전자가 HBM에 적용 중인 비전도성필름(NCF) 기술은 고적층에 유리해 단수가 16층으로 높아지는 HBM4에 최적이라는 평가를 받고 있다. 삼성전자는 더 낮은 높이로도 고적층이 가능한 하이브리드본딩 기술 개발에도 속도를 내고 있다. 지난 4월에는 하이브리드본딩을 적용해 16단 HBM4를 구현했다고 밝히기도 했다.\n",
      "삼성전자는 최근 '삼성 파운드리 포럼'을 통해 HBM4부터 고객 맞춤형 제품을 현실화하겠다는 입장을 밝히기도 했다. 삼성전자는 고객사에게 HBM D램과 파운드리, 첨단 패키징 등을 일괄 제공하는 'AI 솔루션' 전략을 제시한 바 있다．\n",
      "한예주 기자 dpwngks@asiae.co.kr\n",
      "Copyright © 아시아경제. 무단전재 및 재배포 금지.' metadata={'id': 677421, 'hash_key': '0af2567b72986d474de5e1803b718f9e', 'title': \"[칩톡]차세대 'HBM4' 표준화 코앞…삼성전자 vs TSMC·SK하이닉스 연합군 승자는?\", 'created_date': '2024-07-20T07:00:17', 'portal': 'daum', 'media': '아시아경제', 'url': 'https://v.daum.net/v/20240720070017422', 'image_url': 'https://img1.daumcdn.net/thumb/S1200x630/?fname=https://t1.daumcdn.net/news/202407/20/akn/20240720070019106iulx.jpg'}\n",
      "\n",
      "page_content='5일 한국거래소에 따르면 오전 9시7분 현재 삼성전자의 주가는 전일 대비 2100원(2.79%) 오른 7만7400원에 거래되고 있다. 이날 삼성전자는 3.59% 상승 출발했지만 차익실현 매물이 출회되면서 2%대 후반에서 매매 공방이 벌어지고 있다.\n",
      "삼성전자는 엔비디아 호재에 힘입어 전날 장 마감후 시간외거래에서 4.12%까지 치솟기도 했다.\n",
      "업계에 따르면 황 CEO는 전날 열린 기자간담회에서 삼상전자 HBM의 엔비디아 제품 탑재 계획에 대해 \"삼성전자와 SK하이닉스, 마이크론과 모두 협력 중이고, 이들 업체에서 모두 제품을 제공받을 것\"이라는 입장을 밝혔다.\n",
      "그는 최근 삼성전자 HBM이 발열 등 문제로 엔비디아의 퀄 테스트를 통과하지 못했다는 추측과 관련해 \"어제도 테스트가 진행 중이었고 테스트를 통과하지 못한 게 아니다\"고 일축했다.\n",
      "황 CEO가 삼성전자 HBM의 퀄테스트 실패 루머를 정면 반박한데다 HBM 제품 공급에 대한 긍정적인 답을 내놓으면서 삼성전자의 HMB 엔비디아 납품 가능성이 커질 전망이다.\n",
      "박유악 키움증권 연구원은 \"삼성전자는 엔디비아향 HBM3(4세대)와 HBM3E(5세대) 모두 퀄 테스트가 진행 중에 있다\"며 \"HBM 뿐만 아니라 9세대 V낸드 양산에도 나서며, 메모리 기술 리더십 탈환에 나설 것\"이라고 전망했다.\n",
      "한동희 SK증권 연구원은 \"AI 수요 강세와 HBM 중요성, 기술 경쟁, 수율 저하, 가격 반등세 등을 감안하면 삼성전자의 내년 HBM 계약은 올해 3분기 중 마무리 될 가능성이 매우 높다\"고 판단했다.' metadata={'id': 629280, 'hash_key': '05999dcb24612a9896d436569d103b5c', 'title': '젠슨 황 \"HBM 테스트 실패 아니다\" 삼성전자, 3% 강세[핫스탁]', 'created_date': '2024-06-05T09:16:06', 'portal': 'daum', 'media': '뉴시스', 'url': 'https://v.daum.net/v/20240605091606619', 'image_url': 'https://img1.daumcdn.net/thumb/S1200x630/?fname=https://t1.daumcdn.net/news/202406/05/newsis/20240605091847699zkuc.jpg'}\n",
      "\n",
      "page_content='하지만 최근 들어 삼성전자에 대한 투심이 다시 회복되는 모습이다. 지난 4일 젠슨 황 엔비디아 최고경영자(CEO)가 삼성전자의 HBM 퀄테스트(품질검증)가 실패한 게 아니라고 직접 반박하면서다. 젠슨 황의 발언 바로 다음 날인 지난 5일 외국인은 국내 증시에서 삼성전자(3978억원·1위)를 가장 많이 사들이면서 다시 러브콜을 보내고 있다. 시황 전문가들은 젠슨 황의 발언이 실제 투심에도 긍정적 영향을 미쳤다고 보고, 삼성전자의 반등에 따라 국내 증시 밸류에이션도 개선될 것으로 기대했다.\n",
      "실제 삼성전자의 HMB 엔비디아 납품 가능성에 청신호가 켜졌다는 평가도 많다. 박유악 키움증권 연구원은 \"삼성전자는 엔디비아향 HBM3(4세대)와 HBM3E(5세대) 모두 퀄 테스트가 진행 중에 있다\"며 \"HBM 뿐만 아니라 9세대 V낸드 양산에도 나서며, 메모리 기술 리더십 탈환에 나설 것\"이라고 전망했다. 한동희 SK증권 연구원도 \"삼성전자의 내년 HBM 계약은 올해 3분기 중 마무리 될 가능성이 매우 높다\"고 판단했다.\n",
      "이에 삼성전자의 주가는 저평가됐다는 분석이다. 금융정보업체 에프앤가이드에 따르면, 삼성전자의 적정주가 컨센서스(평균의견)는 10만4200원 정도다. 전날 종가 7만7400원과 비교하면 약 35%의 상승 여력이 있는 셈이다. KB증권과 한국투자증권은 가장 높은 적정주가인 12만원을 제시했다. 이 밖에도 미래에셋증권·삼성증권·신한투자증권 등 5곳이 11만원을 목표로 삼았다.' metadata={'id': 631003, 'hash_key': '37d9cbcc82fc8615e0836d5ad75ebce3', 'title': '젠슨황 ‘삼성 테스트 실패설’ 직접 반박에…外人, 삼성전자로 돌아오나 [투자360]', 'created_date': '2024-06-06T07:02:45', 'portal': 'daum', 'media': '헤럴드경제', 'url': 'https://v.daum.net/v/20240606070246038', 'image_url': 'https://img1.daumcdn.net/thumb/S1200x630/?fname=https://t1.daumcdn.net/news/202406/06/ned/20240606070246233oxzi.jpg'}\n",
      "\n",
      "page_content='삼성전자 HBM 개발팀 신설… 전영현號 첫 조직개편\n",
      "차세대 HBM 기술 지휘봉 잡아\n",
      "AVP·설비기술연구소 등 재편\n",
      "\"AI 반도체 주도권 탈환\" 정조준\n",
      "■HBM 개발팀 신설\n",
      "4일 반도체업계에 따르면 삼성전자 DS부문은 이날 △HBM 개발팀 신설 △어드밴스드 패키징(AVP) 개발팀 재편 △설비기술연구소 재편 등을 골자로 하는 조직 개편을 단행했다.\n",
      "업계에 따르면 신임 HBM 개발팀장은 고성능 D램 제품 설계 전문가인 손영수 메모리 디자인플랫폼 개발실장(부사장)이 맡는다. 손 부사장은 2003년 삼성전자에 입사해 D램 설계 및 상품기획 전문가로 차세대 D램 제품 로드맵 구축과 신규 고객확보 등을 통해 D램사업 경쟁력 향상에 기여한 것으로 평가받는다. 손 부사장은 신설되는 HBM 개발팀을 진두지휘하며 HBM3(4세대)와 HBM3E(5세대)뿐 아니라 차세대 HBM4 기술 개발에 집중할 것으로 보인다.\n",
      "삼성전자는 2015년부터 HBM 개발 조직을 운영 중이었으며, 이번에 신설된 HBM 개발팀은 HBM4 이후의 차세대 제품과 현 제품 개발로 나눠진 조직을 합친 것이다. 삼성전자는 차세대 HBM 개발을 위해 AVP팀의 일부 패키징 인력도 HBM 개발팀으로 이동시켰다. 삼성전자가 팀 형태로 HBM 관련 조직을 꾸린 건 이번이 처음이다.\n",
      "앞서 삼성전자는 2015년부터 메모리사업부 내에서 HBM 개발 조직을 운영해 왔는데 이번 조직 개편으로 SK하이닉스에게 빼앗긴 HBM 주도권 되찾겠다는 의지가 반영된 것으로 해석된다. 현재 삼성전자는 HBM3E 8단과 12단 제품은 엔비디아의 품질 테스트를 진행 중이다.' metadata={'id': 658506, 'hash_key': '05e0676472033ce75d731bfbc64a0bbd', 'title': '삼성전자 HBM 개발팀 신설… 전영현號 첫 조직개편', 'created_date': '2024-07-04T18:16:28', 'portal': 'naver', 'media': '파이낸셜뉴스 | 네이버', 'url': 'https://n.news.naver.com/mnews/article/014/0005209000?rc=N&ntype=RANKING&sid=101', 'image_url': 'https://imgnews.pstatic.net/image/014/2024/07/04/0005209000_001_20240704181628412.jpg?type=w800'}\n",
      "\n",
      "page_content='와이씨가 국산화에 성공한 HBM용 검사장비는 5세대인 HBM3E와 6세대인 HBM4까지 대응이 가능한 신제품이다. 이번 계약을 시작으로 차세대 HBM 투자에 따른 수혜가 기대된다고 회사 측은 설명했다.\n",
      "와이씨의 주 고객사인 삼성전자는 최근 엔비디아의 HBM3 퀄테스트를 통과했고, 연내 HBM3E의 테스트 통과가 예상된다. 삼성전자가 본격적인 양산에 들어가면 와이씨 검사장비 수요도 지속적으로 증가할 전망이다.\n",
      "업계 관계자는 \"삼성전자가 하반기 HBM3E 제품의 엔디비아 공급에 성공하면 차세대 HMB 공급도 안정적으로 진행될 것\"이라며 \"각각 주요 거점 공장들의 HBM 생산능력이 지속적으로 확대되면서 관련 검사장비 수요 증가도 예상된다\"고 말했다.\n",
      "와이씨는 하반기 HBM용 검사장비 공급을 통해 본격적인 실적 개선을 기대하고 있다.\n",
      "회사 관계자는 \"반도체 검사장비 시장에서 최고 기술력을 가진 와이씨는 이번 HBM3E, HBM4용 테스터의 개발 성공에 만족하지 않고, HBM5 이후 시장에도 선제적으로 대응할 수 있도록 고사양·고스펙의 검사장비를 추가로 개발할 계획이다\"라고 말했다.\n",
      "김건우 기자 jai@mt.co.kr\n",
      "Copyright © 머니투데이 & mt.co.kr. 무단 전재 및 재배포, AI학습 이용 금지' metadata={'id': 688119, 'hash_key': '382c8a9db0302f477a95e70fc52fa592', 'title': '와이씨, 국내 최초 삼성전자와 HBM 검사장비 공급계약 \"HBM4까지 대응 가능\"', 'created_date': '2024-07-29T09:48:02', 'portal': 'daum', 'media': '머니투데이', 'url': 'https://v.daum.net/v/20240729094802520', 'image_url': 'https://img1.daumcdn.net/thumb/S1200x630/?fname=https://t1.daumcdn.net/news/202407/29/moneytoday/20240729094803574fbqp.jpg'}\n",
      "\n"
     ]
    }
   ],
   "source": [
    "for article in result:\n",
    "    print(article)\n",
    "    print(\"\")"
   ]
  },
  {
   "cell_type": "code",
   "execution_count": null,
   "id": "5236feaa-5a6f-4069-9141-60780669455f",
   "metadata": {},
   "outputs": [],
   "source": []
  },
  {
   "cell_type": "code",
   "execution_count": 16,
   "id": "278bdc53-b647-4e41-8065-c34608e30a1e",
   "metadata": {
    "tags": []
   },
   "outputs": [],
   "source": [
    "# Geneator"
   ]
  },
  {
   "cell_type": "code",
   "execution_count": 17,
   "id": "7338299f-c5a8-44f0-93f6-36e81961a135",
   "metadata": {
    "tags": []
   },
   "outputs": [
    {
     "data": {
      "text/plain": [
       "AIMessage(content='\"Sora\"는 여러 가지 의미를 가질 수 있습니다. 어떤 맥락에서 \"Sora\"에 대해 알고 싶은지 구체적으로 말씀해 주시면 더 정확한 정보를 제공해 드릴 수 있습니다. 아래는 몇 가지 주요한 \"Sora\"의 예시입니다:\\n\\n1. **킹덤 하츠 (Kingdom Hearts) 시리즈**:\\n   - \"Sora\"는 스퀘어 에닉스와 디즈니가 공동 개발한 비디오 게임 시리즈 \"킹덤 하츠\"의 주인공입니다. 그는 키블레이드라는 무기를 사용하여 어둠의 세력과 싸우며, 다양한 디즈니 세계를 여행합니다.\\n\\n2. **Sora (소라) - 일본어**:\\n   - 일본어로 \"Sora\" (空)는 \"하늘\"을 의미합니다. 이는 일상 대화에서 자주 사용되는 단어입니다.\\n\\n3. **Sora (소라) - 인명**:\\n   - \"Sora\"는 일본에서 흔히 사용되는 이름 중 하나입니다. 남성과 여성 모두에게 사용될 수 있습니다.\\n\\n4. **Sora (소라) - 만화 및 애니메이션**:\\n   - 여러 만화 및 애니메이션 작품에서 \"Sora\"라는 이름을 가진 캐릭터들이 등장합니다. 예를 들어, \"디지몬 어드벤처\" 시리즈의 \"타케노우치 소라\"가 있습니다.\\n\\n5. **Sora (소라) - 기술 및 소프트웨어**:\\n   - \"Sora\"는 마이크로소프트 리서치에서 개발한 소프트웨어 정의 라디오 플랫폼의 이름이기도 합니다.\\n\\n어떤 \"Sora\"에 대해 더 알고 싶은지 구체적으로 말씀해 주시면, 더 자세한 정보를 제공해 드리겠습니다.', response_metadata={'token_usage': {'completion_tokens': 387, 'prompt_tokens': 13, 'total_tokens': 400}, 'model_name': 'gpt-4o-2024-05-13', 'system_fingerprint': 'fp_3aa7262c27', 'finish_reason': 'stop', 'logprobs': None}, id='run-303bcbd9-1da3-47e7-b620-7455950b1582-0', usage_metadata={'input_tokens': 13, 'output_tokens': 387, 'total_tokens': 400})"
      ]
     },
     "execution_count": 17,
     "metadata": {},
     "output_type": "execute_result"
    }
   ],
   "source": [
    "llm.invoke(\"sora에 대해서 알려줘\")"
   ]
  }
 ],
 "metadata": {
  "kernelspec": {
   "display_name": "Python 3 (ipykernel)",
   "language": "python",
   "name": "python3"
  },
  "language_info": {
   "codemirror_mode": {
    "name": "ipython",
    "version": 3
   },
   "file_extension": ".py",
   "mimetype": "text/x-python",
   "name": "python",
   "nbconvert_exporter": "python",
   "pygments_lexer": "ipython3",
   "version": "3.9.19"
  }
 },
 "nbformat": 4,
 "nbformat_minor": 5
}
