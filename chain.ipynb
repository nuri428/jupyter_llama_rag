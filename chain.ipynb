{
 "cells": [
  {
   "cell_type": "code",
   "execution_count": 2,
   "id": "4574a83c-e5c6-4987-8a5c-c0a17b881311",
   "metadata": {
    "tags": []
   },
   "outputs": [],
   "source": [
    "from dotenv import load_dotenv\n",
    "import os\n",
    "load_dotenv()\n",
    "os.environ[\"LANGCHAIN_TRACING_V2\"] = \"true\"\n",
    "os.environ[\"LANGCHAIN_API_KEY\"] = os.getenv(\"LANGCHAIN_API_KEY\")\n",
    "OPENAI_API_KEY = os.getenv(\"OPENAI_API_KEY\")\n",
    "ES_HOST = os.getenv(\"ES_HOST\")\n",
    "ES_USER_ID = os.getenv(\"ES_ID\")\n",
    "ES_PASSWD = os.getenv(\"ES_PWD\")\n",
    "ES_INDEX_NAME = os.getenv(\"ES_INDEX_NAME\")\n",
    "EMBEDDING_BASE_URL=os.getenv(\"EMBEDDING_BASE_URL\")\n",
    "EMBEDDING_MODEL=os.getenv(\"EMBEDDING_MODEL\")\n",
    "HUGGINGFACEHUB_API_TOKEN = os.getenv(\"HUGGUNGFACE_TOKEN\")"
   ]
  },
  {
   "cell_type": "code",
   "execution_count": 25,
   "id": "16983864-4591-46e1-8426-f806f113f351",
   "metadata": {
    "tags": []
   },
   "outputs": [],
   "source": [
    "# from langchain_community.vectorstores.elasticsearch import ElasticsearchStore\n",
    "# from langchain_community.vectorstores.elastic_vector_search import ElasticKnnSearch\n",
    "# %pip install lark\n",
    "from langchain_elasticsearch import ElasticsearchStore, DenseVectorStrategy, ElasticsearchEmbeddings\n",
    "from langchain_elasticsearch import ElasticsearchRetriever\n",
    "from elasticsearch import Elasticsearch\n",
    "from langchain_community.embeddings import HuggingFaceHubEmbeddings\n",
    "from langchain_openai import ChatOpenAI\n",
    "from langchain.retrievers import MultiQueryRetriever, SelfQueryRetriever\n",
    "from pydantic.v1 import BaseModel, Field  # <-- Uses v1 namespace\n",
    "from langchain.tools import StructuredTool"
   ]
  },
  {
   "cell_type": "code",
   "execution_count": 28,
   "id": "3e600dad-ec16-4590-9e48-8ee0983d5ff5",
   "metadata": {
    "tags": []
   },
   "outputs": [
    {
     "name": "stderr",
     "output_type": "stream",
     "text": [
      "/Users/nuri/dev/jupyter/.venv/lib/python3.9/site-packages/langchain_core/_api/deprecation.py:139: LangChainDeprecationWarning: The class `HuggingFaceHubEmbeddings` was deprecated in LangChain 0.2.2 and will be removed in 0.3.0. An updated version of the class exists in the langchain-huggingface package and should be used instead. To use it run `pip install -U langchain-huggingface` and import as `from langchain_huggingface import HuggingFaceEndpointEmbeddings`.\n",
      "  warn_deprecated(\n"
     ]
    }
   ],
   "source": [
    "embeddings = HuggingFaceHubEmbeddings(model=EMBEDDING_BASE_URL, huggingfacehub_api_token=HUGGINGFACEHUB_API_TOKEN)"
   ]
  },
  {
   "cell_type": "code",
   "execution_count": 3,
   "id": "123d08a4-3cc7-487b-9786-d5d81b321d7a",
   "metadata": {
    "tags": []
   },
   "outputs": [],
   "source": [
    "from langchain_openai import ChatOpenAI\n",
    "llm = ChatOpenAI(model_name=\"gpt-4o\", temperature=0)"
   ]
  },
  {
   "cell_type": "code",
   "execution_count": 4,
   "id": "7a7cde81-0ac4-49dc-9c8e-05dd7098f90b",
   "metadata": {
    "tags": []
   },
   "outputs": [],
   "source": [
    "from langchain_core.prompts import ChatPromptTemplate\n",
    "prompt = ChatPromptTemplate(\"Tell me something\")"
   ]
  },
  {
   "cell_type": "code",
   "execution_count": 5,
   "id": "e3d79506-8093-4823-8387-1d780089d4ab",
   "metadata": {
    "tags": []
   },
   "outputs": [],
   "source": [
    "chain = prompt | llm "
   ]
  },
  {
   "cell_type": "code",
   "execution_count": 6,
   "id": "951490ca-7070-406b-9508-4916fb8a547f",
   "metadata": {
    "tags": []
   },
   "outputs": [
    {
     "data": {
      "text/plain": [
       "AIMessage(content='Tell me something interesting!', response_metadata={'token_usage': {'completion_tokens': 5, 'prompt_tokens': 88, 'total_tokens': 93}, 'model_name': 'gpt-4o-2024-05-13', 'system_fingerprint': 'fp_c9aa9c0491', 'finish_reason': 'stop', 'logprobs': None}, id='run-44bf2768-b381-4390-817c-8be79cce1c28-0', usage_metadata={'input_tokens': 88, 'output_tokens': 5, 'total_tokens': 93})"
      ]
     },
     "execution_count": 6,
     "metadata": {},
     "output_type": "execute_result"
    }
   ],
   "source": [
    "chain.invoke({})"
   ]
  },
  {
   "cell_type": "code",
   "execution_count": 7,
   "id": "839b5061-273e-42de-930a-2205b4166094",
   "metadata": {
    "tags": []
   },
   "outputs": [],
   "source": [
    "from langchain_core.output_parsers import StrOutputParser\n",
    "chain = prompt | llm | StrOutputParser()"
   ]
  },
  {
   "cell_type": "code",
   "execution_count": 9,
   "id": "b06df4ba-68cd-4c77-92d3-b7cc258533d7",
   "metadata": {
    "tags": []
   },
   "outputs": [
    {
     "data": {
      "text/plain": [
       "'Tell me something interesting!'"
      ]
     },
     "execution_count": 9,
     "metadata": {},
     "output_type": "execute_result"
    }
   ],
   "source": [
    "chain.invoke({})"
   ]
  },
  {
   "cell_type": "markdown",
   "id": "5437d8ac-5423-4334-95ae-bf1debbfc448",
   "metadata": {},
   "source": [
    "# apply topic"
   ]
  },
  {
   "cell_type": "code",
   "execution_count": 10,
   "id": "5d1f7541-e011-498b-8bc3-012b5c9288e3",
   "metadata": {
    "tags": []
   },
   "outputs": [],
   "source": [
    "prompt = ChatPromptTemplate.from_template(\"Tell me something about {topic}\")"
   ]
  },
  {
   "cell_type": "code",
   "execution_count": 11,
   "id": "da173327-e567-45b8-b401-16907bd3b3d9",
   "metadata": {
    "tags": []
   },
   "outputs": [],
   "source": [
    "chain = prompt | llm | StrOutputParser()"
   ]
  },
  {
   "cell_type": "code",
   "execution_count": 12,
   "id": "736fe59d-44de-4216-8657-3705c2eb3e43",
   "metadata": {
    "tags": []
   },
   "outputs": [
    {
     "data": {
      "text/plain": [
       "'It seems like you might be referring to \"Sora\" in the context of software development or a specific project. However, \"Sora\" can refer to several different things depending on the context:\\n\\n1. **Sora (OverDrive)**: Sora is an app developed by OverDrive, Inc. that provides access to eBooks and audiobooks for students. It is designed for educational purposes, allowing students to borrow digital content from their school\\'s library.\\n\\n2. **Sora (Kingdom Hearts)**: Sora is also the main protagonist in the \"Kingdom Hearts\" video game series developed by Square Enix. This character is not related to software development but is well-known in the gaming community.\\n\\n3. **Sora (WebRTC)**: Sora is a WebRTC SFU (Selective Forwarding Unit) developed by Shiguredo Inc. It is used for real-time communication applications, enabling efficient video and audio streaming.\\n\\n4. **Sora (Programming Language)**: There is also a lesser-known programming language named Sora, which is designed for specific types of software development.\\n\\nIf you could provide more context or specify which \"Sora\" you are referring to, I could give you more detailed information!'"
      ]
     },
     "execution_count": 12,
     "metadata": {},
     "output_type": "execute_result"
    }
   ],
   "source": [
    "chain.invoke({\"topic\":\"sora develop by sora\"})"
   ]
  },
  {
   "cell_type": "markdown",
   "id": "9b517fd6-fd99-4819-90e2-483e33b71a3a",
   "metadata": {},
   "source": [
    "# 체인 분해"
   ]
  },
  {
   "cell_type": "code",
   "execution_count": 13,
   "id": "e30d69ea-3637-4d47-a8ea-97e8816797a8",
   "metadata": {
    "tags": []
   },
   "outputs": [
    {
     "data": {
      "text/plain": [
       "ChatPromptValue(messages=[HumanMessage(content='Tell me something about sora')])"
      ]
     },
     "execution_count": 13,
     "metadata": {},
     "output_type": "execute_result"
    }
   ],
   "source": [
    "prompt_formatter = prompt.invoke({\"topic\":\"sora\"})\n",
    "prompt_formatter\n"
   ]
  },
  {
   "cell_type": "code",
   "execution_count": 15,
   "id": "465b98e9-7b01-4eba-b9f7-71ac855b9454",
   "metadata": {
    "tags": []
   },
   "outputs": [],
   "source": [
    "llm_output = llm.invoke(prompt_formatter)"
   ]
  },
  {
   "cell_type": "code",
   "execution_count": 16,
   "id": "7abd584a-8bdd-4b84-a79d-4ddc2a0952e5",
   "metadata": {
    "tags": []
   },
   "outputs": [
    {
     "data": {
      "text/plain": [
       "'Sora is a character from the popular video game series \"Kingdom Hearts,\" which is developed and published by Square Enix in collaboration with Disney. Sora is the main protagonist of the series and is known for his cheerful and optimistic personality. He wields a weapon called the Keyblade, which has the power to combat creatures known as the Heartless and to lock and unlock various worlds\\' keyholes, preventing them from being consumed by darkness.\\n\\nSora\\'s journey begins on the Destiny Islands, where he lives with his friends Riku and Kairi. When their world is attacked by the Heartless, Sora is separated from his friends and finds himself in a place called Traverse Town. There, he meets Donald Duck and Goofy, who are on a mission to find their missing king, Mickey Mouse. Together, they travel across various Disney-themed worlds, battling the forces of darkness and searching for Sora\\'s lost friends.\\n\\nThroughout the series, Sora\\'s character grows and evolves as he faces numerous challenges and uncovers deeper mysteries about the nature of hearts, friendship, and the battle between light and darkness. The \"Kingdom Hearts\" series is known for its unique blend of action RPG gameplay, intricate storylines, and the crossover of characters from Disney and Square Enix\\'s \"Final Fantasy\" series.'"
      ]
     },
     "execution_count": 16,
     "metadata": {},
     "output_type": "execute_result"
    }
   ],
   "source": [
    "parser = StrOutputParser()\n",
    "parser.invoke(llm_output)"
   ]
  },
  {
   "cell_type": "markdown",
   "id": "68a56229-a4c9-40ba-8b59-dde55d9d7f23",
   "metadata": {},
   "source": [
    "# 1회성 사용"
   ]
  },
  {
   "cell_type": "code",
   "execution_count": 17,
   "id": "5458d0e0-aa2e-4f40-a1b6-a8a44721b6cb",
   "metadata": {
    "tags": []
   },
   "outputs": [
    {
     "data": {
      "text/plain": [
       "'Sure! LLM can refer to different things depending on the context, but two of the most common meanings are:\\n\\n1. **Master of Laws (LL.M.)**:\\n   - **Definition**: The LL.M. is an advanced, postgraduate academic degree in law. It stands for \"Legum Magister\" in Latin, which translates to \"Master of Laws.\"\\n   - **Purpose**: This degree is typically pursued by individuals who already hold a primary law degree (such as a J.D. in the United States or an LL.B. in many other countries) and wish to specialize in a particular area of law, such as international law, tax law, human rights law, or intellectual property law.\\n   - **Duration**: The program usually lasts one year if pursued full-time, though part-time options are often available.\\n   - **Global Recognition**: The LL.M. is recognized internationally and can enhance career prospects, provide opportunities for academic research, and sometimes fulfill requirements for practicing law in a different jurisdiction.\\n\\n2. **Large Language Model (LLM)**:\\n   - **Definition**: In the context of artificial intelligence, an LLM refers to a type of machine learning model designed to understand and generate human language. These models are trained on vast amounts of text data and can perform a variety of language-related tasks.\\n   - **Examples**: Some well-known large language models include OpenAI\\'s GPT-3 and GPT-4, Google\\'s BERT, and Facebook\\'s RoBERTa.\\n   - **Applications**: LLMs are used in numerous applications, such as chatbots, translation services, content generation, sentiment analysis, and more. They can assist in automating customer service, generating human-like text, and even aiding in research by summarizing large volumes of information.\\n   - **Capabilities and Limitations**: While LLMs are powerful and versatile, they also have limitations, such as potential biases in the data they were trained on, and they may sometimes produce incorrect or nonsensical answers.\\n\\nIf you have a specific context in mind, feel free to let me know, and I can provide more detailed information!'"
      ]
     },
     "execution_count": 17,
     "metadata": {},
     "output_type": "execute_result"
    }
   ],
   "source": [
    "(prompt|llm|parser).invoke({\"topic\":\"llm\"})"
   ]
  },
  {
   "cell_type": "code",
   "execution_count": 38,
   "id": "d3ee1f1c-e552-4d37-808f-895ee568122a",
   "metadata": {
    "tags": []
   },
   "outputs": [
    {
     "name": "stderr",
     "output_type": "stream",
     "text": [
      "/var/folders/jy/5_rl6575533638lskdr9s6s00000gn/T/ipykernel_9143/1668103102.py:1: DeprecationWarning: The 'timeout' parameter is deprecated in favor of 'request_timeout'\n",
      "  es = Elasticsearch([ES_HOST], basic_auth=(ES_USER_ID, ES_PASSWD), ca_certs=\"./../certs/ca.crt\", verify_certs=False, timeout=120)\n",
      "/Users/nuri/dev/jupyter/.venv/lib/python3.9/site-packages/elasticsearch/_sync/client/__init__.py:399: SecurityWarning: Connecting to 'https://192.168.0.10:9200' using TLS with verify_certs=False is insecure\n",
      "  _transport = transport_class(\n"
     ]
    }
   ],
   "source": [
    "es = Elasticsearch([ES_HOST], basic_auth=(ES_USER_ID, ES_PASSWD), ca_certs=\"./../certs/ca.crt\", verify_certs=False, timeout=120)\n",
    "vector_store = ElasticsearchStore(\n",
    "    embedding=embeddings,\n",
    "    index_name=ES_INDEX_NAME,\n",
    "    es_connection=es,\n",
    "    strategy=DenseVectorStrategy(hybrid=True),\n",
    ")"
   ]
  },
  {
   "cell_type": "code",
   "execution_count": 44,
   "id": "69570692-382b-41af-95df-01712f519ded",
   "metadata": {
    "tags": []
   },
   "outputs": [],
   "source": [
    "from langchain_core.output_parsers import StrOutputParser\n",
    "parser = StrOutputParser()"
   ]
  },
  {
   "cell_type": "code",
   "execution_count": 39,
   "id": "37e24ea8-2d79-44ce-ab79-e22f2a37ab02",
   "metadata": {
    "tags": []
   },
   "outputs": [],
   "source": [
    "retriever = vector_store.as_retriever()"
   ]
  },
  {
   "cell_type": "code",
   "execution_count": 56,
   "id": "3e3b5858-5a6d-412c-a3f1-5cc585a97fd5",
   "metadata": {
    "tags": []
   },
   "outputs": [
    {
     "name": "stderr",
     "output_type": "stream",
     "text": [
      "/Users/nuri/dev/jupyter/.venv/lib/python3.9/site-packages/urllib3/connectionpool.py:1063: InsecureRequestWarning: Unverified HTTPS request is being made to host '192.168.0.10'. Adding certificate verification is strongly advised. See: https://urllib3.readthedocs.io/en/1.26.x/advanced-usage.html#ssl-warnings\n",
      "  warnings.warn(\n"
     ]
    },
    {
     "data": {
      "text/plain": [
       "[Document(metadata={'id': 611501, 'hash_key': '1226b4a4c70e7bc5fee64513bdc3ef81', 'title': '이재용, 리창 중국 총리 면담…삼성 중국 사업 지원 감사 뜻 전달', 'created_date': '2024-05-26T22:45:00', 'portal': 'daum', 'media': 'SBS', 'url': 'https://v.daum.net/v/20240526224500535', 'image_url': 'https://img1.daumcdn.net/thumb/S1200x630/?fname=https://t1.daumcdn.net/news/202405/26/sbsi/20240526224502831pvnt.jpg'}, page_content='삼성 경영진은 전영현 삼성전자 DS부문장 부회장, 노태문 삼성전자 DX부문 MX사업부장 사장, 박학규 삼성전자 경영지원실장, 최윤호 삼성SDI 대표이사 사장, 최주선 삼성디스플레이 대표이사 사장, 양걸 삼성전자 삼성차이나 사장, 김원경 삼성전자 글로벌공공업무실장 사장 등이 참석했습니다.\\n(사진=삼성전자 제공, 연합뉴스)\\n유덕기 기자 dkyu@sbs.co.kr\\nCopyright © Copyright ⓒ SBS. All rights reserved. 무단 전재, 재배포 및 AI학습 이용 금지'),\n",
       " Document(metadata={'id': 526976, 'hash_key': '2042b04cdae7634af7172c4557948636', 'title': '삼성전자 8만원대 안착 시도', 'created_date': '2024-03-28T17:00:00', 'portal': 'naver', 'media': '연합뉴스 | 네이버', 'url': 'https://n.news.naver.com/mnews/article/001/0014596368?rc=N&ntype=RANKING&sid=101', 'image_url': 'https://imgnews.pstatic.net/image/001/2024/03/28/PYH2024032816340001300_P4_20240328170226953.jpg?type=w800'}, page_content='삼성전자 8만원대 안착 시도\\n(서울=연합뉴스) 박동주 기자 = 28일 서울 종로구 연합인포맥스 화면에 삼성전자 주가가 표시되고 있다. 2024.3.28\\npdj6635@yna.co.kr\\nCopyright ⓒ 연합뉴스. All rights reserved. 무단 전재-재배포, AI 학습 및 활용 금지.\\n기사의 섹션 정보는 해당 언론사의 분류를 따르고 있습니다. 언론사는 개별 기사를 2개 이상 섹션으로 중복 분류할 수 있습니다.\\n모두에게 보여주고 싶은 기사라면?beta 이 기사를 추천합니다 버튼을 눌러주세요. 집계 기간 동안 추천을 많이 받은 기사는 네이버 자동 기사배열 영역에 추천 요소로 활용됩니다. 레이어 닫기\\n본문 듣기를 종료하였습니다.'),\n",
       " Document(metadata={'id': 499930, 'hash_key': '0c30dc049615f48d8f81174c2032408e', 'title': '[포토] 삼성전자 주주총회 개최', 'created_date': '2024-03-20T14:52:01', 'portal': 'naver', 'media': '한국경제 | 네이버', 'url': 'https://n.news.naver.com/mnews/article/015/0004962238?rc=N&ntype=RANKING&sid=101', 'image_url': 'https://imgnews.pstatic.net/image/015/2024/03/20/0004962238_001_20240320145201026.jpg?type=w800'}, page_content='[포토] 삼성전자 주주총회 개최\\n한종희 삼성전자 부회장이 20일 경기 수원시 수원컨벤션센터에서 열린 제55기 삼성전자 정기주주총회에서 인사말을 하고 있다. 이날 한 부회장은 주주가치 제고에 대해서 \"지난해 어려운 경영환경 속에서도 주주환원 정책을 성실히 이행하기 위해 2023년 기준으로 연간 9조8천억원의 배당을 지급할 계획\"이라며 \"앞으로도 주주중시 경영 강화를 위해 최선의 노력을 다하겠다\"고 밝혔다.\\n한종희 삼성전자 부회장이 20일 경기 수원시 수원컨벤션센터에서 열린 제55기 삼성전자 정기주주총회에서 단상으로 이동하고 있다.\\n20일 경기 수원시 수원컨벤션센터에서 열린 제55기 삼성전자 정기주주총회에서 참석자들이 한종희 삼성전자 부회장의 인사말을 듣고 있다.\\n20일 경기 수원시 수원컨벤션센터에서 열린 제55기 삼성전자 정기주주총회에서 주주들이 입장하고 있다.\\n/ 임대철 기자'),\n",
       " Document(metadata={'id': 209416, 'hash_key': '9c0236593da611e47d67a6b1cab1f958', 'title': \"삼성전자, 또 52주 최고가 경신…'8만전자' 다가서\", 'created_date': '2024-01-02T10:26:07', 'portal': 'daum', 'media': '한국경제', 'url': 'https://v.daum.net/v/20240102102607828', 'image_url': 'https://img1.daumcdn.net/thumb/S1200x630/?fname=https://t1.daumcdn.net/news/202401/02/ked/20240102102608958epwg.jpg'}, page_content='2일 오전 10시 20분 기준 삼성전자는 전 거래일 대비 300원(0.38%) 오른 7만8800원에 거래되고 있다. 장중 삼성전자는 7만9400원까지 오르며 52주 신고가를 기록했다. 전 거래일까지 삼성전자는 7거래일 연속 상승했다.\\n이날 메리츠증권은 삼성전자에 대한 목표주가를 기존 9만4000원에서 9만5000원으로 높였다. 투자의견은 \\'매수\\'를 유지했다. 작년 4분기 삼성전자의 영업이익이 3분기에 비해 개선될 것으로 전망하면서다.\\n김선우 메리츠증권 연구원은 \"지난해 4분기 영업이익은 4조4000억원으로 전분기 2조4000억원 대비 소폭 개선될 것\"이라며 \"주로 메모리 매출 극대화에 집중하는 가운데 반도체(DS) 부문 영업손실이 전분기 3조7000억원에서 6000억원으로 감소하겠지만 모바일경험(MX) 부문 영업이익은 3조3000억원에서 2조3000억원으로 축소될 것\"이라고 설명했다.\\n이어 \"삼성전자는 최근 예상보다 빠른 속도로 D램 감산폭을 줄이는 것으로 추정된다\"며 \"올해 2분기부터 감산폭 축소에서 오는 고정비 분배 및 수익성 회복이 예상된다\"고 밝혔다.\\n진영기 한경닷컴 기자 young71@hankyung.com\\n▶ 내가 부자가 될 사주인가…2024년 신년운세 확인▶ 한경 창간 60주년 구독신청 사은품 보기\\nCopyright© 한국경제. 무단전재 및 재배포 금지.')]"
      ]
     },
     "execution_count": 56,
     "metadata": {},
     "output_type": "execute_result"
    }
   ],
   "source": [
    "retriever.invoke(\"삼성전자\")"
   ]
  },
  {
   "cell_type": "code",
   "execution_count": 61,
   "id": "b8e100da-e511-4845-8f38-c782044b2cac",
   "metadata": {
    "tags": []
   },
   "outputs": [],
   "source": [
    "llm = ChatOpenAI(model_name=\"gpt-4o\", temperature=0)\n",
    "def merge_docs(retrived_docs):\n",
    "    return \"\\n\\n\".join(d.page_content for d in retrived_docs)"
   ]
  },
  {
   "cell_type": "code",
   "execution_count": 62,
   "id": "fcc31768-cd2a-4976-b7fe-7abcf4f39786",
   "metadata": {
    "tags": []
   },
   "outputs": [
    {
     "name": "stderr",
     "output_type": "stream",
     "text": [
      "/Users/nuri/dev/jupyter/.venv/lib/python3.9/site-packages/urllib3/connectionpool.py:1063: InsecureRequestWarning: Unverified HTTPS request is being made to host '192.168.0.10'. Adding certificate verification is strongly advised. See: https://urllib3.readthedocs.io/en/1.26.x/advanced-usage.html#ssl-warnings\n",
      "  warnings.warn(\n"
     ]
    },
    {
     "data": {
      "text/plain": [
       "\"삼성전자의 최근 경영 활동과 주가 동향에 대한 다양한 기사가 보도되었습니다. 주요 내용은 다음과 같습니다:\\n\\n1. **삼성전자 경영진 참석 행사**:\\n   - 전영현 삼성전자 DS부문장 부회장, 노태문 삼성전자 DX부문 MX사업부장 사장, 박학규 삼성전자 경영지원실장, 최윤호 삼성SDI 대표이사 사장, 최주선 삼성디스플레이 대표이사 사장, 양걸 삼성전자 삼성차이나 사장, 김원경 삼성전자 글로벌공공업무실장 사장 등이 참석한 행사에 대한 보도가 있었습니다.\\n\\n2. **삼성전자 주가 동향**:\\n   - 2024년 3월 28일 기준으로 삼성전자의 주가는 7만8800원에 거래되고 있으며, 장중 최고가는 7만9400원으로 52주 신고가를 기록했습니다.\\n   - 메리츠증권은 삼성전자의 목표주가를 기존 9만4000원에서 9만5000원으로 상향 조정하고, 투자의견을 '매수'로 유지했습니다. 이는 삼성전자의 4분기 영업이익이 3분기 대비 개선될 것으로 전망되기 때문입니다.\\n\\n3. **삼성전자 정기주주총회**:\\n   - 한종희 삼성전자 부회장은 경기 수원시 수원컨벤션센터에서 열린 제55기 삼성전자 정기주주총회에서 주주가치 제고와 주주환원 정책에 대해 언급했습니다. 2023년 기준으로 연간 9조8천억원의 배당을 지급할 계획이라고 밝혔습니다.\\n\\n4. **메모리 및 반도체 부문 전망**:\\n   - 메리츠증권의 김선우 연구원은 삼성전자의 4분기 영업이익이 전분기 대비 소폭 개선될 것으로 전망했습니다. 특히, 반도체(DS) 부문 영업손실이 감소하고, D램 감산폭을 줄이는 등의 조치로 인해 수익성 회복이 예상된다고 밝혔습니다.\\n\\n이와 같은 정보는 삼성전자의 경영 전략과 주가 전망에 대한 중요한 인사이트를 제공합니다. 주주와 투자자들은 이러한 정보를 바탕으로 투자 결정을 내릴 수 있을 것입니다.\""
      ]
     },
     "execution_count": 62,
     "metadata": {},
     "output_type": "execute_result"
    }
   ],
   "source": [
    "(retriever | merge_docs | llm | parser).invoke(\"삼성전자\")"
   ]
  },
  {
   "cell_type": "markdown",
   "id": "073231d1-2675-45b5-a0c3-4fe368b55751",
   "metadata": {},
   "source": [
    "# RAG Chain"
   ]
  },
  {
   "cell_type": "code",
   "execution_count": 48,
   "id": "7e758713-03c5-456c-b59d-bdf74e46ad50",
   "metadata": {
    "tags": []
   },
   "outputs": [],
   "source": [
    "from langchain_core.runnables import RunnableParallel"
   ]
  },
  {
   "cell_type": "code",
   "execution_count": 65,
   "id": "0f57c343-6983-404e-93ca-9e8d656dbfa7",
   "metadata": {
    "tags": []
   },
   "outputs": [
    {
     "data": {
      "text/plain": [
       "{\n",
       "  context: VectorStoreRetriever(tags=['ElasticsearchStore', 'HuggingFaceHubEmbeddings'], vectorstore=<langchain_elasticsearch.vectorstores.ElasticsearchStore object at 0x14e0887c0>),\n",
       "  llm: ChatOpenAI(client=<openai.resources.chat.completions.Completions object at 0x14fd4c340>, async_client=<openai.resources.chat.completions.AsyncCompletions object at 0x14fd4eb50>, model_name='gpt-4o', temperature=0.0, openai_api_key=SecretStr('**********'), openai_proxy='')\n",
       "}"
      ]
     },
     "execution_count": 65,
     "metadata": {},
     "output_type": "execute_result"
    }
   ],
   "source": [
    "chain_parallel = RunnableParallel({\"context\":retriever, \"llm\":llm })\n",
    "chain_parallel"
   ]
  },
  {
   "cell_type": "code",
   "execution_count": 66,
   "id": "00013bd0-51db-4f49-abf0-113a9cd4d200",
   "metadata": {
    "tags": []
   },
   "outputs": [
    {
     "name": "stderr",
     "output_type": "stream",
     "text": [
      "/Users/nuri/dev/jupyter/.venv/lib/python3.9/site-packages/urllib3/connectionpool.py:1063: InsecureRequestWarning: Unverified HTTPS request is being made to host '192.168.0.10'. Adding certificate verification is strongly advised. See: https://urllib3.readthedocs.io/en/1.26.x/advanced-usage.html#ssl-warnings\n",
      "  warnings.warn(\n"
     ]
    },
    {
     "data": {
      "text/plain": [
       "{'context': [Document(metadata={'id': 611501, 'hash_key': '1226b4a4c70e7bc5fee64513bdc3ef81', 'title': '이재용, 리창 중국 총리 면담…삼성 중국 사업 지원 감사 뜻 전달', 'created_date': '2024-05-26T22:45:00', 'portal': 'daum', 'media': 'SBS', 'url': 'https://v.daum.net/v/20240526224500535', 'image_url': 'https://img1.daumcdn.net/thumb/S1200x630/?fname=https://t1.daumcdn.net/news/202405/26/sbsi/20240526224502831pvnt.jpg'}, page_content='삼성 경영진은 전영현 삼성전자 DS부문장 부회장, 노태문 삼성전자 DX부문 MX사업부장 사장, 박학규 삼성전자 경영지원실장, 최윤호 삼성SDI 대표이사 사장, 최주선 삼성디스플레이 대표이사 사장, 양걸 삼성전자 삼성차이나 사장, 김원경 삼성전자 글로벌공공업무실장 사장 등이 참석했습니다.\\n(사진=삼성전자 제공, 연합뉴스)\\n유덕기 기자 dkyu@sbs.co.kr\\nCopyright © Copyright ⓒ SBS. All rights reserved. 무단 전재, 재배포 및 AI학습 이용 금지'),\n",
       "  Document(metadata={'id': 526976, 'hash_key': '2042b04cdae7634af7172c4557948636', 'title': '삼성전자 8만원대 안착 시도', 'created_date': '2024-03-28T17:00:00', 'portal': 'naver', 'media': '연합뉴스 | 네이버', 'url': 'https://n.news.naver.com/mnews/article/001/0014596368?rc=N&ntype=RANKING&sid=101', 'image_url': 'https://imgnews.pstatic.net/image/001/2024/03/28/PYH2024032816340001300_P4_20240328170226953.jpg?type=w800'}, page_content='삼성전자 8만원대 안착 시도\\n(서울=연합뉴스) 박동주 기자 = 28일 서울 종로구 연합인포맥스 화면에 삼성전자 주가가 표시되고 있다. 2024.3.28\\npdj6635@yna.co.kr\\nCopyright ⓒ 연합뉴스. All rights reserved. 무단 전재-재배포, AI 학습 및 활용 금지.\\n기사의 섹션 정보는 해당 언론사의 분류를 따르고 있습니다. 언론사는 개별 기사를 2개 이상 섹션으로 중복 분류할 수 있습니다.\\n모두에게 보여주고 싶은 기사라면?beta 이 기사를 추천합니다 버튼을 눌러주세요. 집계 기간 동안 추천을 많이 받은 기사는 네이버 자동 기사배열 영역에 추천 요소로 활용됩니다. 레이어 닫기\\n본문 듣기를 종료하였습니다.'),\n",
       "  Document(metadata={'id': 499930, 'hash_key': '0c30dc049615f48d8f81174c2032408e', 'title': '[포토] 삼성전자 주주총회 개최', 'created_date': '2024-03-20T14:52:01', 'portal': 'naver', 'media': '한국경제 | 네이버', 'url': 'https://n.news.naver.com/mnews/article/015/0004962238?rc=N&ntype=RANKING&sid=101', 'image_url': 'https://imgnews.pstatic.net/image/015/2024/03/20/0004962238_001_20240320145201026.jpg?type=w800'}, page_content='[포토] 삼성전자 주주총회 개최\\n한종희 삼성전자 부회장이 20일 경기 수원시 수원컨벤션센터에서 열린 제55기 삼성전자 정기주주총회에서 인사말을 하고 있다. 이날 한 부회장은 주주가치 제고에 대해서 \"지난해 어려운 경영환경 속에서도 주주환원 정책을 성실히 이행하기 위해 2023년 기준으로 연간 9조8천억원의 배당을 지급할 계획\"이라며 \"앞으로도 주주중시 경영 강화를 위해 최선의 노력을 다하겠다\"고 밝혔다.\\n한종희 삼성전자 부회장이 20일 경기 수원시 수원컨벤션센터에서 열린 제55기 삼성전자 정기주주총회에서 단상으로 이동하고 있다.\\n20일 경기 수원시 수원컨벤션센터에서 열린 제55기 삼성전자 정기주주총회에서 참석자들이 한종희 삼성전자 부회장의 인사말을 듣고 있다.\\n20일 경기 수원시 수원컨벤션센터에서 열린 제55기 삼성전자 정기주주총회에서 주주들이 입장하고 있다.\\n/ 임대철 기자'),\n",
       "  Document(metadata={'id': 209416, 'hash_key': '9c0236593da611e47d67a6b1cab1f958', 'title': \"삼성전자, 또 52주 최고가 경신…'8만전자' 다가서\", 'created_date': '2024-01-02T10:26:07', 'portal': 'daum', 'media': '한국경제', 'url': 'https://v.daum.net/v/20240102102607828', 'image_url': 'https://img1.daumcdn.net/thumb/S1200x630/?fname=https://t1.daumcdn.net/news/202401/02/ked/20240102102608958epwg.jpg'}, page_content='2일 오전 10시 20분 기준 삼성전자는 전 거래일 대비 300원(0.38%) 오른 7만8800원에 거래되고 있다. 장중 삼성전자는 7만9400원까지 오르며 52주 신고가를 기록했다. 전 거래일까지 삼성전자는 7거래일 연속 상승했다.\\n이날 메리츠증권은 삼성전자에 대한 목표주가를 기존 9만4000원에서 9만5000원으로 높였다. 투자의견은 \\'매수\\'를 유지했다. 작년 4분기 삼성전자의 영업이익이 3분기에 비해 개선될 것으로 전망하면서다.\\n김선우 메리츠증권 연구원은 \"지난해 4분기 영업이익은 4조4000억원으로 전분기 2조4000억원 대비 소폭 개선될 것\"이라며 \"주로 메모리 매출 극대화에 집중하는 가운데 반도체(DS) 부문 영업손실이 전분기 3조7000억원에서 6000억원으로 감소하겠지만 모바일경험(MX) 부문 영업이익은 3조3000억원에서 2조3000억원으로 축소될 것\"이라고 설명했다.\\n이어 \"삼성전자는 최근 예상보다 빠른 속도로 D램 감산폭을 줄이는 것으로 추정된다\"며 \"올해 2분기부터 감산폭 축소에서 오는 고정비 분배 및 수익성 회복이 예상된다\"고 밝혔다.\\n진영기 한경닷컴 기자 young71@hankyung.com\\n▶ 내가 부자가 될 사주인가…2024년 신년운세 확인▶ 한경 창간 60주년 구독신청 사은품 보기\\nCopyright© 한국경제. 무단전재 및 재배포 금지.')],\n",
       " 'llm': AIMessage(content='삼성전자는 대한민국의 대표적인 전자 및 정보통신 기업으로, 삼성 그룹의 계열사 중 하나입니다. 1969년에 설립된 이래로, 삼성전자는 반도체, 디스플레이, 가전제품, 모바일 기기 등 다양한 분야에서 세계적인 경쟁력을 갖추고 있습니다. \\n\\n주요 사업 부문은 다음과 같습니다:\\n\\n1. **반도체**: 메모리 반도체(DRAM, NAND 플래시 메모리 등)와 시스템 반도체(프로세서, 이미지 센서 등)를 포함합니다. 삼성전자는 메모리 반도체 분야에서 세계 시장을 선도하고 있습니다.\\n\\n2. **디스플레이**: OLED와 LCD 디스플레이를 생산하며, 특히 스마트폰과 TV용 디스플레이에서 강력한 경쟁력을 보유하고 있습니다.\\n\\n3. **모바일 커뮤니케이션**: 스마트폰, 태블릿, 웨어러블 기기 등을 포함합니다. 삼성전자의 갤럭시 시리즈는 전 세계적으로 큰 인기를 끌고 있습니다.\\n\\n4. **가전제품**: TV, 냉장고, 세탁기, 에어컨 등 다양한 가전제품을 생산합니다. 삼성전자의 가전제품은 혁신적인 기술과 디자인으로 유명합니다.\\n\\n5. **네트워크 장비**: 5G 네트워크 장비와 솔루션을 제공하며, 글로벌 통신사들과 협력하여 5G 인프라 구축에 기여하고 있습니다.\\n\\n삼성전자는 지속적인 연구개발(R&D) 투자와 혁신을 통해 글로벌 시장에서의 경쟁력을 유지하고 있으며, 다양한 사회공헌 활동을 통해 기업의 사회적 책임(CSR)도 다하고 있습니다.', response_metadata={'token_usage': {'completion_tokens': 377, 'prompt_tokens': 10, 'total_tokens': 387}, 'model_name': 'gpt-4o-2024-05-13', 'system_fingerprint': 'fp_3aa7262c27', 'finish_reason': 'stop', 'logprobs': None}, id='run-c5bf8041-b5ef-4d86-85a1-c861aa243078-0', usage_metadata={'input_tokens': 10, 'output_tokens': 377, 'total_tokens': 387})}"
      ]
     },
     "execution_count": 66,
     "metadata": {},
     "output_type": "execute_result"
    }
   ],
   "source": [
    "chain_parallel.invoke(\"삼성전자\")"
   ]
  },
  {
   "cell_type": "code",
   "execution_count": 68,
   "id": "8e09350d-d10d-4c7f-bb52-f3b4066cdf73",
   "metadata": {
    "tags": []
   },
   "outputs": [],
   "source": [
    "from langchain_core.runnables import RunnablePassthrough\n",
    "chain_path = RunnableParallel({\"context\":retriever, \"query\":RunnablePassthrough()})\n"
   ]
  },
  {
   "cell_type": "code",
   "execution_count": 69,
   "id": "57440214-1b62-4b98-8e3b-ecea098145cb",
   "metadata": {
    "tags": []
   },
   "outputs": [
    {
     "name": "stderr",
     "output_type": "stream",
     "text": [
      "/Users/nuri/dev/jupyter/.venv/lib/python3.9/site-packages/urllib3/connectionpool.py:1063: InsecureRequestWarning: Unverified HTTPS request is being made to host '192.168.0.10'. Adding certificate verification is strongly advised. See: https://urllib3.readthedocs.io/en/1.26.x/advanced-usage.html#ssl-warnings\n",
      "  warnings.warn(\n"
     ]
    },
    {
     "data": {
      "text/plain": [
       "{'context': [Document(metadata={'id': 139435, 'hash_key': '0292a05898913538d88b16c881c5839a', 'title': 'LG전자 베스트샵 서울양평220점, 그랜드 오픈 기념 사전행사 전개', 'created_date': '2023-12-21T13:54:13', 'portal': 'daum', 'media': '디지털타임스', 'url': 'https://v.daum.net/v/20231221135413058', 'image_url': 'https://img1.daumcdn.net/thumb/S1200x630/?fname=https://t1.daumcdn.net/news/202312/21/dt/20231221135414670zpbc.jpg'}, page_content=\"LG전자 베스트샵 서울양평220점, 그랜드 오픈 기념 사전행사 전개\\nLG전자 베스트샵 서울양평점이 내년 1월 5일 'LG전자 베스트샵 서울양평220점'으로 새롭게 오픈한다고 21일 밝혔다.\\n이에 LG전자 베스트샵 서울양평220점에서는 다양한 사전 행사를 진행한다.\\nLG전자 베스트샵 서울양평220점의 사전 예약 행사 기간은 1차 15일부터 24일까지, 2차 25일부터 내년 1월 4일까지다.\\n더불어 LG전자 베스트샵 서울양평220점 2층에서는 다양한 볼거리 및 놀거리가 준비되어 있다.\\n이 글자크기로 변경됩니다.\\n(예시) 가장 빠른 뉴스가 있고 다양한 정보, 쌍방향 소통이 숨쉬는 다음뉴스를 만나보세요. 다음뉴스는 국내외 주요이슈와 실시간 속보, 문화생활 및 다양한 분야의 뉴스를 입체적으로 전달하고 있습니다.\\nLG전자 베스트샵 서울양평점이 내년 1월 5일 'LG전자 베스트샵 서울양평220점'으로 새롭게 오픈한다고 21일 밝혔다.\\n이에 LG전자 베스트샵 서울양평220점에서는 다양한 사전 행사를 진행한다. 지난 15일부터 시작된 사전 예약 기간동안 LG전자 가전제품 동시 구매 시 최대 460만 혜택을 제공하는 이벤트를 진행한다.\\n600/1,200/1,500/2,000만 원 이상 구매 시 각각의 금액대별 사은품과 포인트를 증정한다. 단, 구매 대상은 TV, 냉장고, 세탁기, 에어컨, 슈케어, 슈케이스, 에어로타워 등 23개 품목에만 해당한다.\\nLG전자 베스트샵 서울양평220점의 사전 예약 행사 기간은 1차 15일부터 24일까지, 2차 25일부터 내년 1월 4일까지다.\"),\n",
       "  Document(metadata={'id': 127161, 'hash_key': '989da1befaf81bc518769bd4f0deca24', 'title': '[2023 하반기 인기상품]품질우수-LG전자/포터블스크린/스탠바이미Go', 'created_date': '2023-12-20T10:53:10', 'portal': 'daum', 'media': '전자신문', 'url': 'https://v.daum.net/v/20231220105310876', 'image_url': 'https://img1.daumcdn.net/thumb/S1200x630/?fname=https://t1.daumcdn.net/news/202312/20/etimesi/20231220105311623ynna.jpg'}, page_content='화면과 스탠드, 스피커 등을 모두 탑재한 일체형 디자인으로, 레디백 스타일의 여행 가방을 닮았다. 케이스 상단에는 손잡이가 있어 들고 이동하기 편리하다. 내부에는 리모컨, 전원 케이블 등 액세서리도 보관할 수 있다. 내장 배터리를 탑재해 전원 연결 없이 최장 3시간 동안 사용 가능하다.\\n또 미국 국방성 내구성 테스트 11개 항목(저압 2종, 고온 2종, 저온 2종, 먼지, 진동, 염무, 충격, 낙하)을 통과해 내구성도 탁월하다.\\n별도 조립이나 설치 과정 없이 케이스를 여닫기만 해도 화면이 켜지고 꺼진다. 27형 터치 화면은 위로 최대 90도까지 기울이는 틸트, 시계 방향으로 90도까지 회전하는 로테이팅, 최대 18㎝내 높낮이 조절 등을 지원한다. 고객은 시청 환경에 따라 화면을 가로 또는 세로로 돌리거나 테이블 모드 등으로 이용할 수 있다.\\nLG전자는 화면을 눕혀 사용하는 테이블 모드에 특화한 게임과 테마 스킨 등 색다른 콘텐츠를 기본 제공한다. 화면을 터치하며 체스, 틀린그림찾기 등 보드게임을 하거나 전용 스킨을 적용해 나만의 디지털 턴테이블로 음악을 감상하는 레트로한 이색 경험도 즐긴다.\\n제품에 탑재된 20와트(W) 출력의 스피커는 자동으로 화면 모드에 맞춘 최적의 음향을 화면 앞쪽으로 발산해 소리가 보다 또렷하게 들린다. 돌비 최신 영상기술 돌비비전과 입체 음향기술 돌비애트모스를 지원해 몰입감 넘치는 시청 경험을 즐길 수 있는 것도 특징이다.'),\n",
       "  Document(metadata={'id': 197896, 'hash_key': '2b8c18cf556874cfb2da21351096f8b0', 'title': 'LG전자 한달간 ‘라이프 쇼핑대축제’', 'created_date': '2024-01-01T03:03:17', 'portal': 'daum', 'media': '동아일보', 'url': 'https://v.daum.net/v/20240101030317186', 'image_url': 'https://img1.daumcdn.net/thumb/S1200x630/?fname=https://t1.daumcdn.net/news/202401/01/donga/20240101030319175twqk.jpg'}, page_content='LG전자 한달간 ‘라이프 쇼핑대축제’\\nLG전자 제공 입력 2024. 1. 1. 03:03\\nLG전자는 새해를 맞아 1월 1일부터 31일까지 LG전자 온라인 브랜드숍과 전국 LG전자 베스트샵 매장에서 다양한 구매 혜택을 제공하는 ‘엘지전자 라이프 쇼핑대축제’를 진행한다고 31일 밝혔다.\\nLG전자 제공\\nCopyright© 동아일보. 무단전재 및 재배포 금지.\\n이 기사에 대해 어떻게 생각하시나요?\\n동아일보에서 직접 확인하세요. 해당 언론사로 이동합니다.'),\n",
       "  Document(metadata={'id': 507830, 'hash_key': '55c3a3b764288d01a8d522151a07feef', 'title': \"LG전자, 전 세계 5억대 넘는 기기로 '스마트 생태계' 구축\", 'created_date': '2024-03-22T08:00:12', 'portal': 'daum', 'media': '뉴시스', 'url': 'https://v.daum.net/v/20240322080012401', 'image_url': 'https://img1.daumcdn.net/thumb/S1200x630/?fname=https://t1.daumcdn.net/news/202403/22/newsis/20240322080012451oesg.jpg'}, page_content=\"LG전자, 전 세계 5억대 넘는 기기로 '스마트 생태계' 구축\\n[서울=뉴시스]이현주 기자 = LG전자가 스마트 라이프 솔루션 기업으로 빠르게 진화하고 있다. 60여년간 쌓아온 가전 사업 노하우에 인공지능(AI), 빅데이터, 통신 등 혁신 기술이 더해지며 미래지향적 사업으로 포트폴리오 전환에 나서고 있다.\\n22일 업계에 따르면 LG전자는 남다른 경쟁력이 있는 가전, TV 분야 외에도 스마트홈과 로봇, 모빌리티, 커머셜, 메타버스 등 신사업에서 AI 기술을 적극 활용해 포트폴리오 다변화를 노린다.\\n최소 5억개에 달하는 LG전자 제품은 가정과 도로, 상업 공간 등 일상 속 모든 공간에서 데이터를 수집한다.\\n이렇게 수집한 데이터는 LG전자 자산으로 활용되는데, LG전자는 이 데이터를 분석해 고객 수요에 더 잘맞는 제품 및 서비스를 제공한다. 이와 함께 전 세계 2억대 이상 스마트 TV를 구동하는 웹OS 운영체제를 앞세워 콘텐츠 역량도 강화하고 있다.\\nLG전자는 AI 지원 지능형 센서가 장착된 스마트기기를 통해 현실 세계에서 수집한 데이터를 실시간 분석하고, 이를 고유 자산으로 AI 기술에 활용해 사용자 생활에 도움이 되도록 자체 대형언어모델(LLM)을 통해 솔루션을 구축한다는 목표다.\\n기기 자체에 탑재돼 직접 AI 서비스를 제공하는 '온디바이스(On-Device) AI' 변화가 빠르게 일어나는 것도 LG전자에 긍정적이다. 제품 제조 역량부터 AI 기술, 콘텐츠 등 소프트웨어(SW) 역량을 모두 보유한 만큼 온디바이스 AI 구현에도 속도를 낼 수 있다는 판단이다.\")],\n",
       " 'query': 'LG전자'}"
      ]
     },
     "execution_count": 69,
     "metadata": {},
     "output_type": "execute_result"
    }
   ],
   "source": [
    "chain_path.invoke(\"LG전자\")"
   ]
  },
  {
   "cell_type": "code",
   "execution_count": 80,
   "id": "cc66dd04-105b-49da-a78e-9e92c53f5c18",
   "metadata": {
    "tags": []
   },
   "outputs": [],
   "source": [
    "\n",
    "from langchain_core.prompts.chat import ChatPromptTemplate\n",
    "template = \"\"\"\n",
    "Utilizing the context given below, answer the question.\n",
    "[context]\n",
    "{context}\n",
    "\n",
    "question: {query} is good for invest?\n",
    "answer korean\n",
    "\"\"\"\n",
    "prompt = ChatPromptTemplate.from_template(template)"
   ]
  },
  {
   "cell_type": "code",
   "execution_count": 81,
   "id": "656fa199-bb7a-47f4-bda5-7c127acda27c",
   "metadata": {
    "tags": []
   },
   "outputs": [],
   "source": [
    "chain = RunnableParallel({\"context\":retriever, \"query\":RunnablePassthrough()})\\\n",
    "    | prompt\\\n",
    "    | llm \\\n",
    "    | StrOutputParser()"
   ]
  },
  {
   "cell_type": "code",
   "execution_count": 82,
   "id": "a0775b96-8aab-4c1a-8a5c-13d0fe7d28c1",
   "metadata": {
    "tags": []
   },
   "outputs": [
    {
     "name": "stderr",
     "output_type": "stream",
     "text": [
      "/Users/nuri/dev/jupyter/.venv/lib/python3.9/site-packages/urllib3/connectionpool.py:1063: InsecureRequestWarning: Unverified HTTPS request is being made to host '192.168.0.10'. Adding certificate verification is strongly advised. See: https://urllib3.readthedocs.io/en/1.26.x/advanced-usage.html#ssl-warnings\n",
      "  warnings.warn(\n"
     ]
    },
    {
     "data": {
      "text/plain": [
       "'네, SK하이닉스는 투자하기에 좋은 종목으로 보입니다. 여러 문서에서 SK하이닉스의 주가가 강세를 보이고 있으며, 특히 AI 랠리를 이끄는 엔비디아의 핵심 공급망 업체로 꼽히면서 주가가 상승하고 있다는 점이 강조되고 있습니다. 또한, SK하이닉스는 2024년 5월 23일 기준으로 주당 20만원을 돌파하며 지속적인 상승세를 보이고 있습니다. 증권가에서도 SK하이닉스 주가가 앞으로 추가 상승할 것이라는 긍정적인 전망을 내놓고 있습니다. 따라서 SK하이닉스는 투자하기에 좋은 종목으로 판단됩니다.'"
      ]
     },
     "execution_count": 82,
     "metadata": {},
     "output_type": "execute_result"
    }
   ],
   "source": [
    "chain.invoke(\"SK하이닉스\")"
   ]
  },
  {
   "cell_type": "code",
   "execution_count": 88,
   "id": "e9d618e1-9dff-4527-88fe-cc2581f19f20",
   "metadata": {
    "tags": []
   },
   "outputs": [],
   "source": [
    "def dummy(anything):\n",
    "    return 'this is dummy'"
   ]
  },
  {
   "cell_type": "code",
   "execution_count": 89,
   "id": "2df56fb4-291a-4dd8-bc21-5346a17f3dd6",
   "metadata": {
    "tags": []
   },
   "outputs": [],
   "source": [
    "chain = RunnableParallel(context=retriever, query=RunnablePassthrough(), dummy=dummy)\\\n",
    "    | prompt\\\n",
    "    | llm \\\n",
    "    | StrOutputParser()"
   ]
  },
  {
   "cell_type": "code",
   "execution_count": 90,
   "id": "00c3ff32-ee6e-45d2-ae94-fdcb95369241",
   "metadata": {
    "tags": []
   },
   "outputs": [
    {
     "name": "stderr",
     "output_type": "stream",
     "text": [
      "/Users/nuri/dev/jupyter/.venv/lib/python3.9/site-packages/urllib3/connectionpool.py:1063: InsecureRequestWarning: Unverified HTTPS request is being made to host '192.168.0.10'. Adding certificate verification is strongly advised. See: https://urllib3.readthedocs.io/en/1.26.x/advanced-usage.html#ssl-warnings\n",
      "  warnings.warn(\n"
     ]
    },
    {
     "data": {
      "text/plain": [
       "\"삼성전자는 투자하기에 좋은 선택일 수 있습니다. 최근 삼성전자의 주가는 52주 최고가를 경신하며 상승세를 보이고 있습니다. 메리츠증권은 삼성전자의 목표주가를 기존 9만4000원에서 9만5000원으로 상향 조정하고, 투자의견을 '매수'로 유지했습니다. 이는 삼성전자의 영업이익이 개선될 것으로 전망되기 때문입니다. 따라서 현재 상황을 고려할 때, 삼성전자는 투자하기에 긍정적인 선택일 수 있습니다.\""
      ]
     },
     "execution_count": 90,
     "metadata": {},
     "output_type": "execute_result"
    }
   ],
   "source": [
    "chain.invoke(\"삼성전자\")"
   ]
  },
  {
   "cell_type": "code",
   "execution_count": null,
   "id": "fdde1544-2cf9-4d0c-b3af-a97becad896a",
   "metadata": {},
   "outputs": [],
   "source": []
  },
  {
   "cell_type": "code",
   "execution_count": null,
   "id": "ab9aba67-9439-453b-828d-be95a735af23",
   "metadata": {},
   "outputs": [],
   "source": []
  },
  {
   "cell_type": "code",
   "execution_count": null,
   "id": "8845f5d0-d34b-4662-9ff8-cdb83e673ba6",
   "metadata": {},
   "outputs": [],
   "source": []
  },
  {
   "cell_type": "code",
   "execution_count": 94,
   "id": "baa970bf-5471-4f81-b02b-c55a2b9d27ca",
   "metadata": {
    "tags": []
   },
   "outputs": [
    {
     "name": "stderr",
     "output_type": "stream",
     "text": [
      "/Users/nuri/dev/jupyter/.venv/lib/python3.9/site-packages/urllib3/connectionpool.py:1063: InsecureRequestWarning: Unverified HTTPS request is being made to host '192.168.0.10'. Adding certificate verification is strongly advised. See: https://urllib3.readthedocs.io/en/1.26.x/advanced-usage.html#ssl-warnings\n",
      "  warnings.warn(\n"
     ]
    },
    {
     "data": {
      "text/plain": [
       "\"네, 삼성전자는 투자하기에 좋은 선택일 수 있습니다. 메리츠증권은 삼성전자에 대한 목표주가를 기존 9만4000원에서 9만5000원으로 상향 조정하며, 투자의견을 '매수'로 유지했습니다. 이는 삼성전자의 영업이익이 개선될 것으로 전망되기 때문입니다. 특히, 반도체(DS) 부문의 영업손실이 감소하고, D램 감산폭을 줄이는 등의 긍정적인 요인들이 반영된 결과입니다. 따라서 삼성전자는 투자 가치가 있는 종목으로 평가될 수 있습니다.\""
      ]
     },
     "execution_count": 94,
     "metadata": {},
     "output_type": "execute_result"
    }
   ],
   "source": [
    "chain = RunnableParallel(context=retriever|merge_docs, query=RunnablePassthrough(), dummy=dummy)\\\n",
    "    | prompt \\\n",
    "    | llm \\\n",
    "    | StrOutputParser()\n",
    "chain.invoke(\"삼성전자\")"
   ]
  },
  {
   "cell_type": "code",
   "execution_count": null,
   "id": "b34741e1-6c74-4d9c-a27b-f43eafe1b61e",
   "metadata": {},
   "outputs": [],
   "source": []
  },
  {
   "cell_type": "code",
   "execution_count": 95,
   "id": "0b20a203-02c2-460f-81fd-21fb4adf59b8",
   "metadata": {
    "tags": []
   },
   "outputs": [],
   "source": [
    "from langchain import hub"
   ]
  },
  {
   "cell_type": "code",
   "execution_count": 98,
   "id": "2a46df0f-3990-4e2c-8641-436ba44d1704",
   "metadata": {
    "tags": []
   },
   "outputs": [],
   "source": [
    "prompt = hub.pull(\"rlm/rag-prompt\")"
   ]
  },
  {
   "cell_type": "code",
   "execution_count": 99,
   "id": "34cfa51c-13fc-4038-8a12-4fae4d5d7100",
   "metadata": {
    "tags": []
   },
   "outputs": [
    {
     "data": {
      "text/plain": [
       "ChatPromptTemplate(input_variables=['context', 'question'], metadata={'lc_hub_owner': 'rlm', 'lc_hub_repo': 'rag-prompt', 'lc_hub_commit_hash': '50442af133e61576e74536c6556cefe1fac147cad032f4377b60c436e6cdcb6e'}, messages=[HumanMessagePromptTemplate(prompt=PromptTemplate(input_variables=['context', 'question'], template=\"You are an assistant for question-answering tasks. Use the following pieces of retrieved context to answer the question. If you don't know the answer, just say that you don't know. Use three sentences maximum and keep the answer concise.\\nQuestion: {question} \\nContext: {context} \\nAnswer:\"))])"
      ]
     },
     "execution_count": 99,
     "metadata": {},
     "output_type": "execute_result"
    }
   ],
   "source": [
    "prompt"
   ]
  },
  {
   "cell_type": "code",
   "execution_count": null,
   "id": "e47afced-d503-4c45-9e65-9af339ffde63",
   "metadata": {},
   "outputs": [],
   "source": []
  }
 ],
 "metadata": {
  "kernelspec": {
   "display_name": "Python 3 (ipykernel)",
   "language": "python",
   "name": "python3"
  },
  "language_info": {
   "codemirror_mode": {
    "name": "ipython",
    "version": 3
   },
   "file_extension": ".py",
   "mimetype": "text/x-python",
   "name": "python",
   "nbconvert_exporter": "python",
   "pygments_lexer": "ipython3",
   "version": "3.9.19"
  }
 },
 "nbformat": 4,
 "nbformat_minor": 5
}
