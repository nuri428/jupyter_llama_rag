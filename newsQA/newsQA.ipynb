{
 "cells": [
  {
   "cell_type": "markdown",
   "id": "a53f7697-4630-4a1c-bf32-ac554220ebee",
   "metadata": {},
   "source": [
    "# simaple QA예제"
   ]
  },
  {
   "cell_type": "markdown",
   "id": "d4398842-197c-4ff8-ad2f-1e863f2dae5c",
   "metadata": {},
   "source": [
    "### ElasticSearch에서 ReRank가 통합되어 있어서 <br> es에 rerank를 추가 <br>es의 kibana에서 dev tools 혹은 wget, curl을 통하 아래 커맨드를 수행"
   ]
  },
  {
   "cell_type": "markdown",
   "id": "ed7efda7-0b67-4c52-a4bc-0c5ee28bf842",
   "metadata": {},
   "source": [
    "### Rerank를 지원하는 ES 버젼은 8.14 이기 때문에, 8.13 이하 버젼은 8.14로 버젼업을 해야함."
   ]
  },
  {
   "cell_type": "markdown",
   "id": "1efc45b0-59de-4fc5-b8e0-540de28d217f",
   "metadata": {},
   "source": [
    "PUT _inference/rerank/cohere_rerank <br>\n",
    "{<br>\n",
    "    \"service\": \"cohere\",<br>\n",
    "    \"service_settings\": {<br>\n",
    "        \"api_key\": <API-KEY>, <br>\n",
    "        \"model_id\": \"rerank-english-v3.0\"<br>\n",
    "    },<br>\n",
    "    \"task_settings\": {<br>\n",
    "        \"top_n\": 10,<br>\n",
    "        \"return_documents\": true<br>\n",
    "    }<br>\n",
    "}"
   ]
  },
  {
   "cell_type": "markdown",
   "id": "15d49718-adfc-46ec-954f-ce0083362b7a",
   "metadata": {},
   "source": [
    "### 영어가 아니기 때문에 모델을 \"rerank-multilingual-v3.0\"로 바꿈."
   ]
  },
  {
   "cell_type": "markdown",
   "id": "96c4af4a-c96e-431a-9ff5-fd53b7596b24",
   "metadata": {},
   "source": [
    "## vectorstore : es8"
   ]
  },
  {
   "cell_type": "markdown",
   "id": "6d20f936-2667-4ac4-9272-39edb8536e97",
   "metadata": {},
   "source": [
    "# 필요한 패키지 설치"
   ]
  },
  {
   "cell_type": "code",
   "execution_count": 1,
   "id": "4375d02f-d658-4689-afbe-ffba0cb6b4fd",
   "metadata": {
    "tags": []
   },
   "outputs": [],
   "source": [
    "# !openai migrate\n",
    "# openai 1.x.x 이상 버젼을 사용할 경우 위 명령을 수행해야 langchain_community오류가 해결됨. \n",
    "# 오류 메세지는 open.error.ApiError과 같은 오류.\n",
    "# openai migrate가 동작하지 않을 경우 \n",
    "# 아래 명령을 수행. grit이 설치 되어 있을 경우 1라인은 스킵 가능.\n",
    "# curl -fsSL https://docs.grit.io/install | bash\n",
    "# grit install\n",
    "# grit apply openai\n",
    "\n",
    "# 위 명령을 수행하면 python 의 site_package 에서 langchain_community에서 python파일을 로딩해서 오류 구문을 수정. \n",
    "# 단 아래와 같은 코드는 아직도 버그임. \n",
    "# | retry_if_exception_type(openai.ServiceUnavailableError)\n",
    "# openai 에는 ServiceUnavailableError 에러 클래스가 없음.."
   ]
  },
  {
   "cell_type": "code",
   "execution_count": 2,
   "id": "da5ee6b4-bdc1-493a-8a5c-ee118e3233b3",
   "metadata": {
    "tags": []
   },
   "outputs": [
    {
     "name": "stdout",
     "output_type": "stream",
     "text": [
      "1.37.1\n",
      "0.2.10\n"
     ]
    }
   ],
   "source": [
    "import openai\n",
    "print(openai.__version__)\n",
    "import langchain_community\n",
    "print(langchain_community.__version__)"
   ]
  },
  {
   "cell_type": "code",
   "execution_count": 3,
   "id": "adaf0eb4-7ad0-4634-951a-4669e6495007",
   "metadata": {
    "tags": []
   },
   "outputs": [],
   "source": [
    "# %pip install -qU openai\n",
    "# %pip install -qU langchain\n",
    "# %pip install langchainhub\n",
    "# %pip install -qU langchain-openai\n",
    "# %pip install -U langchain_community\n",
    "# %pip install langchain_elasticsearch\n",
    "# %pip install -U langchain-cohere\n",
    "# %pip install -qU langchain-teddynote"
   ]
  },
  {
   "cell_type": "code",
   "execution_count": 4,
   "id": "3a49cc85-c744-476b-8592-6ac4749eb010",
   "metadata": {
    "tags": []
   },
   "outputs": [],
   "source": [
    "import os\n",
    "# from langchain_community.vectorstores.elastic_vector_search import ElasticKnnSearch\n",
    "from langchain_elasticsearch import ElasticsearchStore, DenseVectorStrategy, ElasticsearchEmbeddings\n",
    "from elasticsearch import Elasticsearch\n",
    "\n",
    "from langchain_core.output_parsers import StrOutputParser\n",
    "from langchain_openai import ChatOpenAI\n",
    "from langchain import hub\n",
    "from langchain_core.runnables import RunnablePassthrough\n",
    "# embedding 패키지 로딩\n",
    "from langchain_community.embeddings import HuggingFaceHubEmbeddings\n",
    "# from langchain_teddynote import logging"
   ]
  },
  {
   "cell_type": "code",
   "execution_count": 5,
   "id": "620ff325-a8cc-43d7-b949-23231b37a8bc",
   "metadata": {
    "tags": []
   },
   "outputs": [
    {
     "data": {
      "text/plain": [
       "True"
      ]
     },
     "execution_count": 5,
     "metadata": {},
     "output_type": "execute_result"
    }
   ],
   "source": [
    "from dotenv import load_dotenv\n",
    "load_dotenv()"
   ]
  },
  {
   "cell_type": "code",
   "execution_count": 6,
   "id": "5839c9c2-a3fc-40f0-8d30-041aa65c250e",
   "metadata": {
    "tags": []
   },
   "outputs": [],
   "source": [
    "OPENAI_API_KEY = os.getenv(\"OPENAI_API_KEY\")\n",
    "ES_HOST = os.getenv(\"ES_HOST\")\n",
    "ES_USER_ID = os.getenv(\"ES_ID\")\n",
    "ES_PASSWD = os.getenv(\"ES_PWD\")\n",
    "ES_INDEX_NAME = os.getenv(\"ES_INDEX_NAME\")\n",
    "EMBEDDING_BASE_URL=os.getenv(\"EMBEDDING_BASE_URL\")\n",
    "EMBEDDING_MODEL=os.getenv(\"EMBEDDING_MODEL\")\n",
    "HUGGINGFACEHUB_API_TOKEN = os.getenv(\"HUGGUNGFACE_TOKEN\")\n",
    "COHERE_API_KEY = os.getenv(\"COHERE_API_KEY\")"
   ]
  },
  {
   "cell_type": "markdown",
   "id": "dfc82c5c-7b94-4e15-8f17-d24134e7ab0f",
   "metadata": {},
   "source": [
    "### embedding 정의"
   ]
  },
  {
   "cell_type": "code",
   "execution_count": 8,
   "id": "3254f83a-c7ca-4127-89e5-6d3dbc2f1092",
   "metadata": {
    "tags": []
   },
   "outputs": [
    {
     "name": "stderr",
     "output_type": "stream",
     "text": [
      "/Users/nuri/dev/jupyter/.venv/lib/python3.9/site-packages/langchain_core/_api/deprecation.py:139: LangChainDeprecationWarning: The class `HuggingFaceHubEmbeddings` was deprecated in LangChain 0.2.2 and will be removed in 0.3.0. An updated version of the class exists in the langchain-huggingface package and should be used instead. To use it run `pip install -U langchain-huggingface` and import as `from langchain_huggingface import HuggingFaceEndpointEmbeddings`.\n",
      "  warn_deprecated(\n"
     ]
    }
   ],
   "source": [
    "embeddings = HuggingFaceHubEmbeddings(model=EMBEDDING_BASE_URL, huggingfacehub_api_token=HUGGINGFACEHUB_API_TOKEN)"
   ]
  },
  {
   "cell_type": "code",
   "execution_count": 9,
   "id": "1d9d31fb-888b-4d5b-8382-6bf04b519853",
   "metadata": {
    "tags": []
   },
   "outputs": [
    {
     "data": {
      "text/plain": [
       "<InferenceClient(model='http://192.168.0.10:3000', timeout=None)>"
      ]
     },
     "execution_count": 9,
     "metadata": {},
     "output_type": "execute_result"
    }
   ],
   "source": [
    "embeddings.client"
   ]
  },
  {
   "cell_type": "code",
   "execution_count": 10,
   "id": "7622b48b-6491-4287-a3eb-994c04928a7a",
   "metadata": {
    "tags": []
   },
   "outputs": [
    {
     "data": {
      "text/plain": [
       "[-0.017445877, 0.036139887, -0.017976798]"
      ]
     },
     "execution_count": 10,
     "metadata": {},
     "output_type": "execute_result"
    }
   ],
   "source": [
    "embeddings.embed_documents(\"테스트\")[0][0:3]"
   ]
  },
  {
   "cell_type": "markdown",
   "id": "df02e3aa-2d64-433f-a07c-cccbeaae160b",
   "metadata": {},
   "source": [
    "### llm. 정의"
   ]
  },
  {
   "cell_type": "code",
   "execution_count": 11,
   "id": "bfaf8495-d3a1-495a-a1c0-555240ae1e6c",
   "metadata": {
    "tags": []
   },
   "outputs": [],
   "source": [
    "llm = ChatOpenAI(model=\"gpt-4o\", api_key=OPENAI_API_KEY)"
   ]
  },
  {
   "cell_type": "code",
   "execution_count": 12,
   "id": "8d6772fe-2ff7-4991-8ae9-4599b5872aec",
   "metadata": {
    "tags": []
   },
   "outputs": [
    {
     "data": {
      "text/plain": [
       "AIMessage(content='안녕하세요! 어떻게 도와드릴까요?', response_metadata={'token_usage': {'completion_tokens': 10, 'prompt_tokens': 9, 'total_tokens': 19}, 'model_name': 'gpt-4o-2024-05-13', 'system_fingerprint': 'fp_3aa7262c27', 'finish_reason': 'stop', 'logprobs': None}, id='run-d83245a5-5912-4a6d-a977-82b1f8255e01-0', usage_metadata={'input_tokens': 9, 'output_tokens': 10, 'total_tokens': 19})"
      ]
     },
     "execution_count": 12,
     "metadata": {},
     "output_type": "execute_result"
    }
   ],
   "source": [
    "llm.invoke(\"안녕\")"
   ]
  },
  {
   "cell_type": "markdown",
   "id": "49496c84-409a-4c08-89c4-250d9bf536a3",
   "metadata": {},
   "source": [
    "### ES 모듈 로딩"
   ]
  },
  {
   "cell_type": "code",
   "execution_count": 13,
   "id": "5bf1a69b-ec17-4451-981f-79efeff16009",
   "metadata": {
    "tags": []
   },
   "outputs": [
    {
     "name": "stderr",
     "output_type": "stream",
     "text": [
      "/var/folders/jy/5_rl6575533638lskdr9s6s00000gn/T/ipykernel_28418/99351195.py:1: DeprecationWarning: The 'timeout' parameter is deprecated in favor of 'request_timeout'\n",
      "  es = Elasticsearch([ES_HOST], basic_auth=(ES_USER_ID, ES_PASSWD), ca_certs=\"./../certs/ca.crt\", verify_certs=False, timeout=120)\n",
      "/Users/nuri/dev/jupyter/.venv/lib/python3.9/site-packages/elasticsearch/_sync/client/__init__.py:399: SecurityWarning: Connecting to 'https://192.168.0.10:9200' using TLS with verify_certs=False is insecure\n",
      "  _transport = transport_class(\n"
     ]
    }
   ],
   "source": [
    "es = Elasticsearch([ES_HOST], basic_auth=(ES_USER_ID, ES_PASSWD), ca_certs=\"./../certs/ca.crt\", verify_certs=False, timeout=120)"
   ]
  },
  {
   "cell_type": "code",
   "execution_count": 14,
   "id": "8ceabdd7-f932-4296-965a-629e341429fe",
   "metadata": {
    "tags": []
   },
   "outputs": [
    {
     "name": "stderr",
     "output_type": "stream",
     "text": [
      "/Users/nuri/dev/jupyter/.venv/lib/python3.9/site-packages/urllib3/connectionpool.py:1063: InsecureRequestWarning: Unverified HTTPS request is being made to host '192.168.0.10'. Adding certificate verification is strongly advised. See: https://urllib3.readthedocs.io/en/1.26.x/advanced-usage.html#ssl-warnings\n",
      "  warnings.warn(\n"
     ]
    },
    {
     "data": {
      "text/plain": [
       "ObjectApiResponse({'name': 'es01', 'cluster_name': 'docker-cluster', 'cluster_uuid': 'aZJrg1ffSsCl52WsqYpJvQ', 'version': {'number': '8.14.3', 'build_flavor': 'default', 'build_type': 'docker', 'build_hash': 'd55f984299e0e88dee72ebd8255f7ff130859ad0', 'build_date': '2024-07-07T22:04:49.882652950Z', 'build_snapshot': False, 'lucene_version': '9.10.0', 'minimum_wire_compatibility_version': '7.17.0', 'minimum_index_compatibility_version': '7.0.0'}, 'tagline': 'You Know, for Search'})"
      ]
     },
     "execution_count": 14,
     "metadata": {},
     "output_type": "execute_result"
    }
   ],
   "source": [
    "es.info()"
   ]
  },
  {
   "cell_type": "markdown",
   "id": "800c56af-19e5-4cde-a906-50747f556afa",
   "metadata": {},
   "source": [
    "### Retriever 정의"
   ]
  },
  {
   "cell_type": "code",
   "execution_count": 15,
   "id": "ce588a54-8ee8-4d0b-a3f4-33901400b779",
   "metadata": {
    "tags": []
   },
   "outputs": [],
   "source": [
    "knn_vector_store = ElasticsearchStore(\n",
    "    ES_INDEX_NAME,\n",
    "    embedding=embeddings,\n",
    "    es_connection=es,\n",
    "    strategy=DenseVectorStrategy(hybrid=True)\n",
    "#     hybrid 서치를 위한 설정. \n",
    "#     해당 설정을 사용하기 위해서는 es8 라이센스가 상용이거나  trail이어야함.\n",
    ")\n",
    "\n",
    "knn_retriever = knn_vector_store.as_retriever()"
   ]
  },
  {
   "cell_type": "markdown",
   "id": "800ce10c-791a-4d47-9a3d-7ec4483bc9c9",
   "metadata": {},
   "source": [
    "### Cohere Reranker"
   ]
  },
  {
   "cell_type": "code",
   "execution_count": 16,
   "id": "aee778ac-91c8-45da-b474-332953e89e58",
   "metadata": {
    "tags": []
   },
   "outputs": [],
   "source": [
    "from langchain.retrievers.contextual_compression import ContextualCompressionRetriever\n",
    "from langchain_cohere import CohereRerank\n",
    "from langchain_community.llms import Cohere"
   ]
  },
  {
   "cell_type": "code",
   "execution_count": 17,
   "id": "43045ff8-41c0-43af-a846-9d8a70e66ccd",
   "metadata": {
    "tags": []
   },
   "outputs": [],
   "source": [
    "# Cohere?"
   ]
  },
  {
   "cell_type": "code",
   "execution_count": 18,
   "id": "90f7eb7f-f9a6-47a8-93c2-9ac3409d412d",
   "metadata": {
    "tags": []
   },
   "outputs": [
    {
     "name": "stderr",
     "output_type": "stream",
     "text": [
      "/Users/nuri/dev/jupyter/.venv/lib/python3.9/site-packages/langchain_core/_api/deprecation.py:139: LangChainDeprecationWarning: The class `Cohere` was deprecated in LangChain 0.1.14 and will be removed in 0.3.0. An updated version of the class exists in the langchain-cohere package and should be used instead. To use it run `pip install -U langchain-cohere` and import as `from langchain_cohere import Cohere`.\n",
      "  warn_deprecated(\n",
      "/Users/nuri/dev/jupyter/.venv/lib/python3.9/site-packages/urllib3/connectionpool.py:1063: InsecureRequestWarning: Unverified HTTPS request is being made to host '192.168.0.10'. Adding certificate verification is strongly advised. See: https://urllib3.readthedocs.io/en/1.26.x/advanced-usage.html#ssl-warnings\n",
      "  warnings.warn(\n"
     ]
    },
    {
     "name": "stdout",
     "output_type": "stream",
     "text": [
      "[Document(metadata={'id': 209416, 'hash_key': '9c0236593da611e47d67a6b1cab1f958', 'title': \"삼성전자, 또 52주 최고가 경신…'8만전자' 다가서\", 'created_date': '2024-01-02T10:26:07', 'portal': 'daum', 'media': '한국경제', 'url': 'https://v.daum.net/v/20240102102607828', 'image_url': 'https://img1.daumcdn.net/thumb/S1200x630/?fname=https://t1.daumcdn.net/news/202401/02/ked/20240102102608958epwg.jpg', 'relevance_score': 0.9982926}, page_content='2일 오전 10시 20분 기준 삼성전자는 전 거래일 대비 300원(0.38%) 오른 7만8800원에 거래되고 있다. 장중 삼성전자는 7만9400원까지 오르며 52주 신고가를 기록했다. 전 거래일까지 삼성전자는 7거래일 연속 상승했다.\\n이날 메리츠증권은 삼성전자에 대한 목표주가를 기존 9만4000원에서 9만5000원으로 높였다. 투자의견은 \\'매수\\'를 유지했다. 작년 4분기 삼성전자의 영업이익이 3분기에 비해 개선될 것으로 전망하면서다.\\n김선우 메리츠증권 연구원은 \"지난해 4분기 영업이익은 4조4000억원으로 전분기 2조4000억원 대비 소폭 개선될 것\"이라며 \"주로 메모리 매출 극대화에 집중하는 가운데 반도체(DS) 부문 영업손실이 전분기 3조7000억원에서 6000억원으로 감소하겠지만 모바일경험(MX) 부문 영업이익은 3조3000억원에서 2조3000억원으로 축소될 것\"이라고 설명했다.\\n이어 \"삼성전자는 최근 예상보다 빠른 속도로 D램 감산폭을 줄이는 것으로 추정된다\"며 \"올해 2분기부터 감산폭 축소에서 오는 고정비 분배 및 수익성 회복이 예상된다\"고 밝혔다.\\n진영기 한경닷컴 기자 young71@hankyung.com\\n▶ 내가 부자가 될 사주인가…2024년 신년운세 확인▶ 한경 창간 60주년 구독신청 사은품 보기\\nCopyright© 한국경제. 무단전재 및 재배포 금지.'), Document(metadata={'id': 499930, 'hash_key': '0c30dc049615f48d8f81174c2032408e', 'title': '[포토] 삼성전자 주주총회 개최', 'created_date': '2024-03-20T14:52:01', 'portal': 'naver', 'media': '한국경제 | 네이버', 'url': 'https://n.news.naver.com/mnews/article/015/0004962238?rc=N&ntype=RANKING&sid=101', 'image_url': 'https://imgnews.pstatic.net/image/015/2024/03/20/0004962238_001_20240320145201026.jpg?type=w800', 'relevance_score': 0.97741395}, page_content='[포토] 삼성전자 주주총회 개최\\n한종희 삼성전자 부회장이 20일 경기 수원시 수원컨벤션센터에서 열린 제55기 삼성전자 정기주주총회에서 인사말을 하고 있다. 이날 한 부회장은 주주가치 제고에 대해서 \"지난해 어려운 경영환경 속에서도 주주환원 정책을 성실히 이행하기 위해 2023년 기준으로 연간 9조8천억원의 배당을 지급할 계획\"이라며 \"앞으로도 주주중시 경영 강화를 위해 최선의 노력을 다하겠다\"고 밝혔다.\\n한종희 삼성전자 부회장이 20일 경기 수원시 수원컨벤션센터에서 열린 제55기 삼성전자 정기주주총회에서 단상으로 이동하고 있다.\\n20일 경기 수원시 수원컨벤션센터에서 열린 제55기 삼성전자 정기주주총회에서 참석자들이 한종희 삼성전자 부회장의 인사말을 듣고 있다.\\n20일 경기 수원시 수원컨벤션센터에서 열린 제55기 삼성전자 정기주주총회에서 주주들이 입장하고 있다.\\n/ 임대철 기자'), Document(metadata={'id': 611501, 'hash_key': '1226b4a4c70e7bc5fee64513bdc3ef81', 'title': '이재용, 리창 중국 총리 면담…삼성 중국 사업 지원 감사 뜻 전달', 'created_date': '2024-05-26T22:45:00', 'portal': 'daum', 'media': 'SBS', 'url': 'https://v.daum.net/v/20240526224500535', 'image_url': 'https://img1.daumcdn.net/thumb/S1200x630/?fname=https://t1.daumcdn.net/news/202405/26/sbsi/20240526224502831pvnt.jpg', 'relevance_score': 0.9617499}, page_content='삼성 경영진은 전영현 삼성전자 DS부문장 부회장, 노태문 삼성전자 DX부문 MX사업부장 사장, 박학규 삼성전자 경영지원실장, 최윤호 삼성SDI 대표이사 사장, 최주선 삼성디스플레이 대표이사 사장, 양걸 삼성전자 삼성차이나 사장, 김원경 삼성전자 글로벌공공업무실장 사장 등이 참석했습니다.\\n(사진=삼성전자 제공, 연합뉴스)\\n유덕기 기자 dkyu@sbs.co.kr\\nCopyright © Copyright ⓒ SBS. All rights reserved. 무단 전재, 재배포 및 AI학습 이용 금지')]\n"
     ]
    }
   ],
   "source": [
    "cohere_llm = Cohere(temperature=0, cohere_api_key=COHERE_API_KEY)\n",
    "compressor = CohereRerank(model=\"rerank-multilingual-v3.0\")\n",
    "compression_retriever = ContextualCompressionRetriever(\n",
    "    base_compressor=compressor, base_retriever=knn_retriever\n",
    ")\n",
    "\n",
    "compressed_docs = compression_retriever.invoke(\n",
    "    \"삼성전자\"\n",
    ")\n",
    "print(compressed_docs)"
   ]
  },
  {
   "cell_type": "markdown",
   "id": "75f67553-a213-4cf2-acc6-b7cde2be5d41",
   "metadata": {},
   "source": [
    "# KNN Search일 경우 query_vector를 같이 넘겨줘야 함. "
   ]
  },
  {
   "cell_type": "markdown",
   "id": "4534a1a7-e7dd-4e5c-8960-fe2cb1cf4d8e",
   "metadata": {},
   "source": [
    "### rag prompt 로딩"
   ]
  },
  {
   "cell_type": "code",
   "execution_count": 20,
   "id": "c617a44b-eb4b-4a10-8da9-60d7dcfd0d00",
   "metadata": {
    "tags": []
   },
   "outputs": [],
   "source": [
    "# prompt = hub.pull(\"rlm/rag-prompt\")\n",
    "from langchain_core.prompts import PromptTemplate\n",
    "prompt = PromptTemplate.from_template(\n",
    "    \"\"\"당신은 질문-답변(Question-Answering)을 수행하는 친절한 AI 어시스턴트입니다. 당신의 임무는 주어진 문맥(context) 에서 주어진 질문(question) 에 답하는 것입니다.\n",
    "검색된 다음 문맥(context) 을 사용하여 질문(question) 에 답하세요. 만약, 주어진 문맥(context) 에서 답을 찾을 수 없다면, 답을 모른다면 `주어진 정보에서 질문에 대한 정보를 찾을 수 없습니다` 라고 답하세요.\n",
    "한글로 답변해 주세요. 단, 기술적인 용어나 이름은 번역하지 않고 그대로 사용해 주세요.\n",
    "\n",
    "#Question: \n",
    "{question} \n",
    "\n",
    "#Context: \n",
    "{context} \n",
    "\n",
    "#Answer:\"\"\"\n",
    ")"
   ]
  },
  {
   "cell_type": "code",
   "execution_count": 21,
   "id": "a9ff97a7-0853-43b2-a8ed-a319e1cbbdbc",
   "metadata": {
    "tags": []
   },
   "outputs": [],
   "source": [
    "def format_docs(docs):\n",
    "    return \"\\n\\n\".join(doc.page_content for doc in docs)"
   ]
  },
  {
   "cell_type": "code",
   "execution_count": 22,
   "id": "66a38f74-dc9f-42d3-90d5-f6a77ce43992",
   "metadata": {
    "tags": []
   },
   "outputs": [],
   "source": [
    "rag_chain = (\n",
    "    {\"context\": compression_retriever | format_docs, \"question\": RunnablePassthrough()}\n",
    "    | prompt\n",
    "    | llm\n",
    "    | StrOutputParser()\n",
    ")"
   ]
  },
  {
   "cell_type": "code",
   "execution_count": 25,
   "id": "e117930d-5872-4546-8e48-f4711643b4ad",
   "metadata": {
    "tags": []
   },
   "outputs": [
    {
     "name": "stderr",
     "output_type": "stream",
     "text": [
      "/Users/nuri/dev/jupyter/.venv/lib/python3.9/site-packages/urllib3/connectionpool.py:1063: InsecureRequestWarning: Unverified HTTPS request is being made to host '192.168.0.10'. Adding certificate verification is strongly advised. See: https://urllib3.readthedocs.io/en/1.26.x/advanced-usage.html#ssl-warnings\n",
      "  warnings.warn(\n"
     ]
    },
    {
     "name": "stdout",
     "output_type": "stream",
     "text": [
      "삼성전자는 엔비디아에 4세대 고대역폭메모리(HBM)인 HBM3를 공급하기 시작했으며, 5세대 HBM3E는 아직 테스트 중에 있습니다. 이와 함께 최신 갤럭시S24 시리즈는 인공지능(AI) 기능을 탑재하여 아이폰15 시리즈보다 높은 만족도를 기록했습니다. 또한, 삼성전자는 최근 신제품 Neo QLED TV를 소개했습니다.\n"
     ]
    }
   ],
   "source": [
    "# rag_chain.invoke(\"삼성전자 관련 기사를 검색하고 각각의 기사에 대한 내용을 요약하고 날짜를 같이 표시해줘\")\n",
    "# from langchain_teddynote.messages import stream_response\n",
    "answer = rag_chain.invoke(\"삼성전자의 가장 최신 뉴스를 보여주세요\")\n",
    "print(answer)"
   ]
  },
  {
   "cell_type": "code",
   "execution_count": null,
   "id": "34fe584a-5d19-4acd-9943-ddf5ce6050a9",
   "metadata": {},
   "outputs": [],
   "source": [
    "# es.close()"
   ]
  },
  {
   "cell_type": "markdown",
   "id": "dddb8eeb-8804-468f-a84a-48333fdef373",
   "metadata": {},
   "source": [
    "### knn 검색일 경우 passthrough로 query로 query_vector가 넘어가지 않아서 오류 발생. \n",
    "### ES 8 같을 경우 huggingface 모델을 내장할수 있어서 model_id를 통해서 ES8 내부에서 처리 가능."
   ]
  },
  {
   "cell_type": "code",
   "execution_count": null,
   "id": "23eb1534-ff47-4f32-900a-6a2fa8ff7ac2",
   "metadata": {},
   "outputs": [],
   "source": []
  }
 ],
 "metadata": {
  "kernelspec": {
   "display_name": "Python 3 (ipykernel)",
   "language": "python",
   "name": "python3"
  },
  "language_info": {
   "codemirror_mode": {
    "name": "ipython",
    "version": 3
   },
   "file_extension": ".py",
   "mimetype": "text/x-python",
   "name": "python",
   "nbconvert_exporter": "python",
   "pygments_lexer": "ipython3",
   "version": "3.9.19"
  }
 },
 "nbformat": 4,
 "nbformat_minor": 5
}
