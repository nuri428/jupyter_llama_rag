{
 "cells": [
  {
   "cell_type": "markdown",
   "id": "def9508e-dde0-41eb-b651-b5474bb0598e",
   "metadata": {},
   "source": [
    "# import"
   ]
  },
  {
   "cell_type": "code",
   "execution_count": 1,
   "id": "978cc990-2cd4-4ca2-95ad-015c5e215e88",
   "metadata": {
    "tags": []
   },
   "outputs": [],
   "source": [
    "from dotenv import load_dotenv\n",
    "import os\n",
    "load_dotenv()\n",
    "os.environ[\"LANGCHAIN_TRACING_V2\"] = \"true\"\n",
    "os.environ[\"LANGCHAIN_API_KEY\"] = os.getenv(\"LANGCHAIN_API_KEY\")\n",
    "OPENAI_API_KEY = os.getenv(\"OPENAI_API_KEY\")\n",
    "ES_HOST = os.getenv(\"ES_HOST\")\n",
    "ES_USER_ID = os.getenv(\"ES_ID\")\n",
    "ES_PASSWD = os.getenv(\"ES_PWD\")\n",
    "ES_INDEX_NAME = os.getenv(\"ES_INDEX_NAME\")\n",
    "EMBEDDING_BASE_URL=os.getenv(\"EMBEDDING_BASE_URL\")\n",
    "EMBEDDING_MODEL=os.getenv(\"EMBEDDING_MODEL\")\n",
    "HUGGINGFACEHUB_API_TOKEN = os.getenv(\"HUGGUNGFACE_TOKEN\")"
   ]
  },
  {
   "cell_type": "markdown",
   "id": "f05989b5-07c9-4a42-b1a3-812706367991",
   "metadata": {},
   "source": [
    "## Define tools"
   ]
  },
  {
   "cell_type": "code",
   "execution_count": 2,
   "id": "6c717298-bde4-4151-9219-a93732606fb7",
   "metadata": {
    "tags": []
   },
   "outputs": [],
   "source": [
    "from langchain_community.vectorstores.elasticsearch import ElasticsearchStore\n",
    "from elasticsearch import Elasticsearch\n",
    "from langchain_community.embeddings import HuggingFaceHubEmbeddings\n",
    "from langchain_openai import ChatOpenAI\n",
    "from pydantic.v1 import BaseModel, Field  # <-- Uses v1 namespace\n",
    "from langchain.tools import StructuredTool"
   ]
  },
  {
   "cell_type": "code",
   "execution_count": 3,
   "id": "a8abc71a-ac4c-457f-a686-496d8940b4e6",
   "metadata": {
    "tags": []
   },
   "outputs": [],
   "source": [
    "\n",
    "class SearchToolInput(BaseModel):\n",
    "    \"\"\"Input for the index show data tool.\"\"\"\n",
    "\n",
    "    index_name: str = Field(\n",
    "        ..., description=\"The name of the index for which the data is to be retrieved. in this case indexname will be \" + ES_INDEX_NAME\n",
    "    )\n",
    "    query: str = Field(..., description=\"The ElasticSearch JSON query used to filter all hits. Should use the _source field if possible to specify required fields.\")\n",
    "    from_: int = Field(\n",
    "        ..., description=\"The record index from which the query will start\"\n",
    "    )\n",
    "    size: int = Field(\n",
    "        ...,\n",
    "        description=\"How many records will be retrieved from the ElasticSearch query\",\n",
    "    )"
   ]
  },
  {
   "cell_type": "code",
   "execution_count": 4,
   "id": "f31d0b15-22da-40eb-851d-592664fa4c7c",
   "metadata": {
    "tags": []
   },
   "outputs": [
    {
     "name": "stdout",
     "output_type": "stream",
     "text": [
      "page_content='오픈AI, 10대와 가족 위한 교육 자료 개발\n",
      "생성형 인공지능(AI) 시대를 연 오픈AI가 10대와 가족들을 위한 AI 교육 자료를 만들고 있다고 밝혔다.\n",
      "29일(현지 시각) CNBC 등에 따르면 오픈AI는 10대들이 안전하게 AI를 사용할 수 있도록 '커먼 센스 미디어'와 파트너십을 맺었다고 밝혔다.\n",
      "샘 올트먼 오픈AI 최고경영자(CEO)는 \"우리는 이 도구를 교육 경험의 일부로 사용할 청소년과 사람들이 안전하고 책임감 있게 사용할 수 있는 방법을 찾고 싶다\"라고 밝혔다.\n",
      "이 글자크기로 변경됩니다.\n",
      "(예시) 가장 빠른 뉴스가 있고 다양한 정보, 쌍방향 소통이 숨쉬는 다음뉴스를 만나보세요. 다음뉴스는 국내외 주요이슈와 실시간 속보, 문화생활 및 다양한 분야의 뉴스를 입체적으로 전달하고 있습니다.\n",
      "29일(현지 시각) CNBC 등에 따르면 오픈AI는 10대들이 안전하게 AI를 사용할 수 있도록 ‘커먼 센스 미디어’와 파트너십을 맺었다고 밝혔다. 샘 올트먼 오픈AI 최고경영자(CEO)는 “우리는 이 도구를 교육 경험의 일부로 사용할 청소년과 사람들이 안전하고 책임감 있게 사용할 수 있는 방법을 찾고 싶다”라고 밝혔다.\n",
      "커먼 세스는 아이들이 기술을 안전하게 사용하고 접근할 수 있도록 하는 데 중점을 둔 비영리단체다. 오픈AI와 커먼 센스는 어린이, 교육자, 부모를 위한 AI 지침서와 교육자료를 만드는 데 있다. 커먼센스 미디어의 CEO 짐 스테이어는 “가족과 교육자에게 챗GPT의 안전하고 책임감 있는 사용에 대해 교육하고 이 새로운 기술이 의도하지 않은 결과를 피할 수 있도록 설계할 것”이라고 설명했다.' metadata={'id': 336431, 'hash_key': '515af3aa67d7a9504c65d632fce82c04', 'title': '오픈AI, 10대와 가족 위한 교육 자료 개발', 'created_date': '2024-01-30T10:03:04', 'portal': 'daum', 'media': '매일경제', 'url': 'https://v.daum.net/v/20240130100304974', 'image_url': 'https://img1.daumcdn.net/thumb/S1200x630/?fname=https://t1.daumcdn.net/news/202401/30/mk/20240130100305546pdkm.png'}\n"
     ]
    },
    {
     "name": "stderr",
     "output_type": "stream",
     "text": [
      "/Users/nuri/dev/jupyter/.venv/lib/python3.9/site-packages/langchain_core/_api/deprecation.py:139: LangChainDeprecationWarning: The class `HuggingFaceHubEmbeddings` was deprecated in LangChain 0.2.2 and will be removed in 0.3.0. An updated version of the class exists in the langchain-huggingface package and should be used instead. To use it run `pip install -U langchain-huggingface` and import as `from langchain_huggingface import HuggingFaceEndpointEmbeddings`.\n",
      "  warn_deprecated(\n",
      "/var/folders/jy/5_rl6575533638lskdr9s6s00000gn/T/ipykernel_46471/3231746536.py:2: DeprecationWarning: The 'timeout' parameter is deprecated in favor of 'request_timeout'\n",
      "  es = Elasticsearch([ES_HOST], basic_auth=(ES_USER_ID, ES_PASSWD), ca_certs=\"./../certs/ca.crt\", verify_certs=False, timeout=120)\n",
      "/Users/nuri/dev/jupyter/.venv/lib/python3.9/site-packages/elasticsearch/_sync/client/__init__.py:399: SecurityWarning: Connecting to 'https://192.168.0.10:9200' using TLS with verify_certs=False is insecure\n",
      "  _transport = transport_class(\n",
      "/Users/nuri/dev/jupyter/.venv/lib/python3.9/site-packages/langchain_core/_api/deprecation.py:139: LangChainPendingDeprecationWarning: The class `ElasticsearchStore` will be deprecated in a future version. Use Use class in langchain-elasticsearch package instead.\n",
      "  warn_deprecated(\n",
      "/Users/nuri/dev/jupyter/.venv/lib/python3.9/site-packages/urllib3/connectionpool.py:1099: InsecureRequestWarning: Unverified HTTPS request is being made to host '192.168.0.10'. Adding certificate verification is strongly advised. See: https://urllib3.readthedocs.io/en/latest/advanced-usage.html#tls-warnings\n",
      "  warnings.warn(\n"
     ]
    }
   ],
   "source": [
    "embeddings = HuggingFaceHubEmbeddings(model=EMBEDDING_BASE_URL, huggingfacehub_api_token=HUGGINGFACEHUB_API_TOKEN)\n",
    "es = Elasticsearch([ES_HOST], basic_auth=(ES_USER_ID, ES_PASSWD), ca_certs=\"./../certs/ca.crt\", verify_certs=False, timeout=120)\n",
    "vector_store = ElasticsearchStore(\n",
    "    embedding=embeddings,\n",
    "    index_name=ES_INDEX_NAME,\n",
    "    es_connection=es\n",
    ")\n",
    "retriever = vector_store.as_retriever()\n",
    "\n",
    "search_results = retriever.invoke(\"openai\")\n",
    "print(search_results[0])\n",
    "# If we want, we can create other tools.\n",
    "# Once we have all the tools we want, we can put them in a list that we will reference later."
   ]
  },
  {
   "cell_type": "code",
   "execution_count": 5,
   "id": "6d7cb965-6f4e-4855-9d12-6ff836ab202f",
   "metadata": {
    "tags": []
   },
   "outputs": [],
   "source": [
    "def create_es_search_tool():\n",
    "      return StructuredTool(name=\"elastic_index_search_tool\",\n",
    "                            func=retriever.get_relevant_documents, \n",
    "                            args_schema=SearchToolInput)\n",
    "tools = [create_es_search_tool()]"
   ]
  },
  {
   "cell_type": "markdown",
   "id": "bdc08fdd-e3f6-4ded-acf8-92a667fe5f02",
   "metadata": {},
   "source": [
    "## define llm"
   ]
  },
  {
   "cell_type": "code",
   "execution_count": 6,
   "id": "49070493-9eda-4a0f-85a2-0897ac44c37c",
   "metadata": {
    "tags": []
   },
   "outputs": [],
   "source": [
    "llm = ChatOpenAI(model=\"gpt-4o\", api_key=OPENAI_API_KEY)"
   ]
  },
  {
   "cell_type": "code",
   "execution_count": 7,
   "id": "b173fad0-88c9-41ce-9329-7e4fb064f77e",
   "metadata": {
    "tags": []
   },
   "outputs": [
    {
     "data": {
      "text/plain": [
       "'Hello! How can I assist you today?'"
      ]
     },
     "execution_count": 7,
     "metadata": {},
     "output_type": "execute_result"
    }
   ],
   "source": [
    "from langchain_core.messages import HumanMessage\n",
    "\n",
    "response = llm.invoke([HumanMessage(content=\"hi!\")])\n",
    "response.content"
   ]
  },
  {
   "cell_type": "markdown",
   "id": "a0f82627-3651-41ab-94ce-1e70e2276be8",
   "metadata": {},
   "source": [
    "### agentic"
   ]
  },
  {
   "cell_type": "code",
   "execution_count": 8,
   "id": "34c4fcc4-ee39-41d7-b208-d651f3813514",
   "metadata": {
    "tags": []
   },
   "outputs": [],
   "source": [
    "model_with_tools = llm.bind_tools(tools)"
   ]
  },
  {
   "cell_type": "code",
   "execution_count": 9,
   "id": "f07c7bc1-8d48-4222-ab17-4d1b472a2419",
   "metadata": {
    "tags": []
   },
   "outputs": [
    {
     "name": "stdout",
     "output_type": "stream",
     "text": [
      "ContentString: \n",
      "ToolCalls: [{'name': 'elastic_index_search_tool', 'args': {'index_name': 'news_article_embedding', 'query': '{\"query\": {\"match\": {\"content\": \"삼성전자\"}}}', 'from_': 0, 'size': 5}, 'id': 'call_64YzpffPWATw8muffix2b0fb', 'type': 'tool_call'}]\n"
     ]
    }
   ],
   "source": [
    "response = model_with_tools.invoke([HumanMessage(content=f\"{ES_INDEX_NAME} 색인에서 삼성전자 뉴스를 찾아줘!\")])\n",
    "\n",
    "print(f\"ContentString: {response.content}\")\n",
    "print(f\"ToolCalls: {response.tool_calls}\")"
   ]
  },
  {
   "cell_type": "markdown",
   "id": "bf5e8c08-7b02-457f-8f8d-a30573c8b345",
   "metadata": {},
   "source": [
    "# Create Agent"
   ]
  },
  {
   "cell_type": "code",
   "execution_count": 10,
   "id": "24bcc64a-528b-4fbb-a2a9-d73366d46bdb",
   "metadata": {
    "tags": []
   },
   "outputs": [],
   "source": [
    "from langgraph.prebuilt import create_react_agent\n",
    "\n",
    "agent_executor = create_react_agent(llm, tools)"
   ]
  },
  {
   "cell_type": "code",
   "execution_count": 11,
   "id": "93c26e4b-328d-4d17-9070-a7a0ae63a337",
   "metadata": {
    "tags": []
   },
   "outputs": [
    {
     "name": "stderr",
     "output_type": "stream",
     "text": [
      "/Users/nuri/dev/jupyter/.venv/lib/python3.9/site-packages/urllib3/connectionpool.py:1099: InsecureRequestWarning: Unverified HTTPS request is being made to host '192.168.0.10'. Adding certificate verification is strongly advised. See: https://urllib3.readthedocs.io/en/latest/advanced-usage.html#tls-warnings\n",
      "  warnings.warn(\n"
     ]
    },
    {
     "data": {
      "text/plain": [
       "[HumanMessage(content='2024년 삼성전자에 대한 부정적인 뉴스를 찾아서 하나 하나 부정적인 지수를 점수로 매겨서 리스트로 표시해', id='4fca0d9b-d464-4830-ac1a-a935696346c2'),\n",
       " AIMessage(content='', additional_kwargs={'tool_calls': [{'id': 'call_UBh0oK45j07Q0PZ2CGEge9NM', 'function': {'arguments': '{\"index_name\": \"news_article_embedding\", \"query\": \"{\\\\\"query\\\\\":{\\\\\"bool\\\\\":{\\\\\"must\\\\\":[{\\\\\"match\\\\\":{\\\\\"content\\\\\":\\\\\"삼성전자\\\\\"}},{\\\\\"match\\\\\":{\\\\\"content\\\\\":\\\\\"부정\\\\\"}}]}}}\", \"from_\": 0, \"size\": 5}', 'name': 'elastic_index_search_tool'}, 'type': 'function'}]}, response_metadata={'token_usage': {'completion_tokens': 78, 'prompt_tokens': 163, 'total_tokens': 241}, 'model_name': 'gpt-4o-2024-05-13', 'system_fingerprint': 'fp_400f27fa1f', 'finish_reason': 'tool_calls', 'logprobs': None}, id='run-21b096e5-a9b1-4f2c-9e4d-0a637549da14-0', tool_calls=[{'name': 'elastic_index_search_tool', 'args': {'index_name': 'news_article_embedding', 'query': '{\"query\":{\"bool\":{\"must\":[{\"match\":{\"content\":\"삼성전자\"}},{\"match\":{\"content\":\"부정\"}}]}}}', 'from_': 0, 'size': 5}, 'id': 'call_UBh0oK45j07Q0PZ2CGEge9NM', 'type': 'tool_call'}], usage_metadata={'input_tokens': 163, 'output_tokens': 78, 'total_tokens': 241}),\n",
       " ToolMessage(content='[Document(metadata={\\'id\\': 79516, \\'hash_key\\': \\'9b76bb66e4af4a7dd3a8d635fb5ae1a5\\', \\'title\\': \"[비즈&] 삼성전자, 글로벌 전략회의…\\'복합위기 대응책\\' 모색 外\", \\'created_date\\': \\'2023-12-14T17:38:03\\', \\'portal\\': \\'naver\\', \\'media\\': \\'연합뉴스TV | 네이버\\', \\'url\\': \\'https://n.news.naver.com/mnews/article/422/0000634426?rc=N&ntype=RANKING&sid=101\\', \\'image_url\\': \\'https://imgnews.pstatic.net/image/422/2023/12/14/MYH20231214016700641_20231214173803275.jpg?type=w800\\'}, page_content=\\'#삼성전자 #LG유플러스 #이중근 #포스코홀딩스 #현대자동차\\\\n연합뉴스TV 기사문의 및 제보 : 카톡/라인 jebo23\\\\nCopyright ⓒ 연합뉴스TV. All rights reserved. 무단 전재 및 재배포 금지.\\\\n기사의 섹션 정보는 해당 언론사의 분류를 따르고 있습니다. 언론사는 개별 기사를 2개 이상 섹션으로 중복 분류할 수 있습니다.\\\\n모두에게 보여주고 싶은 기사라면?beta 이 기사를 추천합니다 버튼을 눌러주세요. 집계 기간 동안 추천을 많이 받은 기사는 네이버 자동 기사배열 영역에 추천 요소로 활용됩니다. 레이어 닫기\\'), Document(metadata={\\'id\\': 241215, \\'hash_key\\': \\'569b51141fcfdd440bb55d0df2af79bd\\', \\'title\\': \\'[속보]삼성전자, 4분기 영업익 2.8조…전년비 35%↓\\', \\'created_date\\': \\'2024-01-09T08:39:07\\', \\'portal\\': \\'naver\\', \\'media\\': \\'뉴시스 | 네이버\\', \\'url\\': \\'https://n.news.naver.com/mnews/article/003/0012307841?rc=N&ntype=RANKING&sid=101\\', \\'image_url\\': \\'https://imgnews.pstatic.net/image/003/2024/01/09/NISI20211008_0000842727_web_20211008090718_20240109083907354.jpg?type=w800\\'}, page_content=\\'[속보]삼성전자, 4분기 영업익 2.8조…전년비 35%↓\\\\n▶ 네이버에서 뉴시스 구독하기\\\\n▶ K-Artprice, 유명 미술작품 가격 공개\\\\nCopyright ⓒ 뉴시스. All rights reserved. 무단 전재 및 재배포 금지.\\\\n기사의 섹션 정보는 해당 언론사의 분류를 따르고 있습니다. 언론사는 개별 기사를 2개 이상 섹션으로 중복 분류할 수 있습니다.\\\\n모두에게 보여주고 싶은 기사라면?beta 이 기사를 추천합니다 버튼을 눌러주세요. 집계 기간 동안 추천을 많이 받은 기사는 네이버 자동 기사배열 영역에 추천 요소로 활용됩니다. 레이어 닫기\\\\n본문 듣기를 종료하였습니다.\\'), Document(metadata={\\'id\\': 121517, \\'hash_key\\': \\'6b177ada26f698a28bc92baaa5ef6c8e\\', \\'title\\': \\'[사진] 네이버·삼성전자 합작 ‘AI 반도체’\\', \\'created_date\\': \\'2023-12-20T00:02:04\\', \\'portal\\': \\'naver\\', \\'media\\': \\'중앙일보 | 네이버\\', \\'url\\': \\'https://n.news.naver.com/mnews/article/025/0003329676?rc=N&ntype=RANKING&sid=105\\', \\'image_url\\': \\'https://imgnews.pstatic.net/image/025/2023/12/20/0003329676_001_20231220000314371.jpg?type=w800\\'}, page_content=\\'[사진] 네이버·삼성전자 합작 ‘AI 반도체’\\\\nCopyright ⓒ 중앙일보. All rights reserved. 무단 전재 및 재배포 금지.\\\\n기사의 섹션 정보는 해당 언론사의 분류를 따르고 있습니다. 언론사는 개별 기사를 2개 이상 섹션으로 중복 분류할 수 있습니다.\\\\n모두에게 보여주고 싶은 기사라면?beta 이 기사를 추천합니다 버튼을 눌러주세요. 집계 기간 동안 추천을 많이 받은 기사는 네이버 자동 기사배열 영역에 추천 요소로 활용됩니다. 레이어 닫기\\'), Document(metadata={\\'id\\': 609074, \\'hash_key\\': \\'0dc7a61125d6d946e86f45b173e91645\\', \\'title\\': \\'[속보] 삼성전자, 외신보도 즉각 반박 \"HBM 공급 위한 테스트 진행 중\"\\', \\'created_date\\': \\'2024-05-24T09:35:03\\', \\'portal\\': \\'naver\\', \\'media\\': \\'한경비즈니스 | 네이버\\', \\'url\\': \\'https://n.news.naver.com/mnews/article/050/0000075415?rc=N&ntype=RANKING&sid=101\\', \\'image_url\\': \\'https://imgnews.pstatic.net/image/050/2024/05/24/0000075415_001_20240524093601129.jpg?type=w800\\'}, page_content=\\'[속보] 삼성전자, 외신보도 즉각 반박 \"HBM 공급 위한 테스트 진행 중\"\\\\n[속보] 삼성전자 \"HBM 공급 위한 테스트 순조롭게 진행 중\"\\\\n[속보] 삼성전자 \"HBM 공급 위한 테스트 순조롭게 진행 중\"\\\\nCopyright ⓒ 한경비즈니스. All rights reserved. 무단 전재 및 재배포 금지.\\\\n이 기사는 언론사에서 경제 섹션으로 분류했습니다.\\\\n기사 섹션 분류 안내\\\\n기사의 섹션 정보는 해당 언론사의 분류를 따르고 있습니다. 언론사는 개별 기사를 2개 이상 섹션으로 중복 분류할 수 있습니다.\\\\n3\\\\n한경비즈니스 헤드라인 더보기\\\\n한경비즈니스 랭킹 뉴스 오전 8시~9시까지 집계한 결과입니다. 더보기\\\\n5\\\\n3\\')]', name='elastic_index_search_tool', id='02e02d8f-55f8-4feb-8d8b-d48ca142f7a8', tool_call_id='call_UBh0oK45j07Q0PZ2CGEge9NM'),\n",
       " AIMessage(content='다음은 2024년 삼성전자에 대한 부정적인 뉴스 기사와 그에 대한 부정적인 지수 점수입니다.\\n\\n### 1. [비즈&] 삼성전자, 글로벌 전략회의…\\'복합위기 대응책\\' 모색 外\\n- **작성일**: 2023-12-14\\n- **매체**: 연합뉴스TV\\n- **URL**: [기사 링크](https://n.news.naver.com/mnews/article/422/0000634426?rc=N&ntype=RANKING&sid=101)\\n- **부정적인 지수**: 5/10\\n- **요약**: 삼성전자가 글로벌 전략회의를 통해 복합위기 대응책을 모색하고 있다는 내용으로, 위기 상황을 언급함.\\n\\n### 2. [속보]삼성전자, 4분기 영업익 2.8조…전년비 35%↓\\n- **작성일**: 2024-01-09\\n- **매체**: 뉴시스\\n- **URL**: [기사 링크](https://n.news.naver.com/mnews/article/003/0012307841?rc=N&ntype=RANKING&sid=101)\\n- **부정적인 지수**: 8/10\\n- **요약**: 삼성전자의 4분기 영업이익이 전년 대비 35% 감소한 2.8조 원이라는 소식으로, 상당한 수익 감소를 다루고 있음.\\n\\n### 3. [사진] 네이버·삼성전자 합작 ‘AI 반도체’\\n- **작성일**: 2023-12-20\\n- **매체**: 중앙일보\\n- **URL**: [기사 링크](https://n.news.naver.com/mnews/article/025/0003329676?rc=N&ntype=RANKING&sid=105)\\n- **부정적인 지수**: 2/10\\n- **요약**: 네이버와 삼성전자가 합작하여 AI 반도체를 개발한다는 긍정적인 내용으로, 부정적인 요소는 적음.\\n\\n### 4. [속보] 삼성전자, 외신보도 즉각 반박 \"HBM 공급 위한 테스트 진행 중\"\\n- **작성일**: 2024-05-24\\n- **매체**: 한경비즈니스\\n- **URL**: [기사 링크](https://n.news.naver.com/mnews/article/050/0000075415?rc=N&ntype=RANKING&sid=101)\\n- **부정적인 지수**: 6/10\\n- **요약**: 외신 보도에 대해 삼성전자가 즉각 반박하며 HBM 공급을 위한 테스트가 진행 중이라는 내용으로, 논란이 발생했음을 다룸.\\n\\n위의 점수들은 기사 내용의 부정적인 정도를 기준으로 주관적으로 평가한 것입니다.', response_metadata={'token_usage': {'completion_tokens': 643, 'prompt_tokens': 1644, 'total_tokens': 2287}, 'model_name': 'gpt-4o-2024-05-13', 'system_fingerprint': 'fp_4e2b2da518', 'finish_reason': 'stop', 'logprobs': None}, id='run-84365e86-454c-469f-bd3e-5c76d9d897b4-0', usage_metadata={'input_tokens': 1644, 'output_tokens': 643, 'total_tokens': 2287})]"
      ]
     },
     "execution_count": 11,
     "metadata": {},
     "output_type": "execute_result"
    }
   ],
   "source": [
    "response = agent_executor.invoke(\n",
    "    {\"messages\": [HumanMessage(content=f\"2024년 삼성전자에 대한 부정적인 뉴스를 찾아서 하나 하나 부정적인 지수를 점수로 매겨서 리스트로 표시해\")]}\n",
    ")\n",
    "response[\"messages\"]"
   ]
  },
  {
   "cell_type": "code",
   "execution_count": 12,
   "id": "b3d56f9e-9a49-41bd-92dc-4af784017c5a",
   "metadata": {
    "tags": []
   },
   "outputs": [
    {
     "data": {
      "text/plain": [
       "AIMessage(content='다음은 2024년 삼성전자에 대한 부정적인 뉴스 기사와 그에 대한 부정적인 지수 점수입니다.\\n\\n### 1. [비즈&] 삼성전자, 글로벌 전략회의…\\'복합위기 대응책\\' 모색 外\\n- **작성일**: 2023-12-14\\n- **매체**: 연합뉴스TV\\n- **URL**: [기사 링크](https://n.news.naver.com/mnews/article/422/0000634426?rc=N&ntype=RANKING&sid=101)\\n- **부정적인 지수**: 5/10\\n- **요약**: 삼성전자가 글로벌 전략회의를 통해 복합위기 대응책을 모색하고 있다는 내용으로, 위기 상황을 언급함.\\n\\n### 2. [속보]삼성전자, 4분기 영업익 2.8조…전년비 35%↓\\n- **작성일**: 2024-01-09\\n- **매체**: 뉴시스\\n- **URL**: [기사 링크](https://n.news.naver.com/mnews/article/003/0012307841?rc=N&ntype=RANKING&sid=101)\\n- **부정적인 지수**: 8/10\\n- **요약**: 삼성전자의 4분기 영업이익이 전년 대비 35% 감소한 2.8조 원이라는 소식으로, 상당한 수익 감소를 다루고 있음.\\n\\n### 3. [사진] 네이버·삼성전자 합작 ‘AI 반도체’\\n- **작성일**: 2023-12-20\\n- **매체**: 중앙일보\\n- **URL**: [기사 링크](https://n.news.naver.com/mnews/article/025/0003329676?rc=N&ntype=RANKING&sid=105)\\n- **부정적인 지수**: 2/10\\n- **요약**: 네이버와 삼성전자가 합작하여 AI 반도체를 개발한다는 긍정적인 내용으로, 부정적인 요소는 적음.\\n\\n### 4. [속보] 삼성전자, 외신보도 즉각 반박 \"HBM 공급 위한 테스트 진행 중\"\\n- **작성일**: 2024-05-24\\n- **매체**: 한경비즈니스\\n- **URL**: [기사 링크](https://n.news.naver.com/mnews/article/050/0000075415?rc=N&ntype=RANKING&sid=101)\\n- **부정적인 지수**: 6/10\\n- **요약**: 외신 보도에 대해 삼성전자가 즉각 반박하며 HBM 공급을 위한 테스트가 진행 중이라는 내용으로, 논란이 발생했음을 다룸.\\n\\n위의 점수들은 기사 내용의 부정적인 정도를 기준으로 주관적으로 평가한 것입니다.', response_metadata={'token_usage': {'completion_tokens': 643, 'prompt_tokens': 1644, 'total_tokens': 2287}, 'model_name': 'gpt-4o-2024-05-13', 'system_fingerprint': 'fp_4e2b2da518', 'finish_reason': 'stop', 'logprobs': None}, id='run-84365e86-454c-469f-bd3e-5c76d9d897b4-0', usage_metadata={'input_tokens': 1644, 'output_tokens': 643, 'total_tokens': 2287})"
      ]
     },
     "execution_count": 12,
     "metadata": {},
     "output_type": "execute_result"
    }
   ],
   "source": [
    "response[\"messages\"][-1]"
   ]
  },
  {
   "cell_type": "markdown",
   "id": "9d5766a7-ef53-4e1e-9c35-0795ae805b32",
   "metadata": {},
   "source": [
    "1. **기사 제목:** \"메모리 수요 회복·재고 정상화…1Q 흑자전환 예상\" - 삼성전자 컨콜  \n",
    "**작성일자:** 2024-01-31\n",
    "**부정적인 지수:** 3.5\n",
    "**기사 링크:** [네이버](https://n.news.naver.com/mnews/article/018/0005664707?rc=N&ntype=RANKING&sid=101)\n",
    "**요약:** 메모리 수요 회복과 재고 정상화에 따라 1분기 흑자전환이 예상되지만, 전년 대비 실적이 부진할 것으로 전망됨.\n",
    "\n",
    "2. **기사 제목:** \"[하나證 주간추천주]우리금융지주·삼성전기·엘앤에프\"\n",
    "**작성일자:** 2024-03-30\n",
    "**부정적인 지수:** 4.0\n",
    "**기사 링크:** [다음](https://v.daum.net/v/20240330124950413)\n",
    "**요약:** 삼성전기는 1분기 잠정실적 발표 예정이며, 메모리 업황 호조에도 주가 순자산비율이 평균 수준에 못 미침.\n",
    "\n",
    "3. **기사 제목:** \"[속보]삼성전자, 4분기 영업이익 2.8조…전년비 35%↓\"\n",
    "**작성일자:** 2024-01-09\n",
    "**부정적인 지수:** 4.5\n",
    "**기사 링크:** [네이버](https://n.news.naver.com/mnews/article/003/0012307841?rc=N&ntype=RANKING&sid=101)\n",
    "**요약:** 삼성전자의 4분기 영업이익이 전년 대비 35% 감소한 2.8조 원으로 집계됨.\n",
    "\n",
    "4. **기사 제목:** \"[컨콜]삼성전자 \"1분기 메모리 사업 흑자전환 예상\"\"\n",
    "**작성일자:** 2024-01-31\n",
    "**부정적인 지수:** 3.0\n",
    "**기사 링크:** [네이버](https://n.news.naver.com/mnews/article/277/0005374162?rc=N&ntype=RANKING&sid=101)\n",
    "**요약:** 메모리 사업의 1분기 흑자전환이 예상되나, 전반적인 실적은 부진할 것으로 예상됨.\n",
    "\n",
    "5. **기사 제목:** \"[속보]삼성전자 작년 영업이익 6조5400억 원…전년비 85%↓\"\n",
    "**작성일자:** 2024-01-09\n",
    "**부정적인 지수:** 4.5\n",
    "**기사 링크:** [네이버](https://n.news.naver.com/mnews/article/421/0007278353?rc=N&ntype=RANKING&sid=101)\n",
    "**요약:** 삼성전자의 작년 영업이익이 전년 대비 85% 감소한 6조5400억 원으로 집계됨.\n",
    "\n",
    "6. **기사 제목:** \"D램·낸드, 올해 상반기에도 선별적 생산조정\" - 삼성전자 컨콜\n",
    "**작성일자:** 2024-01-31\n",
    "**부정적인 지수:** 3.5\n",
    "**기사 링크:** [네이버](https://n.news.naver.com/mnews/article/018/0005664737?rc=N&ntype=RANKING&sid=101)\n",
    "**요약:** D램과 낸드플래시의 생산 조정이 상반기에도 지속될 예정이며, 이는 전체적인 실적에 부정적인 영향을 미칠 것으로 보임.\n",
    "\n",
    "각 기사의 부정적인 지수는 1에서 5 사이로, 5에 가까울수록 부정적인 수준이 높습니다.',"
   ]
  },
  {
   "cell_type": "code",
   "execution_count": null,
   "id": "27e2c74a-dcc8-42b2-8cf8-c8a6e4e6ddac",
   "metadata": {},
   "outputs": [],
   "source": []
  }
 ],
 "metadata": {
  "kernelspec": {
   "display_name": "Python 3 (ipykernel)",
   "language": "python",
   "name": "python3"
  },
  "language_info": {
   "codemirror_mode": {
    "name": "ipython",
    "version": 3
   },
   "file_extension": ".py",
   "mimetype": "text/x-python",
   "name": "python",
   "nbconvert_exporter": "python",
   "pygments_lexer": "ipython3",
   "version": "3.9.19"
  }
 },
 "nbformat": 4,
 "nbformat_minor": 5
}
