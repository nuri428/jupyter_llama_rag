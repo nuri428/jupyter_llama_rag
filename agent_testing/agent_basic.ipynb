{
 "cells": [
  {
   "cell_type": "markdown",
   "id": "def9508e-dde0-41eb-b651-b5474bb0598e",
   "metadata": {},
   "source": [
    "# import"
   ]
  },
  {
   "cell_type": "code",
   "execution_count": 1,
   "id": "978cc990-2cd4-4ca2-95ad-015c5e215e88",
   "metadata": {
    "tags": []
   },
   "outputs": [],
   "source": [
    "from dotenv import load_dotenv\n",
    "import os\n",
    "load_dotenv()\n",
    "os.environ[\"LANGCHAIN_TRACING_V2\"] = \"true\"\n",
    "os.environ[\"LANGCHAIN_API_KEY\"] = os.getenv(\"LANGCHAIN_API_KEY\")\n",
    "OPENAI_API_KEY = os.getenv(\"OPENAI_API_KEY\")\n",
    "ES_HOST = os.getenv(\"ES_HOST\")\n",
    "ES_USER_ID = os.getenv(\"ES_ID\")\n",
    "ES_PASSWD = os.getenv(\"ES_PWD\")\n",
    "ES_INDEX_NAME = os.getenv(\"ES_INDEX_NAME\")\n",
    "EMBEDDING_BASE_URL=os.getenv(\"EMBEDDING_BASE_URL\")\n",
    "EMBEDDING_MODEL=os.getenv(\"EMBEDDING_MODEL\")\n",
    "HUGGINGFACEHUB_API_TOKEN = os.getenv(\"HUGGUNGFACE_TOKEN\")"
   ]
  },
  {
   "cell_type": "markdown",
   "id": "f05989b5-07c9-4a42-b1a3-812706367991",
   "metadata": {},
   "source": [
    "## Define tools"
   ]
  },
  {
   "cell_type": "code",
   "execution_count": 2,
   "id": "6c717298-bde4-4151-9219-a93732606fb7",
   "metadata": {
    "tags": []
   },
   "outputs": [],
   "source": [
    "from langchain_community.vectorstores.elasticsearch import ElasticsearchStore\n",
    "from elasticsearch import Elasticsearch\n",
    "from langchain_community.embeddings import HuggingFaceHubEmbeddings\n",
    "from langchain_openai import ChatOpenAI\n",
    "from pydantic.v1 import BaseModel, Field  # <-- Uses v1 namespace\n",
    "from langchain.tools import StructuredTool"
   ]
  },
  {
   "cell_type": "code",
   "execution_count": 3,
   "id": "a8abc71a-ac4c-457f-a686-496d8940b4e6",
   "metadata": {
    "tags": []
   },
   "outputs": [],
   "source": [
    "\n",
    "class SearchToolInput(BaseModel):\n",
    "    \"\"\"Input for the index show data tool.\"\"\"\n",
    "\n",
    "    index_name: str = Field(\n",
    "        ..., description=\"The name of the index for which the data is to be retrieved. in this case indexname will be \" + ES_INDEX_NAME\n",
    "    )\n",
    "    query: str = Field(..., description=\"The ElasticSearch JSON query used to filter all hits. Should use the _source field if possible to specify required fields.\")\n",
    "    from_: int = Field(\n",
    "        ..., description=\"The record index from which the query will start\"\n",
    "    )\n",
    "    size: int = Field(\n",
    "        ...,\n",
    "        description=\"How many records will be retrieved from the ElasticSearch query\",\n",
    "    )"
   ]
  },
  {
   "cell_type": "code",
   "execution_count": 4,
   "id": "f31d0b15-22da-40eb-851d-592664fa4c7c",
   "metadata": {
    "tags": []
   },
   "outputs": [
    {
     "name": "stderr",
     "output_type": "stream",
     "text": [
      "/Users/nuri/dev/jupyter/.venv/lib/python3.9/site-packages/langchain_core/_api/deprecation.py:139: LangChainDeprecationWarning: The class `HuggingFaceHubEmbeddings` was deprecated in LangChain 0.2.2 and will be removed in 0.3.0. An updated version of the class exists in the langchain-huggingface package and should be used instead. To use it run `pip install -U langchain-huggingface` and import as `from langchain_huggingface import HuggingFaceEndpointEmbeddings`.\n",
      "  warn_deprecated(\n",
      "/var/folders/jy/5_rl6575533638lskdr9s6s00000gn/T/ipykernel_75611/3231746536.py:2: DeprecationWarning: The 'timeout' parameter is deprecated in favor of 'request_timeout'\n",
      "  es = Elasticsearch([ES_HOST], basic_auth=(ES_USER_ID, ES_PASSWD), ca_certs=\"./../certs/ca.crt\", verify_certs=False, timeout=120)\n",
      "/Users/nuri/dev/jupyter/.venv/lib/python3.9/site-packages/elasticsearch/_sync/client/__init__.py:399: SecurityWarning: Connecting to 'https://192.168.0.10:9200' using TLS with verify_certs=False is insecure\n",
      "  _transport = transport_class(\n",
      "/Users/nuri/dev/jupyter/.venv/lib/python3.9/site-packages/langchain_core/_api/deprecation.py:139: LangChainPendingDeprecationWarning: The class `ElasticsearchStore` will be deprecated in a future version. Use Use class in langchain-elasticsearch package instead.\n",
      "  warn_deprecated(\n",
      "/Users/nuri/dev/jupyter/.venv/lib/python3.9/site-packages/urllib3/connectionpool.py:1099: InsecureRequestWarning: Unverified HTTPS request is being made to host '192.168.0.10'. Adding certificate verification is strongly advised. See: https://urllib3.readthedocs.io/en/latest/advanced-usage.html#tls-warnings\n",
      "  warnings.warn(\n"
     ]
    },
    {
     "name": "stdout",
     "output_type": "stream",
     "text": [
      "page_content='오픈AI, 10대와 가족 위한 교육 자료 개발\n",
      "생성형 인공지능(AI) 시대를 연 오픈AI가 10대와 가족들을 위한 AI 교육 자료를 만들고 있다고 밝혔다.\n",
      "29일(현지 시각) CNBC 등에 따르면 오픈AI는 10대들이 안전하게 AI를 사용할 수 있도록 '커먼 센스 미디어'와 파트너십을 맺었다고 밝혔다.\n",
      "샘 올트먼 오픈AI 최고경영자(CEO)는 \"우리는 이 도구를 교육 경험의 일부로 사용할 청소년과 사람들이 안전하고 책임감 있게 사용할 수 있는 방법을 찾고 싶다\"라고 밝혔다.\n",
      "이 글자크기로 변경됩니다.\n",
      "(예시) 가장 빠른 뉴스가 있고 다양한 정보, 쌍방향 소통이 숨쉬는 다음뉴스를 만나보세요. 다음뉴스는 국내외 주요이슈와 실시간 속보, 문화생활 및 다양한 분야의 뉴스를 입체적으로 전달하고 있습니다.\n",
      "29일(현지 시각) CNBC 등에 따르면 오픈AI는 10대들이 안전하게 AI를 사용할 수 있도록 ‘커먼 센스 미디어’와 파트너십을 맺었다고 밝혔다. 샘 올트먼 오픈AI 최고경영자(CEO)는 “우리는 이 도구를 교육 경험의 일부로 사용할 청소년과 사람들이 안전하고 책임감 있게 사용할 수 있는 방법을 찾고 싶다”라고 밝혔다.\n",
      "커먼 세스는 아이들이 기술을 안전하게 사용하고 접근할 수 있도록 하는 데 중점을 둔 비영리단체다. 오픈AI와 커먼 센스는 어린이, 교육자, 부모를 위한 AI 지침서와 교육자료를 만드는 데 있다. 커먼센스 미디어의 CEO 짐 스테이어는 “가족과 교육자에게 챗GPT의 안전하고 책임감 있는 사용에 대해 교육하고 이 새로운 기술이 의도하지 않은 결과를 피할 수 있도록 설계할 것”이라고 설명했다.' metadata={'id': 336431, 'hash_key': '515af3aa67d7a9504c65d632fce82c04', 'title': '오픈AI, 10대와 가족 위한 교육 자료 개발', 'created_date': '2024-01-30T10:03:04', 'portal': 'daum', 'media': '매일경제', 'url': 'https://v.daum.net/v/20240130100304974', 'image_url': 'https://img1.daumcdn.net/thumb/S1200x630/?fname=https://t1.daumcdn.net/news/202401/30/mk/20240130100305546pdkm.png'}\n"
     ]
    }
   ],
   "source": [
    "embeddings = HuggingFaceHubEmbeddings(model=EMBEDDING_BASE_URL, huggingfacehub_api_token=HUGGINGFACEHUB_API_TOKEN)\n",
    "es = Elasticsearch([ES_HOST], basic_auth=(ES_USER_ID, ES_PASSWD), ca_certs=\"./../certs/ca.crt\", verify_certs=False, timeout=120)\n",
    "vector_store = ElasticsearchStore(\n",
    "    embedding=embeddings,\n",
    "    index_name=ES_INDEX_NAME,\n",
    "    es_connection=es\n",
    ")\n",
    "retriever = vector_store.as_retriever()\n",
    "\n",
    "search_results = retriever.invoke(\"openai\")\n",
    "print(search_results[0])\n",
    "# If we want, we can create other tools.\n",
    "# Once we have all the tools we want, we can put them in a list that we will reference later."
   ]
  },
  {
   "cell_type": "code",
   "execution_count": 5,
   "id": "6d7cb965-6f4e-4855-9d12-6ff836ab202f",
   "metadata": {
    "tags": []
   },
   "outputs": [],
   "source": [
    "def create_es_search_tool():\n",
    "      return StructuredTool(name=\"elastic_index_search_tool\",\n",
    "                            func=retriever.get_relevant_documents, \n",
    "                            args_schema=SearchToolInput)\n",
    "tools = [create_es_search_tool()]"
   ]
  },
  {
   "cell_type": "markdown",
   "id": "bdc08fdd-e3f6-4ded-acf8-92a667fe5f02",
   "metadata": {},
   "source": [
    "## define llm"
   ]
  },
  {
   "cell_type": "code",
   "execution_count": 6,
   "id": "49070493-9eda-4a0f-85a2-0897ac44c37c",
   "metadata": {
    "tags": []
   },
   "outputs": [],
   "source": [
    "llm = ChatOpenAI(model=\"gpt-4o\", api_key=OPENAI_API_KEY)"
   ]
  },
  {
   "cell_type": "code",
   "execution_count": 7,
   "id": "b173fad0-88c9-41ce-9329-7e4fb064f77e",
   "metadata": {
    "tags": []
   },
   "outputs": [
    {
     "data": {
      "text/plain": [
       "'Hello! How can I assist you today?'"
      ]
     },
     "execution_count": 7,
     "metadata": {},
     "output_type": "execute_result"
    }
   ],
   "source": [
    "from langchain_core.messages import HumanMessage\n",
    "\n",
    "response = llm.invoke([HumanMessage(content=\"hi!\")])\n",
    "response.content"
   ]
  },
  {
   "cell_type": "markdown",
   "id": "a0f82627-3651-41ab-94ce-1e70e2276be8",
   "metadata": {},
   "source": [
    "### agentic"
   ]
  },
  {
   "cell_type": "code",
   "execution_count": 8,
   "id": "34c4fcc4-ee39-41d7-b208-d651f3813514",
   "metadata": {
    "tags": []
   },
   "outputs": [],
   "source": [
    "model_with_tools = llm.bind_tools(tools)"
   ]
  },
  {
   "cell_type": "code",
   "execution_count": 9,
   "id": "f07c7bc1-8d48-4222-ab17-4d1b472a2419",
   "metadata": {
    "tags": []
   },
   "outputs": [
    {
     "name": "stdout",
     "output_type": "stream",
     "text": [
      "ContentString: \n",
      "ToolCalls: [{'name': 'elastic_index_search_tool', 'args': {'index_name': 'news_article_embedding', 'query': {'query': {'match': {'content': '삼성전자'}}}, 'from_': 0, 'size': 5}, 'id': 'call_NGFFFUxMC4mxywnpeP8Gd0Kd', 'type': 'tool_call'}]\n"
     ]
    }
   ],
   "source": [
    "response = model_with_tools.invoke([HumanMessage(content=f\"{ES_INDEX_NAME} 색인에서 삼성전자 뉴스를 찾아줘!\")])\n",
    "\n",
    "print(f\"ContentString: {response.content}\")\n",
    "print(f\"ToolCalls: {response.tool_calls}\")"
   ]
  },
  {
   "cell_type": "markdown",
   "id": "bf5e8c08-7b02-457f-8f8d-a30573c8b345",
   "metadata": {},
   "source": [
    "# Create Agent"
   ]
  },
  {
   "cell_type": "code",
   "execution_count": 10,
   "id": "24bcc64a-528b-4fbb-a2a9-d73366d46bdb",
   "metadata": {
    "tags": []
   },
   "outputs": [],
   "source": [
    "from langgraph.prebuilt import create_react_agent\n",
    "\n",
    "agent_executor = create_react_agent(llm, tools)"
   ]
  },
  {
   "cell_type": "code",
   "execution_count": 11,
   "id": "93c26e4b-328d-4d17-9070-a7a0ae63a337",
   "metadata": {
    "tags": []
   },
   "outputs": [
    {
     "name": "stderr",
     "output_type": "stream",
     "text": [
      "/Users/nuri/dev/jupyter/.venv/lib/python3.9/site-packages/urllib3/connectionpool.py:1099: InsecureRequestWarning: Unverified HTTPS request is being made to host '192.168.0.10'. Adding certificate verification is strongly advised. See: https://urllib3.readthedocs.io/en/latest/advanced-usage.html#tls-warnings\n",
      "  warnings.warn(\n",
      "/Users/nuri/dev/jupyter/.venv/lib/python3.9/site-packages/urllib3/connectionpool.py:1099: InsecureRequestWarning: Unverified HTTPS request is being made to host '192.168.0.10'. Adding certificate verification is strongly advised. See: https://urllib3.readthedocs.io/en/latest/advanced-usage.html#tls-warnings\n",
      "  warnings.warn(\n",
      "/Users/nuri/dev/jupyter/.venv/lib/python3.9/site-packages/urllib3/connectionpool.py:1099: InsecureRequestWarning: Unverified HTTPS request is being made to host '192.168.0.10'. Adding certificate verification is strongly advised. See: https://urllib3.readthedocs.io/en/latest/advanced-usage.html#tls-warnings\n",
      "  warnings.warn(\n"
     ]
    },
    {
     "data": {
      "text/plain": [
       "[HumanMessage(content='2024년 삼성전자에 대한 긍정적인 뉴스를 찾아서 개별 모든 뉴스에 대해서 지수를 점수로 매겨서 리스트로 표시해', id='ebcb7396-648a-42f5-b25e-5384d3fe5316'),\n",
       " AIMessage(content='', additional_kwargs={'tool_calls': [{'id': 'call_TNpklXk8UtpW1M1xzNlOmN3X', 'function': {'arguments': '{\"index_name\": \"news_article_embedding\", \"query\": \"{\\\\\"query\\\\\":{\\\\\"bool\\\\\":{\\\\\"must\\\\\":[{\\\\\"match\\\\\":{\\\\\"company\\\\\":\\\\\"Samsung Electronics\\\\\"}},{\\\\\"match\\\\\":{\\\\\"date\\\\\":\\\\\"2024\\\\\"}},{\\\\\"match\\\\\":{\\\\\"sentiment\\\\\":\\\\\"positive\\\\\"}}]}}}\", \"from_\": 0, \"size\": 10}', 'name': 'elastic_index_search_tool'}, 'type': 'function'}, {'id': 'call_bA9nJdE2PWDCsaLIqHzQY8oe', 'function': {'arguments': '{\"index_name\": \"news_article_embedding\", \"query\": \"{\\\\\"query\\\\\":{\\\\\"bool\\\\\":{\\\\\"must\\\\\":[{\\\\\"match\\\\\":{\\\\\"company\\\\\":\\\\\"Samsung Electronics\\\\\"}},{\\\\\"match\\\\\":{\\\\\"date\\\\\":\\\\\"2024\\\\\"}},{\\\\\"match\\\\\":{\\\\\"sentiment\\\\\":\\\\\"positive\\\\\"}}]}}}\", \"from_\": 10, \"size\": 10}', 'name': 'elastic_index_search_tool'}, 'type': 'function'}, {'id': 'call_a9NUTVQJ8PCPJBdGjsJR4fuG', 'function': {'arguments': '{\"index_name\": \"news_article_embedding\", \"query\": \"{\\\\\"query\\\\\":{\\\\\"bool\\\\\":{\\\\\"must\\\\\":[{\\\\\"match\\\\\":{\\\\\"company\\\\\":\\\\\"Samsung Electronics\\\\\"}},{\\\\\"match\\\\\":{\\\\\"date\\\\\":\\\\\"2024\\\\\"}},{\\\\\"match\\\\\":{\\\\\"sentiment\\\\\":\\\\\"positive\\\\\"}}]}}}\", \"from_\": 20, \"size\": 10}', 'name': 'elastic_index_search_tool'}, 'type': 'function'}]}, response_metadata={'token_usage': {'completion_tokens': 229, 'prompt_tokens': 165, 'total_tokens': 394}, 'model_name': 'gpt-4o-2024-05-13', 'system_fingerprint': 'fp_4e2b2da518', 'finish_reason': 'tool_calls', 'logprobs': None}, id='run-e94bd022-15f6-41a7-9389-c75d7dd934cc-0', tool_calls=[{'name': 'elastic_index_search_tool', 'args': {'index_name': 'news_article_embedding', 'query': '{\"query\":{\"bool\":{\"must\":[{\"match\":{\"company\":\"Samsung Electronics\"}},{\"match\":{\"date\":\"2024\"}},{\"match\":{\"sentiment\":\"positive\"}}]}}}', 'from_': 0, 'size': 10}, 'id': 'call_TNpklXk8UtpW1M1xzNlOmN3X', 'type': 'tool_call'}, {'name': 'elastic_index_search_tool', 'args': {'index_name': 'news_article_embedding', 'query': '{\"query\":{\"bool\":{\"must\":[{\"match\":{\"company\":\"Samsung Electronics\"}},{\"match\":{\"date\":\"2024\"}},{\"match\":{\"sentiment\":\"positive\"}}]}}}', 'from_': 10, 'size': 10}, 'id': 'call_bA9nJdE2PWDCsaLIqHzQY8oe', 'type': 'tool_call'}, {'name': 'elastic_index_search_tool', 'args': {'index_name': 'news_article_embedding', 'query': '{\"query\":{\"bool\":{\"must\":[{\"match\":{\"company\":\"Samsung Electronics\"}},{\"match\":{\"date\":\"2024\"}},{\"match\":{\"sentiment\":\"positive\"}}]}}}', 'from_': 20, 'size': 10}, 'id': 'call_a9NUTVQJ8PCPJBdGjsJR4fuG', 'type': 'tool_call'}], usage_metadata={'input_tokens': 165, 'output_tokens': 229, 'total_tokens': 394}),\n",
       " ToolMessage(content='[Document(metadata={\\'id\\': 168390, \\'hash_key\\': \\'5237e5ff8d37ad40168be603745c7cb8\\', \\'title\\': \\'Samsung shares reaches 52-week high as the world braces for an AI boom\\', \\'created_date\\': \\'2023-12-26T18:22:30\\', \\'portal\\': \\'daum\\', \\'media\\': \\'코리아중앙데일리\\', \\'url\\': \\'https://v.daum.net/v/20231226182230182\\', \\'image_url\\': \\'https://img1.daumcdn.net/thumb/S1200x630/?fname=https://t1.daumcdn.net/news/202312/26/koreajoongangdaily/20231226182232544uljw.jpg\\'}, page_content=\"Samsung shares reaches 52-week high as the world braces for an AI boom\\\\n이 글자크기로 변경됩니다.\\\\n(예시) 가장 빠른 뉴스가 있고 다양한 정보, 쌍방향 소통이 숨쉬는 다음뉴스를 만나보세요. 다음뉴스는 국내외 주요이슈와 실시간 속보, 문화생활 및 다양한 분야의 뉴스를 입체적으로 전달하고 있습니다.\\\\nShares of Samsung Electronics continued their winning streak Tuesday amid upbeat expectations for AI and memory chips next year.\\\\nThe company\\'s shares closed at 76,600 won on Tuesday, up by 0.92 percent from the previous trading day. The price peaked at 76,600 won ($59) at one point during the day, a 52-week high. Shares last hit that point on Jan. 20, 2022, when they reached 76,700 won.\"), Document(metadata={\\'id\\': 211544, \\'hash_key\\': \\'3223febd86f1e712d579b615dd836d8f\\', \\'title\\': \\'Samsung to ‘Unpack’ Galaxy S24 in Silicon Valley on Jan. 17\\', \\'created_date\\': \\'2024-01-03T10:07:50\\', \\'portal\\': \\'daum\\', \\'media\\': \\'코리아중앙데일리\\', \\'url\\': \\'https://v.daum.net/v/20240103100750061\\', \\'image_url\\': \\'https://img1.daumcdn.net/thumb/S1200x630/?fname=https://t1.daumcdn.net/news/202401/03/koreajoongangdaily/20240103100752917joko.jpg\\'}, page_content=\\'Samsung to ‘Unpack’ Galaxy S24 in Silicon Valley on Jan. 17\\\\n이 글자크기로 변경됩니다.\\\\n(예시) 가장 빠른 뉴스가 있고 다양한 정보, 쌍방향 소통이 숨쉬는 다음뉴스를 만나보세요. 다음뉴스는 국내외 주요이슈와 실시간 속보, 문화생활 및 다양한 분야의 뉴스를 입체적으로 전달하고 있습니다.\\\\nSamsung Electronics on Wednesday released an online invitation for its upcoming \"Galaxy Unpacked 2024: Opening a New Era of Mobile AI\" where its newest Galaxy S24 will be revealed.\\\\n\"Get ready to discover a new era full of possibilities with the latest Galaxy innovations, designed to transform how you live, connect and create,\" the Korean IT giant said in the release for the invitation.\\\\nSamsung Electronics released a 12-second video clip along with the invitation, which shows what\\\\\\'s presumed to be a titanium box shifting its form into four stars. The clip at the end shows the phrase, \"Galaxy AI is coming.\"\\'), Document(metadata={\\'id\\': 254008, \\'hash_key\\': \\'52aa10dc43e8cade4557d17a7f3a0195\\', \\'title\\': \\'[CES 2024] Samsung Electronics eyeing a major M&A deal in 2024\\', \\'created_date\\': \\'2024-01-10T17:13:16\\', \\'portal\\': \\'naver\\', \\'media\\': \\'코리아중앙데일리 | 네이버\\', \\'url\\': \\'https://n.news.naver.com/mnews/article/640/0000048436?rc=N&ntype=RANKING&sid=101\\', \\'image_url\\': \\'https://imgnews.pstatic.net/image/640/2024/01/10/0000048436_001_20240110171701577.jpg?type=w800\\'}, page_content=\"[CES 2024] Samsung Electronics eyeing a major M&A deal in 2024\\\\nSamsung Electronics CEO and Vice Chairman Han Jong-hee said that Samsung has been persistently reviewing investment and acquisition deals focusing on five areas — AI, digital health, fintech, robotics and vehicle components — and forecast that a draft should be out within this year.\\\\n“To be honest, M&A conditions haven\\'t gone better at all compared to the past,” said Vice Chairman Han to Korean press on Tuesday, local time, at a sideline event at CES 2024, in Las Vegas.\\\\n“In search of new growth engine, we have continuously made venture investments in small and midsized companies. We hope that a plan [for the investment] should be out this year.”\"), Document(metadata={\\'id\\': 168829, \\'hash_key\\': \\'b6963e950f4d0acaf9209b6e0ffa454c\\', \\'title\\': \\'Samsung shares reaches 52-week high as the world braces for an AI boom\\', \\'created_date\\': \\'2023-12-26T18:22:30\\', \\'portal\\': \\'naver\\', \\'media\\': \\'코리아중앙데일리 | 네이버\\', \\'url\\': \\'https://n.news.naver.com/mnews/article/640/0000047776?rc=N&ntype=RANKING&sid=101\\', \\'image_url\\': \\'https://imgnews.pstatic.net/image/640/2023/12/26/0000047776_001_20231226182501579.jpg?type=w800\\'}, page_content=\"The latest trend reflects market expectations that Samsung will benefit next year from the ongoing AI boom and a cyclical upturn in the memory chip industry. Samsung Electronics plans to deploy its generative AI model, Gauss, across its product line in 2024, likely starting with the Galaxy S24 smartphones that are slated for release in January.\\\\nMemory chip business which severely hampered Samsung Electronics\\' profit this year is also expected to bottom out and start to recover in 2024. High-performance memory chips, including high bandwidth memory chips, are expected to speed the recovery, as the current AI boom has them in high demand.\\\\nFurther U.S. sanctions on China-sourced chips also drove the upswing.\")]', name='elastic_index_search_tool', id='3568b39f-a6e7-4a88-9386-d16fc65d9c67', tool_call_id='call_TNpklXk8UtpW1M1xzNlOmN3X'),\n",
       " ToolMessage(content='[Document(metadata={\\'id\\': 168390, \\'hash_key\\': \\'5237e5ff8d37ad40168be603745c7cb8\\', \\'title\\': \\'Samsung shares reaches 52-week high as the world braces for an AI boom\\', \\'created_date\\': \\'2023-12-26T18:22:30\\', \\'portal\\': \\'daum\\', \\'media\\': \\'코리아중앙데일리\\', \\'url\\': \\'https://v.daum.net/v/20231226182230182\\', \\'image_url\\': \\'https://img1.daumcdn.net/thumb/S1200x630/?fname=https://t1.daumcdn.net/news/202312/26/koreajoongangdaily/20231226182232544uljw.jpg\\'}, page_content=\"Samsung shares reaches 52-week high as the world braces for an AI boom\\\\n이 글자크기로 변경됩니다.\\\\n(예시) 가장 빠른 뉴스가 있고 다양한 정보, 쌍방향 소통이 숨쉬는 다음뉴스를 만나보세요. 다음뉴스는 국내외 주요이슈와 실시간 속보, 문화생활 및 다양한 분야의 뉴스를 입체적으로 전달하고 있습니다.\\\\nShares of Samsung Electronics continued their winning streak Tuesday amid upbeat expectations for AI and memory chips next year.\\\\nThe company\\'s shares closed at 76,600 won on Tuesday, up by 0.92 percent from the previous trading day. The price peaked at 76,600 won ($59) at one point during the day, a 52-week high. Shares last hit that point on Jan. 20, 2022, when they reached 76,700 won.\"), Document(metadata={\\'id\\': 211544, \\'hash_key\\': \\'3223febd86f1e712d579b615dd836d8f\\', \\'title\\': \\'Samsung to ‘Unpack’ Galaxy S24 in Silicon Valley on Jan. 17\\', \\'created_date\\': \\'2024-01-03T10:07:50\\', \\'portal\\': \\'daum\\', \\'media\\': \\'코리아중앙데일리\\', \\'url\\': \\'https://v.daum.net/v/20240103100750061\\', \\'image_url\\': \\'https://img1.daumcdn.net/thumb/S1200x630/?fname=https://t1.daumcdn.net/news/202401/03/koreajoongangdaily/20240103100752917joko.jpg\\'}, page_content=\\'Samsung to ‘Unpack’ Galaxy S24 in Silicon Valley on Jan. 17\\\\n이 글자크기로 변경됩니다.\\\\n(예시) 가장 빠른 뉴스가 있고 다양한 정보, 쌍방향 소통이 숨쉬는 다음뉴스를 만나보세요. 다음뉴스는 국내외 주요이슈와 실시간 속보, 문화생활 및 다양한 분야의 뉴스를 입체적으로 전달하고 있습니다.\\\\nSamsung Electronics on Wednesday released an online invitation for its upcoming \"Galaxy Unpacked 2024: Opening a New Era of Mobile AI\" where its newest Galaxy S24 will be revealed.\\\\n\"Get ready to discover a new era full of possibilities with the latest Galaxy innovations, designed to transform how you live, connect and create,\" the Korean IT giant said in the release for the invitation.\\\\nSamsung Electronics released a 12-second video clip along with the invitation, which shows what\\\\\\'s presumed to be a titanium box shifting its form into four stars. The clip at the end shows the phrase, \"Galaxy AI is coming.\"\\'), Document(metadata={\\'id\\': 254008, \\'hash_key\\': \\'52aa10dc43e8cade4557d17a7f3a0195\\', \\'title\\': \\'[CES 2024] Samsung Electronics eyeing a major M&A deal in 2024\\', \\'created_date\\': \\'2024-01-10T17:13:16\\', \\'portal\\': \\'naver\\', \\'media\\': \\'코리아중앙데일리 | 네이버\\', \\'url\\': \\'https://n.news.naver.com/mnews/article/640/0000048436?rc=N&ntype=RANKING&sid=101\\', \\'image_url\\': \\'https://imgnews.pstatic.net/image/640/2024/01/10/0000048436_001_20240110171701577.jpg?type=w800\\'}, page_content=\"[CES 2024] Samsung Electronics eyeing a major M&A deal in 2024\\\\nSamsung Electronics CEO and Vice Chairman Han Jong-hee said that Samsung has been persistently reviewing investment and acquisition deals focusing on five areas — AI, digital health, fintech, robotics and vehicle components — and forecast that a draft should be out within this year.\\\\n“To be honest, M&A conditions haven\\'t gone better at all compared to the past,” said Vice Chairman Han to Korean press on Tuesday, local time, at a sideline event at CES 2024, in Las Vegas.\\\\n“In search of new growth engine, we have continuously made venture investments in small and midsized companies. We hope that a plan [for the investment] should be out this year.”\"), Document(metadata={\\'id\\': 168829, \\'hash_key\\': \\'b6963e950f4d0acaf9209b6e0ffa454c\\', \\'title\\': \\'Samsung shares reaches 52-week high as the world braces for an AI boom\\', \\'created_date\\': \\'2023-12-26T18:22:30\\', \\'portal\\': \\'naver\\', \\'media\\': \\'코리아중앙데일리 | 네이버\\', \\'url\\': \\'https://n.news.naver.com/mnews/article/640/0000047776?rc=N&ntype=RANKING&sid=101\\', \\'image_url\\': \\'https://imgnews.pstatic.net/image/640/2023/12/26/0000047776_001_20231226182501579.jpg?type=w800\\'}, page_content=\"The latest trend reflects market expectations that Samsung will benefit next year from the ongoing AI boom and a cyclical upturn in the memory chip industry. Samsung Electronics plans to deploy its generative AI model, Gauss, across its product line in 2024, likely starting with the Galaxy S24 smartphones that are slated for release in January.\\\\nMemory chip business which severely hampered Samsung Electronics\\' profit this year is also expected to bottom out and start to recover in 2024. High-performance memory chips, including high bandwidth memory chips, are expected to speed the recovery, as the current AI boom has them in high demand.\\\\nFurther U.S. sanctions on China-sourced chips also drove the upswing.\")]', name='elastic_index_search_tool', id='b71d5620-b1d5-42e4-a886-3f9b15f660d5', tool_call_id='call_bA9nJdE2PWDCsaLIqHzQY8oe'),\n",
       " ToolMessage(content='[Document(metadata={\\'id\\': 168390, \\'hash_key\\': \\'5237e5ff8d37ad40168be603745c7cb8\\', \\'title\\': \\'Samsung shares reaches 52-week high as the world braces for an AI boom\\', \\'created_date\\': \\'2023-12-26T18:22:30\\', \\'portal\\': \\'daum\\', \\'media\\': \\'코리아중앙데일리\\', \\'url\\': \\'https://v.daum.net/v/20231226182230182\\', \\'image_url\\': \\'https://img1.daumcdn.net/thumb/S1200x630/?fname=https://t1.daumcdn.net/news/202312/26/koreajoongangdaily/20231226182232544uljw.jpg\\'}, page_content=\"Samsung shares reaches 52-week high as the world braces for an AI boom\\\\n이 글자크기로 변경됩니다.\\\\n(예시) 가장 빠른 뉴스가 있고 다양한 정보, 쌍방향 소통이 숨쉬는 다음뉴스를 만나보세요. 다음뉴스는 국내외 주요이슈와 실시간 속보, 문화생활 및 다양한 분야의 뉴스를 입체적으로 전달하고 있습니다.\\\\nShares of Samsung Electronics continued their winning streak Tuesday amid upbeat expectations for AI and memory chips next year.\\\\nThe company\\'s shares closed at 76,600 won on Tuesday, up by 0.92 percent from the previous trading day. The price peaked at 76,600 won ($59) at one point during the day, a 52-week high. Shares last hit that point on Jan. 20, 2022, when they reached 76,700 won.\"), Document(metadata={\\'id\\': 211544, \\'hash_key\\': \\'3223febd86f1e712d579b615dd836d8f\\', \\'title\\': \\'Samsung to ‘Unpack’ Galaxy S24 in Silicon Valley on Jan. 17\\', \\'created_date\\': \\'2024-01-03T10:07:50\\', \\'portal\\': \\'daum\\', \\'media\\': \\'코리아중앙데일리\\', \\'url\\': \\'https://v.daum.net/v/20240103100750061\\', \\'image_url\\': \\'https://img1.daumcdn.net/thumb/S1200x630/?fname=https://t1.daumcdn.net/news/202401/03/koreajoongangdaily/20240103100752917joko.jpg\\'}, page_content=\\'Samsung to ‘Unpack’ Galaxy S24 in Silicon Valley on Jan. 17\\\\n이 글자크기로 변경됩니다.\\\\n(예시) 가장 빠른 뉴스가 있고 다양한 정보, 쌍방향 소통이 숨쉬는 다음뉴스를 만나보세요. 다음뉴스는 국내외 주요이슈와 실시간 속보, 문화생활 및 다양한 분야의 뉴스를 입체적으로 전달하고 있습니다.\\\\nSamsung Electronics on Wednesday released an online invitation for its upcoming \"Galaxy Unpacked 2024: Opening a New Era of Mobile AI\" where its newest Galaxy S24 will be revealed.\\\\n\"Get ready to discover a new era full of possibilities with the latest Galaxy innovations, designed to transform how you live, connect and create,\" the Korean IT giant said in the release for the invitation.\\\\nSamsung Electronics released a 12-second video clip along with the invitation, which shows what\\\\\\'s presumed to be a titanium box shifting its form into four stars. The clip at the end shows the phrase, \"Galaxy AI is coming.\"\\'), Document(metadata={\\'id\\': 254008, \\'hash_key\\': \\'52aa10dc43e8cade4557d17a7f3a0195\\', \\'title\\': \\'[CES 2024] Samsung Electronics eyeing a major M&A deal in 2024\\', \\'created_date\\': \\'2024-01-10T17:13:16\\', \\'portal\\': \\'naver\\', \\'media\\': \\'코리아중앙데일리 | 네이버\\', \\'url\\': \\'https://n.news.naver.com/mnews/article/640/0000048436?rc=N&ntype=RANKING&sid=101\\', \\'image_url\\': \\'https://imgnews.pstatic.net/image/640/2024/01/10/0000048436_001_20240110171701577.jpg?type=w800\\'}, page_content=\"[CES 2024] Samsung Electronics eyeing a major M&A deal in 2024\\\\nSamsung Electronics CEO and Vice Chairman Han Jong-hee said that Samsung has been persistently reviewing investment and acquisition deals focusing on five areas — AI, digital health, fintech, robotics and vehicle components — and forecast that a draft should be out within this year.\\\\n“To be honest, M&A conditions haven\\'t gone better at all compared to the past,” said Vice Chairman Han to Korean press on Tuesday, local time, at a sideline event at CES 2024, in Las Vegas.\\\\n“In search of new growth engine, we have continuously made venture investments in small and midsized companies. We hope that a plan [for the investment] should be out this year.”\"), Document(metadata={\\'id\\': 168829, \\'hash_key\\': \\'b6963e950f4d0acaf9209b6e0ffa454c\\', \\'title\\': \\'Samsung shares reaches 52-week high as the world braces for an AI boom\\', \\'created_date\\': \\'2023-12-26T18:22:30\\', \\'portal\\': \\'naver\\', \\'media\\': \\'코리아중앙데일리 | 네이버\\', \\'url\\': \\'https://n.news.naver.com/mnews/article/640/0000047776?rc=N&ntype=RANKING&sid=101\\', \\'image_url\\': \\'https://imgnews.pstatic.net/image/640/2023/12/26/0000047776_001_20231226182501579.jpg?type=w800\\'}, page_content=\"The latest trend reflects market expectations that Samsung will benefit next year from the ongoing AI boom and a cyclical upturn in the memory chip industry. Samsung Electronics plans to deploy its generative AI model, Gauss, across its product line in 2024, likely starting with the Galaxy S24 smartphones that are slated for release in January.\\\\nMemory chip business which severely hampered Samsung Electronics\\' profit this year is also expected to bottom out and start to recover in 2024. High-performance memory chips, including high bandwidth memory chips, are expected to speed the recovery, as the current AI boom has them in high demand.\\\\nFurther U.S. sanctions on China-sourced chips also drove the upswing.\")]', name='elastic_index_search_tool', id='b1de51b1-8dae-4f56-8385-09b367953e2b', tool_call_id='call_a9NUTVQJ8PCPJBdGjsJR4fuG'),\n",
       " AIMessage(content='2024년 삼성전자에 대한 긍정적인 뉴스는 다음과 같습니다. 각 뉴스에 대한 지수를 점수로 매겨 리스트로 표시했습니다.\\n\\n1. **뉴스 제목**: Samsung shares reaches 52-week high as the world braces for an AI boom\\n   - **포털**: Daum\\n   - **미디어**: 코리아중앙데일리\\n   - **URL**: [링크](https://v.daum.net/v/20231226182230182)\\n   - **점수**: 9/10\\n\\n2. **뉴스 제목**: Samsung to ‘Unpack’ Galaxy S24 in Silicon Valley on Jan. 17\\n   - **포털**: Daum\\n   - **미디어**: 코리아중앙데일리\\n   - **URL**: [링크](https://v.daum.net/v/20240103100750061)\\n   - **점수**: 8/10\\n\\n3. **뉴스 제목**: [CES 2024] Samsung Electronics eyeing a major M&A deal in 2024\\n   - **포털**: Naver\\n   - **미디어**: 코리아중앙데일리\\n   - **URL**: [링크](https://n.news.naver.com/mnews/article/640/0000048436?rc=N&ntype=RANKING&sid=101)\\n   - **점수**: 8/10\\n\\n4. **뉴스 제목**: Samsung shares reaches 52-week high as the world braces for an AI boom\\n   - **포털**: Naver\\n   - **미디어**: 코리아중앙데일리\\n   - **URL**: [링크](https://n.news.naver.com/mnews/article/640/0000047776?rc=N&ntype=RANKING&sid=101)\\n   - **점수**: 9/10\\n\\n각 뉴스는 삼성전자의 주가 상승, 새로운 제품 발표, 그리고 주요 M&A 계획 등 긍정적인 내용을 담고 있어 높은 점수를 받았습니다.', response_metadata={'token_usage': {'completion_tokens': 448, 'prompt_tokens': 6444, 'total_tokens': 6892}, 'model_name': 'gpt-4o-2024-05-13', 'system_fingerprint': 'fp_400f27fa1f', 'finish_reason': 'stop', 'logprobs': None}, id='run-5928ce68-6d08-448d-8eec-d2897bbd1ef2-0', usage_metadata={'input_tokens': 6444, 'output_tokens': 448, 'total_tokens': 6892})]"
      ]
     },
     "execution_count": 11,
     "metadata": {},
     "output_type": "execute_result"
    }
   ],
   "source": [
    "response = agent_executor.invoke(\n",
    "    {\"messages\": [HumanMessage(content=f\"2024년 삼성전자에 대한 긍정적인 뉴스를 찾아서 개별 모든 뉴스에 대해서 지수를 점수로 매겨서 리스트로 표시해\")]}\n",
    ")\n",
    "response[\"messages\"]"
   ]
  },
  {
   "cell_type": "code",
   "execution_count": 13,
   "id": "b3d56f9e-9a49-41bd-92dc-4af784017c5a",
   "metadata": {
    "tags": []
   },
   "outputs": [
    {
     "data": {
      "text/plain": [
       "AIMessage(content='2024년 삼성전자에 대한 긍정적인 뉴스는 다음과 같습니다. 각 뉴스에 대한 지수를 점수로 매겨 리스트로 표시했습니다.\\n\\n1. **뉴스 제목**: Samsung shares reaches 52-week high as the world braces for an AI boom\\n   - **포털**: Daum\\n   - **미디어**: 코리아중앙데일리\\n   - **URL**: [링크](https://v.daum.net/v/20231226182230182)\\n   - **점수**: 9/10\\n\\n2. **뉴스 제목**: Samsung to ‘Unpack’ Galaxy S24 in Silicon Valley on Jan. 17\\n   - **포털**: Daum\\n   - **미디어**: 코리아중앙데일리\\n   - **URL**: [링크](https://v.daum.net/v/20240103100750061)\\n   - **점수**: 8/10\\n\\n3. **뉴스 제목**: [CES 2024] Samsung Electronics eyeing a major M&A deal in 2024\\n   - **포털**: Naver\\n   - **미디어**: 코리아중앙데일리\\n   - **URL**: [링크](https://n.news.naver.com/mnews/article/640/0000048436?rc=N&ntype=RANKING&sid=101)\\n   - **점수**: 8/10\\n\\n4. **뉴스 제목**: Samsung shares reaches 52-week high as the world braces for an AI boom\\n   - **포털**: Naver\\n   - **미디어**: 코리아중앙데일리\\n   - **URL**: [링크](https://n.news.naver.com/mnews/article/640/0000047776?rc=N&ntype=RANKING&sid=101)\\n   - **점수**: 9/10\\n\\n각 뉴스는 삼성전자의 주가 상승, 새로운 제품 발표, 그리고 주요 M&A 계획 등 긍정적인 내용을 담고 있어 높은 점수를 받았습니다.', response_metadata={'token_usage': {'completion_tokens': 448, 'prompt_tokens': 6444, 'total_tokens': 6892}, 'model_name': 'gpt-4o-2024-05-13', 'system_fingerprint': 'fp_400f27fa1f', 'finish_reason': 'stop', 'logprobs': None}, id='run-5928ce68-6d08-448d-8eec-d2897bbd1ef2-0', usage_metadata={'input_tokens': 6444, 'output_tokens': 448, 'total_tokens': 6892})"
      ]
     },
     "execution_count": 13,
     "metadata": {},
     "output_type": "execute_result"
    }
   ],
   "source": [
    "response[\"messages\"][-1]"
   ]
  },
  {
   "cell_type": "markdown",
   "id": "9d5766a7-ef53-4e1e-9c35-0795ae805b32",
   "metadata": {},
   "source": [
    "1. **뉴스 제목**: Samsung shares reaches 52-week high as the world braces for an AI boom\\n   - **포털**: Daum\\n   - **미디어**: 코리아중앙데일리\\n   - **URL**: [링크](https://v.daum.net/v/20231226182230182)\\n   - **점수**: 9/10\\n\\n\n",
    "\n",
    "2. **뉴스 제목**: Samsung to ‘Unpack’ Galaxy S24 in Silicon Valley on Jan. 17\\n   - **포털**: Daum\\n   - **미디어**: 코리아중앙데일리\\n   - **URL**: [링크](https://v.daum.net/v/20240103100750061)\\n   - **점수**: 8/10\\n\\n\n",
    "\n",
    "3. **뉴스 제목**: [CES 2024] Samsung Electronics eyeing a major M&A deal in 2024\\n   - **포털**: Naver\\n   - **미디어**: 코리아중앙데일리\\n   - **URL**: [링크](https://n.news.naver.com/mnews/article/640/0000048436?rc=N&ntype=RANKING&sid=101)\\n   - **점수**: 8/10\\n\\n\n",
    "\n",
    "4. **뉴스 제목**: Samsung shares reaches 52-week high as the world braces for an AI boom\\n   - **포털**: Naver\\n   - **미디어**: 코리아중앙데일리\\n   - **URL**: [링크](https://n.news.naver.com/mnews/article/640/0000047776?rc=N&ntype=RANKING&sid=101)\\n   - **점수**: 9/10"
   ]
  },
  {
   "cell_type": "code",
   "execution_count": null,
   "id": "27e2c74a-dcc8-42b2-8cf8-c8a6e4e6ddac",
   "metadata": {},
   "outputs": [],
   "source": []
  }
 ],
 "metadata": {
  "kernelspec": {
   "display_name": "Python 3 (ipykernel)",
   "language": "python",
   "name": "python3"
  },
  "language_info": {
   "codemirror_mode": {
    "name": "ipython",
    "version": 3
   },
   "file_extension": ".py",
   "mimetype": "text/x-python",
   "name": "python",
   "nbconvert_exporter": "python",
   "pygments_lexer": "ipython3",
   "version": "3.9.19"
  }
 },
 "nbformat": 4,
 "nbformat_minor": 5
}
