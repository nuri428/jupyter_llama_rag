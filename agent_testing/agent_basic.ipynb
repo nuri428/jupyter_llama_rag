{
 "cells": [
  {
   "cell_type": "markdown",
   "id": "def9508e-dde0-41eb-b651-b5474bb0598e",
   "metadata": {},
   "source": [
    "# import"
   ]
  },
  {
   "cell_type": "code",
   "execution_count": 1,
   "id": "978cc990-2cd4-4ca2-95ad-015c5e215e88",
   "metadata": {
    "tags": []
   },
   "outputs": [],
   "source": [
    "from dotenv import load_dotenv\n",
    "import os\n",
    "load_dotenv()\n",
    "os.environ[\"LANGCHAIN_TRACING_V2\"] = \"true\"\n",
    "os.environ[\"LANGCHAIN_API_KEY\"] = os.getenv(\"LANGCHAIN_API_KEY\")\n",
    "OPENAI_API_KEY = os.getenv(\"OPENAI_API_KEY\")\n",
    "ES_HOST = os.getenv(\"ES_HOST\")\n",
    "ES_USER_ID = os.getenv(\"ES_ID\")\n",
    "ES_PASSWD = os.getenv(\"ES_PWD\")\n",
    "ES_INDEX_NAME = os.getenv(\"ES_INDEX_NAME\")\n",
    "EMBEDDING_BASE_URL=os.getenv(\"EMBEDDING_BASE_URL\")\n",
    "EMBEDDING_MODEL=os.getenv(\"EMBEDDING_MODEL\")\n",
    "HUGGINGFACEHUB_API_TOKEN = os.getenv(\"HUGGUNGFACE_TOKEN\")"
   ]
  },
  {
   "cell_type": "markdown",
   "id": "f05989b5-07c9-4a42-b1a3-812706367991",
   "metadata": {},
   "source": [
    "## Define tools"
   ]
  },
  {
   "cell_type": "code",
   "execution_count": 2,
   "id": "6c717298-bde4-4151-9219-a93732606fb7",
   "metadata": {
    "tags": []
   },
   "outputs": [],
   "source": [
    "# from langchain_community.vectorstores.elasticsearch import ElasticsearchStore\n",
    "from langchain_elasticsearch import ElasticsearchStore, DenseVectorStrategy, ElasticsearchEmbeddings\n",
    "from elasticsearch import Elasticsearch\n",
    "from langchain_community.embeddings import HuggingFaceHubEmbeddings\n",
    "from langchain_openai import ChatOpenAI\n",
    "from pydantic.v1 import BaseModel, Field  # <-- Uses v1 namespace\n",
    "from langchain.tools import StructuredTool"
   ]
  },
  {
   "cell_type": "code",
   "execution_count": 3,
   "id": "a8abc71a-ac4c-457f-a686-496d8940b4e6",
   "metadata": {
    "tags": []
   },
   "outputs": [],
   "source": [
    "\n",
    "class SearchToolInput(BaseModel):\n",
    "    \"\"\"Input for the index show data tool.\"\"\"\n",
    "\n",
    "    index_name: str = Field(\n",
    "        ..., description=\"The name of the index for which the data is to be retrieved. in this case indexname will be \" + ES_INDEX_NAME\n",
    "    )\n",
    "    query: str = Field(..., description=\"The ElasticSearch JSON query used to filter all hits. Should use the _source field if possible to specify required fields.\")\n",
    "    from_: int = Field(\n",
    "        ..., description=\"The record index from which the query will start\"\n",
    "    )\n",
    "    size: int = Field(\n",
    "        ...,\n",
    "        description=\"How many records will be retrieved from the ElasticSearch query\",\n",
    "    )"
   ]
  },
  {
   "cell_type": "markdown",
   "id": "d2df5e6a-7071-47ee-a0bf-e0f0c22c9d1a",
   "metadata": {},
   "source": [
    "### Embedding 정의"
   ]
  },
  {
   "cell_type": "code",
   "execution_count": 4,
   "id": "9aaa5a24-e9ef-45f0-8ad5-97554133a936",
   "metadata": {
    "tags": []
   },
   "outputs": [
    {
     "name": "stderr",
     "output_type": "stream",
     "text": [
      "/Users/nuri/dev/jupyter/.venv/lib/python3.9/site-packages/langchain_core/_api/deprecation.py:139: LangChainDeprecationWarning: The class `HuggingFaceHubEmbeddings` was deprecated in LangChain 0.2.2 and will be removed in 0.3.0. An updated version of the class exists in the langchain-huggingface package and should be used instead. To use it run `pip install -U langchain-huggingface` and import as `from langchain_huggingface import HuggingFaceEndpointEmbeddings`.\n",
      "  warn_deprecated(\n"
     ]
    }
   ],
   "source": [
    "embeddings = HuggingFaceHubEmbeddings(model=EMBEDDING_BASE_URL, huggingfacehub_api_token=HUGGINGFACEHUB_API_TOKEN)"
   ]
  },
  {
   "cell_type": "markdown",
   "id": "16a711b6-cf7a-4e8a-8cbc-70cac6264fb9",
   "metadata": {},
   "source": [
    "### ES retirever 정의"
   ]
  },
  {
   "cell_type": "code",
   "execution_count": 5,
   "id": "f31d0b15-22da-40eb-851d-592664fa4c7c",
   "metadata": {
    "tags": []
   },
   "outputs": [
    {
     "name": "stderr",
     "output_type": "stream",
     "text": [
      "/var/folders/jy/5_rl6575533638lskdr9s6s00000gn/T/ipykernel_69480/3560551961.py:1: DeprecationWarning: The 'timeout' parameter is deprecated in favor of 'request_timeout'\n",
      "  es = Elasticsearch([ES_HOST], basic_auth=(ES_USER_ID, ES_PASSWD), ca_certs=\"./../certs/ca.crt\", verify_certs=False, timeout=120)\n",
      "/Users/nuri/dev/jupyter/.venv/lib/python3.9/site-packages/elasticsearch/_sync/client/__init__.py:399: SecurityWarning: Connecting to 'https://192.168.0.10:9200' using TLS with verify_certs=False is insecure\n",
      "  _transport = transport_class(\n",
      "/Users/nuri/dev/jupyter/.venv/lib/python3.9/site-packages/urllib3/connectionpool.py:1099: InsecureRequestWarning: Unverified HTTPS request is being made to host '192.168.0.10'. Adding certificate verification is strongly advised. See: https://urllib3.readthedocs.io/en/latest/advanced-usage.html#tls-warnings\n",
      "  warnings.warn(\n"
     ]
    },
    {
     "name": "stdout",
     "output_type": "stream",
     "text": [
      "page_content='사람들도 다 바꿀 가능성이 더 높아진다?◎ 이형수 > 네네. 맞습니다.◎ 진행자 > 그래서 다시 한번 매출이 튀어 올라갈 거다라고 보는군요.◎ 이형수 > 그런 기대감이 이제 어젯밤부터 반영이 되기 시작한 거 같아요.◎ 진행자 > 그렇군요. 발표된 내용들이 이것저것 또 추가로 있을 텐데 보시기에는 또 어떤 특징들을 이번에 담고 있습니까? 애플의 신제품 내지는 앞으로 애플의 계획 전략을 들여다보면.◎ 이형수 > 결국 이제 애플도 결국 AI라는 게 범용 AI 우리가 이제 이야기하는 초지능 아티피셜 제너럴 인텔리전스라는 거를 결국 이제 세상을 움직이는 OS라고 생각하거든요. 기존에 우리가 이제 오퍼레이팅 시스템이라고 하면 특정 디바이스 특정 기기에 제한된 건데. AI라는 거는 사실 세상을 움직이는 OS가 될 수 있거든요. 여기서 이제 애플도 이거를 시작으로 우리도 이 한 자리를 차지하겠다라는 생각인 것 같고요. 그게 가능한 거는 결국 이 스마트폰 PC 이런 것들을 통해서 단순히 이제 OS뿐만 아니라 하드웨어 반도체 설계, 하드웨어 소프트웨어 생태계같이 수직 계열화하고 있는 회사가 애플 제외하면 거의 없거든요.◎ 진행자 > 어디는 칩만 만들고 어디는 인공지능 못 만들고 어디는 또 그거 갖다 서비스하고 그러고 있는데 애플은 칩부터 다 만든다.◎ 이형수 > 네네 맞습니다.◎ 진행자 > 인공지능만 살짝 지금 빌려온 거다?◎ 이형수 > 그렇죠. 지금은 뒤처져 있지만 빠른 속도로 우리가 추월할 수 있다라고 생각하는 것 같고요. 그리고 이제 실제로 이런 것들을 위해서 많은 준비들을 하고 있는데 그동안 애플이 아이 클라우드 같은' metadata={'id': 639052, 'hash_key': '29d1f0a79f8f9c9c326378ce9e6b83d1', 'title': '[손에잡히는경제] 이형수 \"애플, AI 자체개발 포기? 점차 내재화할 것..자체 클라우드 사업도\"', 'created_date': '2024-06-12T12:50:15', 'portal': 'daum', 'media': 'MBC', 'url': 'https://v.daum.net/v/20240612125015915', 'image_url': 'https://img1.daumcdn.net/thumb/S1200x630/?fname=https://t1.daumcdn.net/news/202406/12/imbc/20240612125015640sloq.png'}\n"
     ]
    }
   ],
   "source": [
    "es = Elasticsearch([ES_HOST], basic_auth=(ES_USER_ID, ES_PASSWD), ca_certs=\"./../certs/ca.crt\", verify_certs=False, timeout=120)\n",
    "vector_store = ElasticsearchStore(\n",
    "    embedding=embeddings,\n",
    "    index_name=ES_INDEX_NAME,\n",
    "    es_connection=es\n",
    ")\n",
    "retriever = vector_store.as_retriever(search_kwargs={\"k\": 10})\n",
    "# retriever.as_tool()\n",
    "search_results = retriever.invoke(\"애플\")\n",
    "print(search_results[0])\n",
    "# If we want, we can create other tools.\n",
    "# Once we have all the tools we want, we can put them in a list that we will reference later."
   ]
  },
  {
   "cell_type": "code",
   "execution_count": 6,
   "id": "6d7cb965-6f4e-4855-9d12-6ff836ab202f",
   "metadata": {
    "tags": []
   },
   "outputs": [],
   "source": [
    "def create_es_search_tool():\n",
    "      return StructuredTool(name=\"elastic_index_search_tool\",\n",
    "                            func=retriever.get_relevant_documents, \n",
    "                            args_schema=SearchToolInput)\n",
    "tools = [create_es_search_tool()]\n",
    "# tools = [retriever.as_tool()]"
   ]
  },
  {
   "cell_type": "code",
   "execution_count": 7,
   "id": "afbf9344-db10-4f68-9903-f7e4b783f68b",
   "metadata": {
    "tags": []
   },
   "outputs": [],
   "source": [
    "# from langchain.tools.retriever import create_retriever_tool\n",
    "\n",
    "# retrieve_tool = create_retriever_tool(\n",
    "#     retriever,\n",
    "#     name=\"elastic_index_search_tool\",\n",
    "#     description=\"return search result from user input query\"\n",
    "# )\n",
    "# tools = [retrieve_tool]"
   ]
  },
  {
   "cell_type": "markdown",
   "id": "bdc08fdd-e3f6-4ded-acf8-92a667fe5f02",
   "metadata": {},
   "source": [
    "## define llm"
   ]
  },
  {
   "cell_type": "code",
   "execution_count": 8,
   "id": "49070493-9eda-4a0f-85a2-0897ac44c37c",
   "metadata": {
    "tags": []
   },
   "outputs": [],
   "source": [
    "llm = ChatOpenAI(model=\"gpt-4o\", api_key=OPENAI_API_KEY)"
   ]
  },
  {
   "cell_type": "code",
   "execution_count": 9,
   "id": "b173fad0-88c9-41ce-9329-7e4fb064f77e",
   "metadata": {
    "tags": []
   },
   "outputs": [
    {
     "data": {
      "text/plain": [
       "'Hello! How can I assist you today?'"
      ]
     },
     "execution_count": 9,
     "metadata": {},
     "output_type": "execute_result"
    }
   ],
   "source": [
    "from langchain_core.messages import HumanMessage\n",
    "\n",
    "response = llm.invoke([HumanMessage(content=\"hi!\")])\n",
    "response.content"
   ]
  },
  {
   "cell_type": "markdown",
   "id": "a0f82627-3651-41ab-94ce-1e70e2276be8",
   "metadata": {},
   "source": [
    "### agentic"
   ]
  },
  {
   "cell_type": "code",
   "execution_count": 10,
   "id": "34c4fcc4-ee39-41d7-b208-d651f3813514",
   "metadata": {
    "tags": []
   },
   "outputs": [],
   "source": [
    "model_with_tools = llm.bind_tools(tools)"
   ]
  },
  {
   "cell_type": "code",
   "execution_count": 11,
   "id": "f07c7bc1-8d48-4222-ab17-4d1b472a2419",
   "metadata": {
    "tags": []
   },
   "outputs": [
    {
     "name": "stdout",
     "output_type": "stream",
     "text": [
      "ContentString: \n",
      "ToolCalls: [{'name': 'elastic_index_search_tool', 'args': {'index_name': 'news_article_embedding', 'query': {'query': {'match': {'content': '삼성전자'}}, '_source': ['title', 'content', 'date']}, 'from_': 0, 'size': 5}, 'id': 'call_YgpPTVnpkUnO9uyRBYKIALZX', 'type': 'tool_call'}]\n"
     ]
    }
   ],
   "source": [
    "response = model_with_tools.invoke([HumanMessage(content=f\"{ES_INDEX_NAME} 색인에서 삼성전자 뉴스를 찾아줘!\")])\n",
    "\n",
    "print(f\"ContentString: {response.content}\")\n",
    "print(f\"ToolCalls: {response.tool_calls}\")"
   ]
  },
  {
   "cell_type": "markdown",
   "id": "bf5e8c08-7b02-457f-8f8d-a30573c8b345",
   "metadata": {},
   "source": [
    "# Create Agent"
   ]
  },
  {
   "cell_type": "code",
   "execution_count": 12,
   "id": "24bcc64a-528b-4fbb-a2a9-d73366d46bdb",
   "metadata": {
    "tags": []
   },
   "outputs": [],
   "source": [
    "from langgraph.prebuilt import create_react_agent\n",
    "\n",
    "agent_executor = create_react_agent(llm, tools)"
   ]
  },
  {
   "cell_type": "code",
   "execution_count": 13,
   "id": "93c26e4b-328d-4d17-9070-a7a0ae63a337",
   "metadata": {
    "tags": []
   },
   "outputs": [
    {
     "name": "stderr",
     "output_type": "stream",
     "text": [
      "/Users/nuri/dev/jupyter/.venv/lib/python3.9/site-packages/urllib3/connectionpool.py:1099: InsecureRequestWarning: Unverified HTTPS request is being made to host '192.168.0.10'. Adding certificate verification is strongly advised. See: https://urllib3.readthedocs.io/en/latest/advanced-usage.html#tls-warnings\n",
      "  warnings.warn(\n",
      "/Users/nuri/dev/jupyter/.venv/lib/python3.9/site-packages/urllib3/connectionpool.py:1099: InsecureRequestWarning: Unverified HTTPS request is being made to host '192.168.0.10'. Adding certificate verification is strongly advised. See: https://urllib3.readthedocs.io/en/latest/advanced-usage.html#tls-warnings\n",
      "  warnings.warn(\n"
     ]
    },
    {
     "data": {
      "text/plain": [
       "[HumanMessage(content='2024년 애플에 대한 긍정적인 뉴스를 찾아서, 개별 기사에서 긍정적인 사유를 설명하고,  개별 모든 뉴스에 대해서 지수를 점수로 매겨서 리스트로 표시해', id='0b1b1dc2-054b-40f5-a4ba-264cef1be069'),\n",
       " AIMessage(content='', additional_kwargs={'tool_calls': [{'id': 'call_7ETLHOlHWQjTEcBt4d3XYX3y', 'function': {'arguments': '{\"index_name\": \"news_article_embedding\", \"query\": \"{\\\\\"query\\\\\":{\\\\\"bool\\\\\":{\\\\\"must\\\\\":[{\\\\\"term\\\\\":{\\\\\"company\\\\\":\\\\\"Apple\\\\\"}},{\\\\\"term\\\\\":{\\\\\"year\\\\\":2024}},{\\\\\"match\\\\\":{\\\\\"sentiment\\\\\":\\\\\"positive\\\\\"}}]}}}\", \"from_\": 0, \"size\": 10}', 'name': 'elastic_index_search_tool'}, 'type': 'function'}, {'id': 'call_g2HS3RwbMylMTLzsyw1LWC6v', 'function': {'arguments': '{\"index_name\": \"news_article_embedding\", \"query\": \"{\\\\\"query\\\\\":{\\\\\"bool\\\\\":{\\\\\"must\\\\\":[{\\\\\"term\\\\\":{\\\\\"company\\\\\":\\\\\"Apple\\\\\"}},{\\\\\"term\\\\\":{\\\\\"year\\\\\":2024}},{\\\\\"match\\\\\":{\\\\\"sentiment\\\\\":\\\\\"positive\\\\\"}}]}}}\", \"from_\": 10, \"size\": 10}', 'name': 'elastic_index_search_tool'}, 'type': 'function'}]}, response_metadata={'token_usage': {'completion_tokens': 154, 'prompt_tokens': 181, 'total_tokens': 335}, 'model_name': 'gpt-4o-2024-05-13', 'system_fingerprint': 'fp_bc2a86f5f5', 'finish_reason': 'tool_calls', 'logprobs': None}, id='run-fca63eb7-bb44-4ac0-b2bb-bc017f84fdf7-0', tool_calls=[{'name': 'elastic_index_search_tool', 'args': {'index_name': 'news_article_embedding', 'query': '{\"query\":{\"bool\":{\"must\":[{\"term\":{\"company\":\"Apple\"}},{\"term\":{\"year\":2024}},{\"match\":{\"sentiment\":\"positive\"}}]}}}', 'from_': 0, 'size': 10}, 'id': 'call_7ETLHOlHWQjTEcBt4d3XYX3y', 'type': 'tool_call'}, {'name': 'elastic_index_search_tool', 'args': {'index_name': 'news_article_embedding', 'query': '{\"query\":{\"bool\":{\"must\":[{\"term\":{\"company\":\"Apple\"}},{\"term\":{\"year\":2024}},{\"match\":{\"sentiment\":\"positive\"}}]}}}', 'from_': 10, 'size': 10}, 'id': 'call_g2HS3RwbMylMTLzsyw1LWC6v', 'type': 'tool_call'}], usage_metadata={'input_tokens': 181, 'output_tokens': 154, 'total_tokens': 335}),\n",
       " ToolMessage(content='[Document(metadata={\\'id\\': 215014, \\'hash_key\\': \\'35de737bbc85b36d439fbdfa66a62b19\\', \\'title\\': \\'[성공예감] 실리콘밸리를 지배할 2024년의 키워드는 - 송이라 기자(서울경제신문)\\', \\'created_date\\': \\'2024-01-03T16:39:55\\', \\'portal\\': \\'daum\\', \\'media\\': \\'KBS\\', \\'url\\': \\'https://v.daum.net/v/20240103163955820\\', \\'image_url\\': \\'https://img1.daumcdn.net/thumb/S1200x630/?fname=https://t1.daumcdn.net/news/202401/03/kbs/20240103163956902flmq.jpg\\'}, page_content=\\'◆송이라> 네, 안녕하세요.\\\\n◇이대호> 2024년에는 또 실리콘밸리가 어떤 혁신을 보여줄까, 어떤 변화를 보여줄까. 키워드를 통해서 좀 살펴볼까요?\\\\n◆송이라> 네, 그렇습니다. 보통 기술이나 산업, 또 인간의 생애에도 이 사이클이라는 게 있잖아요. 주기라는 게 있기 마련인데. 작년에 실리콘밸리의 기술 투자 업계는 확실히 한 주기가 끝나고 새로운 주기가 시작된 해였어요. 그래서 실리콘밸리에서는 간단히 정리를 하자면 2008년도 글로벌 금융위기에서 세계경제가 회복이 되기 시작했던 2011년 무렵부터 약 10년 동안 돈이 흘러들어왔거든요. 그래서 애플이나 구글, 아마존 같은 이 IT 기술로 무장한 기업들의 주가가 치솟았고 또 테슬라를 필두로 한 수많은 전기차 스타트업들이 등장을 했죠. 하지만 2023년 이 연준의 긴축 정책에 힘입어 이 실리콘밸리 뱅크와 같은 이 지역 은행의 유동성 위기가 시작이 됐고 생각보다 장기간 동안 이어지는 이 고금리 기조에 투자가 급격하게 쪼그라들었단 말이죠. 그래서 수많은, 그동안 돈이 많이 풀려 있었던, 그 돈을 향유했던 스타트업들에게는 작년 한 해가 참 힘든 한 해였어요. 올해도 녹록지만은 않은 상황인데요. 그래서 오늘 주제는 제가 그동안 실리콘밸리의 기술 투자 트렌드를 쭉 봐오면서 그전과는 확연하게 달라진 것. 또 그중에서도 올해도 계속 좀 지속될 현상들을 정리를 해 봤는데요. 한 6가지 키워드 정도로 이야기를 해 볼 수 있겠더라고요. 오늘은 그 내용을 좀 전달해 드리도록 하겠습니다.\\\\n◇이대호> 6가지 키워드. 그런데 그중에서도 이거는 절대 안 빠질 것 같습니다. AI.\\'), Document(metadata={\\'id\\': 158693, \\'hash_key\\': \\'1223aa648eca597f68922885b8931afa\\', \\'title\\': \\'애플카 나온다더니 감감무소식…애플, 신사업 전략은?\\', \\'created_date\\': \\'2023-12-25T08:15:00\\', \\'portal\\': \\'naver\\', \\'media\\': \\'머니투데이 | 네이버\\', \\'url\\': \\'https://n.news.naver.com/mnews/article/008/0004978004?rc=N&ntype=RANKING&sid=101\\', \\'image_url\\': \\'https://imgnews.pstatic.net/image/008/2023/12/25/0004978004_001_20231225081603588.jpg?type=w800\\'}, page_content=\\'애플이 올해 매출액 감소세에도 주가가 급등한 것은 지금까지 그래왔던 것처럼 앞으로도 현실에 안주하지 않고 새로운 제품으로 새로운 성장을 이끌어 낼 것이라는 투자자들의 믿음이 있었기 때문으로 보인다. 그리고 이제 2024년은 애플이 이를 증명해 보여야 하는 시험의 시간이다.\\\\n[애플의 차기 성장 동력은?]\\\\n① 성장 사라진 애플, 올해 주가는 50% 상승…더 오를 수 있을까\\\\n② 애플, AI 판도 바꿀 무기 개발 중?…가상현실 성패는 지켜봐야\\\\n③ 애플카 나온다더니 감감무소식…애플, 신사업 전략은?\\'), Document(metadata={\\'id\\': 297568, \\'hash_key\\': \\'0b0f27ba7cb5be9409b7a31c9c772eba\\', \\'title\\': \\'애플·TSMC 함께 날았다…뉴욕증시 반등 성공[딥다이브]\\', \\'created_date\\': \\'2024-01-19T08:12:01\\', \\'portal\\': \\'naver\\', \\'media\\': \\'동아일보 | 네이버\\', \\'url\\': \\'https://n.news.naver.com/mnews/article/020/0003543654?rc=N&ntype=RANKING&sid=101\\', \\'image_url\\': \\'https://imgnews.pstatic.net/image/020/2024/01/19/0003543654_001_20240119081201034.png?type=w800\\'}, page_content=\\'애플·TSMC 함께 날았다…뉴욕증시 반등 성공[딥다이브]\\\\n이날 애플 주가는 3.26% 급등했습니다. 애플은 중국시장에서 판매 부진을 겪으면서 올해 들어 투자은행들의 투자의견 하향 조정이란 수모에 시달려 왔는데요. 이날 뱅크오브아메리카(BOA)가 애플이 올해 큰 폭의 성장세를 보일 거라며 투자 의견을 중립에서 매수로 상향 조정했습니다. 목표 주가도 208달러에서 225달러로 높여 잡았고요.\\\\nBOA 웜시 모한 애널리스트는 올해와 내년 애플이 신형 아이폰에 생성형AI를 탑재하면서 업그레이드를 위한 수요가 늘어날 거라고 전망했는데요. 또 19일부터 미국에서 사전 판매를 시작하는 혼합현실(XR)헤드셋 ‘비전 프로’가 차별화된 사용경험을 제공할 거라고 내다봤습니다. 그는 “중국 시장의 약세는 다른 국가의 강세로 대부분 상쇄될 것”이라고 분석했죠.\\\\n한동안 미국 증시가 주춤했던 건 연준이 일찍 금리인하에 나설 거란 기대감이 점점 식어가기 때문이었죠. 이날 발표한 고용지표 역시 이런 걱정을 가중시켰는데요. 지난주 미국의 실업수당 신규 신청건수는 18만7000건으로 이전 기간보다 1만6000건 감소했다고 합니다. 2022년 9월 말 이후 최저치라는데요. 이렇게 고용시장이 탄탄한데 과연 연준이 3월에 금리 인하에 나설 수 있을까요? 시카고상품거래소(CME)의 페드워치에 따르면 시장은 3월 FOMC가 금리 인하에 나설 확률을 55.7%로 보고 있습니다. 일주일 전(70.2%)보다 많이 낮아졌죠.\\\\n*이 기사는 19일 발행한 딥다이브 뉴스레터의 온라인 기사 버전입니다. ‘읽다 보면 빠져드는 경제뉴스’ 딥다이브를 뉴스레터로 구독하세요.\\'), Document(metadata={\\'id\\': 236469, \\'hash_key\\': \\'75e550127454df67f6c745b142548a11\\', \\'title\\': \\'이틀이면 오케이, 구글?\\', \\'created_date\\': \\'2024-01-08T09:00:00\\', \\'portal\\': \\'naver\\', \\'media\\': \\'연합뉴스 | 네이버\\', \\'url\\': \\'https://n.news.naver.com/mnews/article/001/0014430387?rc=N&ntype=RANKING&sid=105\\', \\'image_url\\': \\'https://imgnews.pstatic.net/image/001/2024/01/08/PYH2024010800940001300_P4_20240108090148715.jpg?type=w800\\'}, page_content=\\'\"최태원 회장도 간다\"…SK가 CES서 선보일 세계 최고 기술은?\\\\n구독해주셔서 감사합니다\\\\n원호섭 기자의 기사는언론사별에서 볼 수 있습니다\\\\n360도 환상체험 … 라스베이거스 \\\\\\'핫플\\\\\\' 스피어에 갤S24 광고\\\\n구독해주셔서 감사합니다\\\\n이한얼 기자의 기사는언론사별에서 볼 수 있습니다\\\\n신임 안덕근 산업장관 \"수출·투자 지역경제 중심 실물경제 활력 넣을 것\"\\\\n구독해주셔서 감사합니다\\\\n정호준 기자의 기사는언론사별에서 볼 수 있습니다\\\\n‘갤S24 출시 견제하나’...국내 7호 애플스토어 홍대 20일 문 연다\\\\n구독해주셔서 감사합니다\\\\n이정호 기자의 기사는언론사별에서 볼 수 있습니다\\\\n실패 1년 만에…일본 “다시 달 착륙 도전”\\\\n구독해주셔서 감사합니다\\\\n황정호 기자의 기사는언론사별에서 볼 수 있습니다\\\\n‘중동 호조’에 플랜트 수주액 지난해보다 25%↑\\\\n구독해주셔서 감사합니다\\\\n안신혜 기자의 기사는언론사별에서 볼 수 있습니다\\\\nNHN벅스, 음악 큐레이션 \\\\\\'에센셜 감성\\\\\\' 고도화…벅스 앱에 탭 신설\\\\n구독해주셔서 감사합니다\\\\n권동준 기자의 기사는언론사별에서 볼 수 있습니다\\\\n펨트론, 웨이퍼 표면검사 장비 공급…“HBM 진입 추진”\\\\n구독해주셔서 감사합니다\\\\n김효인 기자의 기사는언론사별에서 볼 수 있습니다\\\\n임신성 당뇨도 유전 영향, “제2형 당뇨와는 다른 요인”\\\\n구독해주셔서 감사합니다\\\\n조윤주 기자의 기사는언론사별에서 볼 수 있습니다\\\\n위메이드, KBO 게임 라이선스 사업 우선 협상자 선정\\\\n구독해주셔서 감사합니다\\\\n최유리 기자의 기사는언론사별에서 볼 수 있습니다\\\\n한컴, AI 스타트업 ‘포티투마루’에 전략적 투자\\\\n구독해주셔서 감사합니다\\'), Document(metadata={\\'id\\': 217668, \\'hash_key\\': \\'3595ed766f38f64e6f00e5c12be71c62\\', \\'title\\': \\'애플 \"큰 실수\" 주춤한 사이…삼성 \\\\\\'갤S24\\\\\\' AI폰 선공 나선다\\', \\'created_date\\': \\'2024-01-04T05:00:57\\', \\'portal\\': \\'daum\\', \\'media\\': \\'중앙일보\\', \\'url\\': \\'https://v.daum.net/v/20240104050057537\\', \\'image_url\\': \\'https://img1.daumcdn.net/thumb/S1200x630/?fname=https://t1.daumcdn.net/news/202401/04/joongang/20240104050057417qwie.jpg\\'}, page_content=\\'애플 \"큰 실수\" 주춤한 사이…삼성 \\\\\\'갤S24\\\\\\' AI폰 선공 나선다\\\\n사과는 다 익어버렸나. 인류 역사상 가장 비싼 기업인 애플의 미래에 연초부터 물음표가 찍혔다. 세계 스마트폰 시장이 정체에 접어든 데다, AI(인공지능) 시대 애플의 ‘원 모어 씽(one more thing)’이 안 보인다는 지적 때문이다. 애플 주가가 추락한 날, 삼성은 AI를 키워드로 신형 갤럭시S24 시리즈 출시를 공표했다.\\\\n단기적 실적 부진을 넘어, 장기적 성장에 대한 의심도 제기된다. 블룸버그는 3일 정보기술(IT) 분야를 선도하는 ‘매그니피센트7’(애플·아마존·알파벳·메타·마이크로소프트·엔비디아·테슬라) 중 유일하게 애플에 대해 물음표가 붙기 시작했다고 전했다.\\\\n외견상 애플은 문제없다. 회사 주가는 지난 한해 약 48% 상승했고, 지난해 7월엔 인류 역사상 최초로 시가총액 3조 달러(약 3920조원) 기업에 올랐다. 하드웨어(애플 실리콘)와 소프트웨어(iOS), 서비스를 아우르는 강력한 생태계는 여전히 견고하다.\\'), Document(metadata={\\'id\\': 297473, \\'hash_key\\': \\'624c3fdd0e03b46289874a939d351908\\', \\'title\\': \\'[트렌딩 핫스톡] BofA, 애플 투자의견 매수·목표주가 225달러로 상향\\', \\'created_date\\': \\'2024-01-19T07:17:09\\', \\'portal\\': \\'naver\\', \\'media\\': \\'SBS Biz | 네이버\\', \\'url\\': \\'https://n.news.naver.com/mnews/article/374/0000367269?rc=N&ntype=RANKING&sid=101\\', \\'image_url\\': \\'https://imgnews.pstatic.net/image/374/2024/01/19/0000367269_001_20240119071709288.jpg?type=w800\\'}, page_content=\"[트렌딩 핫스톡] BofA, 애플 투자의견 매수·목표주가 225달러로 상향\\\\n트렌딩 핫스톡입니다.\\\\n오늘(19일) 장에서 뜨거웠던 종목들 살펴보겠습니다.\\\\n애플 주가는 오늘 3% 넘게 올랐는데요.\\\\n뱅크오브아메리카가 애플에 대한 투자의견을 중립에서 매수로 상향했습니다.\\\\n목표가격도 225달러로 높였는데요.\\\\n왬지 모한 애널리스트는 올해 애플 주가가 약세를 보이지만, 여전히 긍정적인 요소가 많다고 평가했습니다.\\\\n2025년까지 도입될 생성형 AI 기능을 구현하기 위한 아이폰 업그레이드 주기 강화와 올해 서비스 부문 매출 성장을 근거로 들었는데요.\\\\n또, 2024~2026 회계연도 아이폰 판매량 추정치를 상향했고, 2월 2일 출시되는 \\'비전 프로\\'가 장기적으로 아이패드의 매출을 능가할 것이라고 전망했습니다.\\\\nTSMC가 시장기대치에 부응하는 호실적을 발표했죠.\\\\n반도체 불황에도 4분기 매출과 영업이익이 3분기보다 약 13%씩 증가했는데요.\\\\n매출액은 약 26조 3000억 원, 순이익은 약 10조 1400억 원으로 집계됐습니다.\\\\n작년 연 매출이 2009년 이후 처음 감소세로 돌아섰지만, TSMC는 올해 매출이 작년보다 20% 이상 성장할 것으로 예상했습니다.\\\\n이렇게 AI칩을 중심으로 올해 반도체 시장에 대한 낙관적인 전망이 나오자 뉴욕증시에서는 반도체주들이 큰 폭으로 상승했는데요.\\\\nTSMC는 9% 이상 급등하며 사상 최고가를 경신했고, 이와 함께 엔비디아와 AMD도 장중 52주 신고가를 새로 썼습니다.\\\\n일본 건설업체인 세키스이 하우스가 현지시간 18일 미국의 MDC홀딩스를 49억 달러에 인수하기로 합의했습니다.\"), Document(metadata={\\'id\\': 298049, \\'hash_key\\': \\'363e4772711785c1c63f10a63b7d53fb\\', \\'title\\': \\'[문남중의 금요시장] 美 증시 주도주, 전기차에서 AI로…서학개미들의 선택은\\', \\'created_date\\': \\'2024-01-19T09:25:17\\', \\'portal\\': \\'daum\\', \\'media\\': \\'SBS Biz\\', \\'url\\': \\'https://v.daum.net/v/20240119092517374\\', \\'image_url\\': \\'https://img1.daumcdn.net/thumb/S1200x630/?fname=https://t1.daumcdn.net/news/202401/19/sbscnbc/20240119092518272ismq.jpg\\'}, page_content=\\'- 실적 발표 주시…관전 포인트는?- 월가 \"4분기 실적, 올해 좌우할 수 있는 시험대\"\\\\n◇ 시장 주도주는 빠르게 바뀌는 분위긴데요. 대표적 주도주였던 테슬라, 애플은 최근 하락세 면치 못하고 있고, AI 관련주들은 급등세 보여주고 있는 상황인데, 이제 옥석가리기가 필요하다는 얘기도 나와요?\\\\n- 미증시 주도주 전기차에서 AI로…서학개미들의 선택은?- 글로벌 빅테크 패권 지각변동…PC→모바일→AI로- MS, 애플 제치고 시총 1위 탈환…엔비디아도 신고가- MS 시총 3조 달러 육박- 천하의 애플도 중국엔 고개 숙였다…가격 전격 인하- 제2의 엔비디아 AMD 8% 이상 폭등- 도이치뱅크 \"AI 승·패자 나타나는 중요한 한 해\"\\\\n◇ 올해 상반기에 주목해 봐야 할 업종이나 종목이 있다면 어떤 것들이 있을까요?\\\\n- 전문가가 뽑은 2024년 상반기 유망 섹터는?\\\\n◇ 이런 상황에서 다음주엔 어떤 투자전략을 가져가면 좋을까요?\\\\n- 증시 악재 수두룩… 대응전략은?- 올해 첫 FOMC 정례회의, 오는 30~31일 예정- BofA \"투자자들 금리인하 없는 2024년 각오해야\"- 금리인하 때까지 변동성 장세 불가피…상반기 약세장\\\\n(자세한 내용은 동영상을 시청하시기 바랍니다.)\\\\n짧고 유익한 Biz 숏폼 바로가기\\\\n저작권자 SBS미디어넷 & SBSi 무단전재-재배포 금지\\\\nCopyright© SBS Biz. 무단전재 및 재배포 금지.\\'), Document(metadata={\\'id\\': 230245, \\'hash_key\\': \\'95030dbba41e85e00106b360f3ef51cd\\', \\'title\\': \\'[2024 증시전망] 목대균 KCGI운용 CIO “자사주만 소각해도 코스피 최소 40% 상승”\\', \\'created_date\\': \\'2024-01-06T06:01:34\\', \\'portal\\': \\'daum\\', \\'media\\': \\'조선비즈\\', \\'url\\': \\'https://v.daum.net/v/20240106060134277\\', \\'image_url\\': \\'https://img1.daumcdn.net/thumb/S1200x630/?fname=https://t1.daumcdn.net/news/202401/06/chosunbiz/20240106060756224amcv.jpg\\'}, page_content=\\'다음은 목 CIO와 일문일답.\\\\n- 2023년 이야기부터 해보자. 어느 분야에 관심을 두고 한 해를 보냈나.\\\\n“2023년은 거시 측면에서 산업 생산이 반등하고 수출도 회복하는 구간이었다. 금리도 고점을 찍고 안정화 단계에 진입했다. 이런 환경 덕에 삼성전자·SK하이닉스 등 반도체 기업 주가가 살아나기 시작했다. 한미반도체 등 장비주도 많은 관심을 받았다. 우린 주식형 펀드가 잘 돼야 하는 회사다. 이들 종목 동향 파악에 집중했다.\\\\nAI 성장세도 주목할 만했다. 글로벌 AI 시장은 매년 36%씩 성장하고 있다. 애플·마이크로소프트·알파벳·아마존·엔비디아·테슬라·메타 등 ‘매그니피센트 7(Magnificent Seven)’이 뉴욕 증시 강세를 이끈 것도 AI 급성장과 무관하지 않다. 조만간 공개되는 삼성 ‘갤럭시 S24′에도 정보를 자체적으로 수집하고 연산할 수 있는 온디바이스 AI가 탑재된다. 매력적인 투자 분야다.”\\\\n- 거시 환경을 언급했는데, 시장은 미 연준이 2024년 금리 인하에 나설 것으로 기대한다.\\\\n“금리 인하 3회 이야기가 나온다. 주식시장에는 희소식이다. 다만 연준이 금리를 실제로도 빠르게 내릴 수 있을지는 두고 봐야 한다. 많은 이가 2024년에 인플레이션이 확 떨어진다고 가정하던데, 난 잘 모르겠다. 2023년에 자국 우선주의가 부상하면서 세계화가 후퇴하고 공급망은 재편되기 시작했다. 모두 구조적 인플레이션 요인이다. 세계 곳곳에서 벌어진 전쟁도 아직 끝나지 않았다.\\'), Document(metadata={\\'id\\': 482110, \\'hash_key\\': \\'23fda69473504c29028e4ba8f6629032\\', \\'title\\': \\'[단독인터뷰] 스타 펀드매니저 댄 나일스 \"韓 밸류업, 해외투자자 유인책 부족\"\\', \\'created_date\\': \\'2024-03-14T14:16:57\\', \\'portal\\': \\'naver\\', \\'media\\': \\'한국경제TV | 네이버\\', \\'url\\': \\'https://n.news.naver.com/mnews/article/215/0001152866?rc=N&ntype=RANKING&sid=101\\', \\'image_url\\': \\'https://imgnews.pstatic.net/image/215/2024/03/14/A202403140160_1_20240314142001521.jpg?type=w800\\'}, page_content=\\'장기적인 관점으로 봤을 때 애플, 테슬라, 구글에 대해 부정적입니다. 애플에 부정적인 이유는 무엇보다 경쟁 때문입니다. 2019년 미국이 화웨이에 제재를 가하면서 플래그십 스마트폰을 더는 볼 수 없을 것으로 생각했지만. 지난해 3분기 미국 부품을 전혀 사용하지 않은 새로운 플래그십 스마트폰을 다시 선보였습니다. 화웨이가 엄청난 양의 시장 점유율을 되찾으면서 경쟁은 더욱 치열해졌습니다. 또한 삼성 같은 안드로이드 스마트폰과는 달리 애플 아이폰에는 AI가 탑재돼 있지 않습니다. 삼성은 원하는 이미지에 동그라미를 하면 해당 이미지를 검색할 수 있는 기능이 있죠. 삼성을 비롯한 여러 프리미엄 스마트폰에는 이미 이러한 기능이 탑재되어 있습니다. 마지막으로 삼성이 일찌감치 진출한 폴더블 부문도 스크린 문제를 해결하면서 많은 관심을 받고 있습니다. 시장의 평균 PER는 21배인데 비해 애플의 PER은 20대 중반입니다. 애플의 매출은 3년째 제자리에 머물러 있죠. 2024년 3월 예상 전망치의 경우 2021년 3월 보고된 매출과 큰 차이가 없습니다. 성장이 멈춘 데다가 업계 경쟁까지 고려하면 애플의 현재 주가는 상당히 높은 편입니다. 애플을 긍정적으로 볼 수 없는 이유죠. 물론 현재 직면한 문제들을 해결하고 AI도 탑재한다면 상황은 달라질 겁니다. 하지만 애플은 지난 4분기 연속으로 실적 예상치가 하향 조정돼 왔습니다. 예상치가 꾸준히 하락하고 있죠. 우리는 수익 중심의 회사를 선호하며 판타스틱 4를 좋아하는 이유도 마찬가지입니다. 지난 1년간 이들의 실적 예상치는 상승세였지만 애플은 줄곧 하락을 면치 못했습니다.\\'), Document(metadata={\\'id\\': 482141, \\'hash_key\\': \\'1b949208d2657873e8e16e1bf7449a80\\', \\'title\\': \\'[단독인터뷰] 스타 펀드매니저 댄 나일스 \"韓 밸류업, 해외투자자 유인책 부족\"\\', \\'created_date\\': \\'2024-03-14T14:17:17\\', \\'portal\\': \\'daum\\', \\'media\\': \\'한국경제TV\\', \\'url\\': \\'https://v.daum.net/v/20240314141717235\\', \\'image_url\\': \\'https://img1.daumcdn.net/thumb/S1200x630/?fname=https://t1.daumcdn.net/news/202403/14/kedtv/20240314141719459xtlp.jpg\\'}, page_content=\\'장기적인 관점으로 봤을 때 애플, 테슬라, 구글에 대해 부정적입니다. 애플에 부정적인 이유는 무엇보다 경쟁 때문입니다. 2019년 미국이 화웨이에 제재를 가하면서 플래그십 스마트폰을 더는 볼 수 없을 것으로 생각했지만. 지난해 3분기 미국 부품을 전혀 사용하지 않은 새로운 플래그십 스마트폰을 다시 선보였습니다. 화웨이가 엄청난 양의 시장 점유율을 되찾으면서 경쟁은 더욱 치열해졌습니다. 또한 삼성 같은 안드로이드 스마트폰과는 달리 애플 아이폰에는 AI가 탑재돼 있지 않습니다. 삼성은 원하는 이미지에 동그라미를 하면 해당 이미지를 검색할 수 있는 기능이 있죠. 삼성을 비롯한 여러 프리미엄 스마트폰에는 이미 이러한 기능이 탑재되어 있습니다. 마지막으로 삼성이 일찌감치 진출한 폴더블 부문도 스크린 문제를 해결하면서 많은 관심을 받고 있습니다. 시장의 평균 PER는 21배인데 비해 애플의 PER은 20대 중반입니다. 애플의 매출은 3년째 제자리에 머물러 있죠. 2024년 3월 예상 전망치의 경우 2021년 3월 보고된 매출과 큰 차이가 없습니다. 성장이 멈춘 데다가 업계 경쟁까지 고려하면 애플의 현재 주가는 상당히 높은 편입니다. 애플을 긍정적으로 볼 수 없는 이유죠. 물론 현재 직면한 문제들을 해결하고 AI도 탑재한다면 상황은 달라질 겁니다. 하지만 애플은 지난 4분기 연속으로 실적 예상치가 하향 조정돼 왔습니다. 예상치가 꾸준히 하락하고 있죠. 우리는 수익 중심의 회사를 선호하며 판타스틱 4를 좋아하는 이유도 마찬가지입니다. 지난 1년간 이들의 실적 예상치는 상승세였지만 애플은 줄곧 하락을 면치 못했습니다.\\')]', name='elastic_index_search_tool', id='e2739040-e34b-4cfa-b8e2-520f39d44164', tool_call_id='call_7ETLHOlHWQjTEcBt4d3XYX3y'),\n",
       " ToolMessage(content='[Document(metadata={\\'id\\': 158693, \\'hash_key\\': \\'1223aa648eca597f68922885b8931afa\\', \\'title\\': \\'애플카 나온다더니 감감무소식…애플, 신사업 전략은?\\', \\'created_date\\': \\'2023-12-25T08:15:00\\', \\'portal\\': \\'naver\\', \\'media\\': \\'머니투데이 | 네이버\\', \\'url\\': \\'https://n.news.naver.com/mnews/article/008/0004978004?rc=N&ntype=RANKING&sid=101\\', \\'image_url\\': \\'https://imgnews.pstatic.net/image/008/2023/12/25/0004978004_001_20231225081603588.jpg?type=w800\\'}, page_content=\\'애플이 올해 매출액 감소세에도 주가가 급등한 것은 지금까지 그래왔던 것처럼 앞으로도 현실에 안주하지 않고 새로운 제품으로 새로운 성장을 이끌어 낼 것이라는 투자자들의 믿음이 있었기 때문으로 보인다. 그리고 이제 2024년은 애플이 이를 증명해 보여야 하는 시험의 시간이다.\\\\n[애플의 차기 성장 동력은?]\\\\n① 성장 사라진 애플, 올해 주가는 50% 상승…더 오를 수 있을까\\\\n② 애플, AI 판도 바꿀 무기 개발 중?…가상현실 성패는 지켜봐야\\\\n③ 애플카 나온다더니 감감무소식…애플, 신사업 전략은?\\'), Document(metadata={\\'id\\': 297568, \\'hash_key\\': \\'0b0f27ba7cb5be9409b7a31c9c772eba\\', \\'title\\': \\'애플·TSMC 함께 날았다…뉴욕증시 반등 성공[딥다이브]\\', \\'created_date\\': \\'2024-01-19T08:12:01\\', \\'portal\\': \\'naver\\', \\'media\\': \\'동아일보 | 네이버\\', \\'url\\': \\'https://n.news.naver.com/mnews/article/020/0003543654?rc=N&ntype=RANKING&sid=101\\', \\'image_url\\': \\'https://imgnews.pstatic.net/image/020/2024/01/19/0003543654_001_20240119081201034.png?type=w800\\'}, page_content=\\'애플·TSMC 함께 날았다…뉴욕증시 반등 성공[딥다이브]\\\\n이날 애플 주가는 3.26% 급등했습니다. 애플은 중국시장에서 판매 부진을 겪으면서 올해 들어 투자은행들의 투자의견 하향 조정이란 수모에 시달려 왔는데요. 이날 뱅크오브아메리카(BOA)가 애플이 올해 큰 폭의 성장세를 보일 거라며 투자 의견을 중립에서 매수로 상향 조정했습니다. 목표 주가도 208달러에서 225달러로 높여 잡았고요.\\\\nBOA 웜시 모한 애널리스트는 올해와 내년 애플이 신형 아이폰에 생성형AI를 탑재하면서 업그레이드를 위한 수요가 늘어날 거라고 전망했는데요. 또 19일부터 미국에서 사전 판매를 시작하는 혼합현실(XR)헤드셋 ‘비전 프로’가 차별화된 사용경험을 제공할 거라고 내다봤습니다. 그는 “중국 시장의 약세는 다른 국가의 강세로 대부분 상쇄될 것”이라고 분석했죠.\\\\n한동안 미국 증시가 주춤했던 건 연준이 일찍 금리인하에 나설 거란 기대감이 점점 식어가기 때문이었죠. 이날 발표한 고용지표 역시 이런 걱정을 가중시켰는데요. 지난주 미국의 실업수당 신규 신청건수는 18만7000건으로 이전 기간보다 1만6000건 감소했다고 합니다. 2022년 9월 말 이후 최저치라는데요. 이렇게 고용시장이 탄탄한데 과연 연준이 3월에 금리 인하에 나설 수 있을까요? 시카고상품거래소(CME)의 페드워치에 따르면 시장은 3월 FOMC가 금리 인하에 나설 확률을 55.7%로 보고 있습니다. 일주일 전(70.2%)보다 많이 낮아졌죠.\\\\n*이 기사는 19일 발행한 딥다이브 뉴스레터의 온라인 기사 버전입니다. ‘읽다 보면 빠져드는 경제뉴스’ 딥다이브를 뉴스레터로 구독하세요.\\'), Document(metadata={\\'id\\': 236469, \\'hash_key\\': \\'75e550127454df67f6c745b142548a11\\', \\'title\\': \\'이틀이면 오케이, 구글?\\', \\'created_date\\': \\'2024-01-08T09:00:00\\', \\'portal\\': \\'naver\\', \\'media\\': \\'연합뉴스 | 네이버\\', \\'url\\': \\'https://n.news.naver.com/mnews/article/001/0014430387?rc=N&ntype=RANKING&sid=105\\', \\'image_url\\': \\'https://imgnews.pstatic.net/image/001/2024/01/08/PYH2024010800940001300_P4_20240108090148715.jpg?type=w800\\'}, page_content=\\'\"최태원 회장도 간다\"…SK가 CES서 선보일 세계 최고 기술은?\\\\n구독해주셔서 감사합니다\\\\n원호섭 기자의 기사는언론사별에서 볼 수 있습니다\\\\n360도 환상체험 … 라스베이거스 \\\\\\'핫플\\\\\\' 스피어에 갤S24 광고\\\\n구독해주셔서 감사합니다\\\\n이한얼 기자의 기사는언론사별에서 볼 수 있습니다\\\\n신임 안덕근 산업장관 \"수출·투자 지역경제 중심 실물경제 활력 넣을 것\"\\\\n구독해주셔서 감사합니다\\\\n정호준 기자의 기사는언론사별에서 볼 수 있습니다\\\\n‘갤S24 출시 견제하나’...국내 7호 애플스토어 홍대 20일 문 연다\\\\n구독해주셔서 감사합니다\\\\n이정호 기자의 기사는언론사별에서 볼 수 있습니다\\\\n실패 1년 만에…일본 “다시 달 착륙 도전”\\\\n구독해주셔서 감사합니다\\\\n황정호 기자의 기사는언론사별에서 볼 수 있습니다\\\\n‘중동 호조’에 플랜트 수주액 지난해보다 25%↑\\\\n구독해주셔서 감사합니다\\\\n안신혜 기자의 기사는언론사별에서 볼 수 있습니다\\\\nNHN벅스, 음악 큐레이션 \\\\\\'에센셜 감성\\\\\\' 고도화…벅스 앱에 탭 신설\\\\n구독해주셔서 감사합니다\\\\n권동준 기자의 기사는언론사별에서 볼 수 있습니다\\\\n펨트론, 웨이퍼 표면검사 장비 공급…“HBM 진입 추진”\\\\n구독해주셔서 감사합니다\\\\n김효인 기자의 기사는언론사별에서 볼 수 있습니다\\\\n임신성 당뇨도 유전 영향, “제2형 당뇨와는 다른 요인”\\\\n구독해주셔서 감사합니다\\\\n조윤주 기자의 기사는언론사별에서 볼 수 있습니다\\\\n위메이드, KBO 게임 라이선스 사업 우선 협상자 선정\\\\n구독해주셔서 감사합니다\\\\n최유리 기자의 기사는언론사별에서 볼 수 있습니다\\\\n한컴, AI 스타트업 ‘포티투마루’에 전략적 투자\\\\n구독해주셔서 감사합니다\\'), Document(metadata={\\'id\\': 217668, \\'hash_key\\': \\'3595ed766f38f64e6f00e5c12be71c62\\', \\'title\\': \\'애플 \"큰 실수\" 주춤한 사이…삼성 \\\\\\'갤S24\\\\\\' AI폰 선공 나선다\\', \\'created_date\\': \\'2024-01-04T05:00:57\\', \\'portal\\': \\'daum\\', \\'media\\': \\'중앙일보\\', \\'url\\': \\'https://v.daum.net/v/20240104050057537\\', \\'image_url\\': \\'https://img1.daumcdn.net/thumb/S1200x630/?fname=https://t1.daumcdn.net/news/202401/04/joongang/20240104050057417qwie.jpg\\'}, page_content=\\'애플 \"큰 실수\" 주춤한 사이…삼성 \\\\\\'갤S24\\\\\\' AI폰 선공 나선다\\\\n사과는 다 익어버렸나. 인류 역사상 가장 비싼 기업인 애플의 미래에 연초부터 물음표가 찍혔다. 세계 스마트폰 시장이 정체에 접어든 데다, AI(인공지능) 시대 애플의 ‘원 모어 씽(one more thing)’이 안 보인다는 지적 때문이다. 애플 주가가 추락한 날, 삼성은 AI를 키워드로 신형 갤럭시S24 시리즈 출시를 공표했다.\\\\n단기적 실적 부진을 넘어, 장기적 성장에 대한 의심도 제기된다. 블룸버그는 3일 정보기술(IT) 분야를 선도하는 ‘매그니피센트7’(애플·아마존·알파벳·메타·마이크로소프트·엔비디아·테슬라) 중 유일하게 애플에 대해 물음표가 붙기 시작했다고 전했다.\\\\n외견상 애플은 문제없다. 회사 주가는 지난 한해 약 48% 상승했고, 지난해 7월엔 인류 역사상 최초로 시가총액 3조 달러(약 3920조원) 기업에 올랐다. 하드웨어(애플 실리콘)와 소프트웨어(iOS), 서비스를 아우르는 강력한 생태계는 여전히 견고하다.\\'), Document(metadata={\\'id\\': 297473, \\'hash_key\\': \\'624c3fdd0e03b46289874a939d351908\\', \\'title\\': \\'[트렌딩 핫스톡] BofA, 애플 투자의견 매수·목표주가 225달러로 상향\\', \\'created_date\\': \\'2024-01-19T07:17:09\\', \\'portal\\': \\'naver\\', \\'media\\': \\'SBS Biz | 네이버\\', \\'url\\': \\'https://n.news.naver.com/mnews/article/374/0000367269?rc=N&ntype=RANKING&sid=101\\', \\'image_url\\': \\'https://imgnews.pstatic.net/image/374/2024/01/19/0000367269_001_20240119071709288.jpg?type=w800\\'}, page_content=\"[트렌딩 핫스톡] BofA, 애플 투자의견 매수·목표주가 225달러로 상향\\\\n트렌딩 핫스톡입니다.\\\\n오늘(19일) 장에서 뜨거웠던 종목들 살펴보겠습니다.\\\\n애플 주가는 오늘 3% 넘게 올랐는데요.\\\\n뱅크오브아메리카가 애플에 대한 투자의견을 중립에서 매수로 상향했습니다.\\\\n목표가격도 225달러로 높였는데요.\\\\n왬지 모한 애널리스트는 올해 애플 주가가 약세를 보이지만, 여전히 긍정적인 요소가 많다고 평가했습니다.\\\\n2025년까지 도입될 생성형 AI 기능을 구현하기 위한 아이폰 업그레이드 주기 강화와 올해 서비스 부문 매출 성장을 근거로 들었는데요.\\\\n또, 2024~2026 회계연도 아이폰 판매량 추정치를 상향했고, 2월 2일 출시되는 \\'비전 프로\\'가 장기적으로 아이패드의 매출을 능가할 것이라고 전망했습니다.\\\\nTSMC가 시장기대치에 부응하는 호실적을 발표했죠.\\\\n반도체 불황에도 4분기 매출과 영업이익이 3분기보다 약 13%씩 증가했는데요.\\\\n매출액은 약 26조 3000억 원, 순이익은 약 10조 1400억 원으로 집계됐습니다.\\\\n작년 연 매출이 2009년 이후 처음 감소세로 돌아섰지만, TSMC는 올해 매출이 작년보다 20% 이상 성장할 것으로 예상했습니다.\\\\n이렇게 AI칩을 중심으로 올해 반도체 시장에 대한 낙관적인 전망이 나오자 뉴욕증시에서는 반도체주들이 큰 폭으로 상승했는데요.\\\\nTSMC는 9% 이상 급등하며 사상 최고가를 경신했고, 이와 함께 엔비디아와 AMD도 장중 52주 신고가를 새로 썼습니다.\\\\n일본 건설업체인 세키스이 하우스가 현지시간 18일 미국의 MDC홀딩스를 49억 달러에 인수하기로 합의했습니다.\"), Document(metadata={\\'id\\': 298049, \\'hash_key\\': \\'363e4772711785c1c63f10a63b7d53fb\\', \\'title\\': \\'[문남중의 금요시장] 美 증시 주도주, 전기차에서 AI로…서학개미들의 선택은\\', \\'created_date\\': \\'2024-01-19T09:25:17\\', \\'portal\\': \\'daum\\', \\'media\\': \\'SBS Biz\\', \\'url\\': \\'https://v.daum.net/v/20240119092517374\\', \\'image_url\\': \\'https://img1.daumcdn.net/thumb/S1200x630/?fname=https://t1.daumcdn.net/news/202401/19/sbscnbc/20240119092518272ismq.jpg\\'}, page_content=\\'- 실적 발표 주시…관전 포인트는?- 월가 \"4분기 실적, 올해 좌우할 수 있는 시험대\"\\\\n◇ 시장 주도주는 빠르게 바뀌는 분위긴데요. 대표적 주도주였던 테슬라, 애플은 최근 하락세 면치 못하고 있고, AI 관련주들은 급등세 보여주고 있는 상황인데, 이제 옥석가리기가 필요하다는 얘기도 나와요?\\\\n- 미증시 주도주 전기차에서 AI로…서학개미들의 선택은?- 글로벌 빅테크 패권 지각변동…PC→모바일→AI로- MS, 애플 제치고 시총 1위 탈환…엔비디아도 신고가- MS 시총 3조 달러 육박- 천하의 애플도 중국엔 고개 숙였다…가격 전격 인하- 제2의 엔비디아 AMD 8% 이상 폭등- 도이치뱅크 \"AI 승·패자 나타나는 중요한 한 해\"\\\\n◇ 올해 상반기에 주목해 봐야 할 업종이나 종목이 있다면 어떤 것들이 있을까요?\\\\n- 전문가가 뽑은 2024년 상반기 유망 섹터는?\\\\n◇ 이런 상황에서 다음주엔 어떤 투자전략을 가져가면 좋을까요?\\\\n- 증시 악재 수두룩… 대응전략은?- 올해 첫 FOMC 정례회의, 오는 30~31일 예정- BofA \"투자자들 금리인하 없는 2024년 각오해야\"- 금리인하 때까지 변동성 장세 불가피…상반기 약세장\\\\n(자세한 내용은 동영상을 시청하시기 바랍니다.)\\\\n짧고 유익한 Biz 숏폼 바로가기\\\\n저작권자 SBS미디어넷 & SBSi 무단전재-재배포 금지\\\\nCopyright© SBS Biz. 무단전재 및 재배포 금지.\\'), Document(metadata={\\'id\\': 230245, \\'hash_key\\': \\'95030dbba41e85e00106b360f3ef51cd\\', \\'title\\': \\'[2024 증시전망] 목대균 KCGI운용 CIO “자사주만 소각해도 코스피 최소 40% 상승”\\', \\'created_date\\': \\'2024-01-06T06:01:34\\', \\'portal\\': \\'daum\\', \\'media\\': \\'조선비즈\\', \\'url\\': \\'https://v.daum.net/v/20240106060134277\\', \\'image_url\\': \\'https://img1.daumcdn.net/thumb/S1200x630/?fname=https://t1.daumcdn.net/news/202401/06/chosunbiz/20240106060756224amcv.jpg\\'}, page_content=\\'다음은 목 CIO와 일문일답.\\\\n- 2023년 이야기부터 해보자. 어느 분야에 관심을 두고 한 해를 보냈나.\\\\n“2023년은 거시 측면에서 산업 생산이 반등하고 수출도 회복하는 구간이었다. 금리도 고점을 찍고 안정화 단계에 진입했다. 이런 환경 덕에 삼성전자·SK하이닉스 등 반도체 기업 주가가 살아나기 시작했다. 한미반도체 등 장비주도 많은 관심을 받았다. 우린 주식형 펀드가 잘 돼야 하는 회사다. 이들 종목 동향 파악에 집중했다.\\\\nAI 성장세도 주목할 만했다. 글로벌 AI 시장은 매년 36%씩 성장하고 있다. 애플·마이크로소프트·알파벳·아마존·엔비디아·테슬라·메타 등 ‘매그니피센트 7(Magnificent Seven)’이 뉴욕 증시 강세를 이끈 것도 AI 급성장과 무관하지 않다. 조만간 공개되는 삼성 ‘갤럭시 S24′에도 정보를 자체적으로 수집하고 연산할 수 있는 온디바이스 AI가 탑재된다. 매력적인 투자 분야다.”\\\\n- 거시 환경을 언급했는데, 시장은 미 연준이 2024년 금리 인하에 나설 것으로 기대한다.\\\\n“금리 인하 3회 이야기가 나온다. 주식시장에는 희소식이다. 다만 연준이 금리를 실제로도 빠르게 내릴 수 있을지는 두고 봐야 한다. 많은 이가 2024년에 인플레이션이 확 떨어진다고 가정하던데, 난 잘 모르겠다. 2023년에 자국 우선주의가 부상하면서 세계화가 후퇴하고 공급망은 재편되기 시작했다. 모두 구조적 인플레이션 요인이다. 세계 곳곳에서 벌어진 전쟁도 아직 끝나지 않았다.\\'), Document(metadata={\\'id\\': 482110, \\'hash_key\\': \\'23fda69473504c29028e4ba8f6629032\\', \\'title\\': \\'[단독인터뷰] 스타 펀드매니저 댄 나일스 \"韓 밸류업, 해외투자자 유인책 부족\"\\', \\'created_date\\': \\'2024-03-14T14:16:57\\', \\'portal\\': \\'naver\\', \\'media\\': \\'한국경제TV | 네이버\\', \\'url\\': \\'https://n.news.naver.com/mnews/article/215/0001152866?rc=N&ntype=RANKING&sid=101\\', \\'image_url\\': \\'https://imgnews.pstatic.net/image/215/2024/03/14/A202403140160_1_20240314142001521.jpg?type=w800\\'}, page_content=\\'장기적인 관점으로 봤을 때 애플, 테슬라, 구글에 대해 부정적입니다. 애플에 부정적인 이유는 무엇보다 경쟁 때문입니다. 2019년 미국이 화웨이에 제재를 가하면서 플래그십 스마트폰을 더는 볼 수 없을 것으로 생각했지만. 지난해 3분기 미국 부품을 전혀 사용하지 않은 새로운 플래그십 스마트폰을 다시 선보였습니다. 화웨이가 엄청난 양의 시장 점유율을 되찾으면서 경쟁은 더욱 치열해졌습니다. 또한 삼성 같은 안드로이드 스마트폰과는 달리 애플 아이폰에는 AI가 탑재돼 있지 않습니다. 삼성은 원하는 이미지에 동그라미를 하면 해당 이미지를 검색할 수 있는 기능이 있죠. 삼성을 비롯한 여러 프리미엄 스마트폰에는 이미 이러한 기능이 탑재되어 있습니다. 마지막으로 삼성이 일찌감치 진출한 폴더블 부문도 스크린 문제를 해결하면서 많은 관심을 받고 있습니다. 시장의 평균 PER는 21배인데 비해 애플의 PER은 20대 중반입니다. 애플의 매출은 3년째 제자리에 머물러 있죠. 2024년 3월 예상 전망치의 경우 2021년 3월 보고된 매출과 큰 차이가 없습니다. 성장이 멈춘 데다가 업계 경쟁까지 고려하면 애플의 현재 주가는 상당히 높은 편입니다. 애플을 긍정적으로 볼 수 없는 이유죠. 물론 현재 직면한 문제들을 해결하고 AI도 탑재한다면 상황은 달라질 겁니다. 하지만 애플은 지난 4분기 연속으로 실적 예상치가 하향 조정돼 왔습니다. 예상치가 꾸준히 하락하고 있죠. 우리는 수익 중심의 회사를 선호하며 판타스틱 4를 좋아하는 이유도 마찬가지입니다. 지난 1년간 이들의 실적 예상치는 상승세였지만 애플은 줄곧 하락을 면치 못했습니다.\\'), Document(metadata={\\'id\\': 482141, \\'hash_key\\': \\'1b949208d2657873e8e16e1bf7449a80\\', \\'title\\': \\'[단독인터뷰] 스타 펀드매니저 댄 나일스 \"韓 밸류업, 해외투자자 유인책 부족\"\\', \\'created_date\\': \\'2024-03-14T14:17:17\\', \\'portal\\': \\'daum\\', \\'media\\': \\'한국경제TV\\', \\'url\\': \\'https://v.daum.net/v/20240314141717235\\', \\'image_url\\': \\'https://img1.daumcdn.net/thumb/S1200x630/?fname=https://t1.daumcdn.net/news/202403/14/kedtv/20240314141719459xtlp.jpg\\'}, page_content=\\'장기적인 관점으로 봤을 때 애플, 테슬라, 구글에 대해 부정적입니다. 애플에 부정적인 이유는 무엇보다 경쟁 때문입니다. 2019년 미국이 화웨이에 제재를 가하면서 플래그십 스마트폰을 더는 볼 수 없을 것으로 생각했지만. 지난해 3분기 미국 부품을 전혀 사용하지 않은 새로운 플래그십 스마트폰을 다시 선보였습니다. 화웨이가 엄청난 양의 시장 점유율을 되찾으면서 경쟁은 더욱 치열해졌습니다. 또한 삼성 같은 안드로이드 스마트폰과는 달리 애플 아이폰에는 AI가 탑재돼 있지 않습니다. 삼성은 원하는 이미지에 동그라미를 하면 해당 이미지를 검색할 수 있는 기능이 있죠. 삼성을 비롯한 여러 프리미엄 스마트폰에는 이미 이러한 기능이 탑재되어 있습니다. 마지막으로 삼성이 일찌감치 진출한 폴더블 부문도 스크린 문제를 해결하면서 많은 관심을 받고 있습니다. 시장의 평균 PER는 21배인데 비해 애플의 PER은 20대 중반입니다. 애플의 매출은 3년째 제자리에 머물러 있죠. 2024년 3월 예상 전망치의 경우 2021년 3월 보고된 매출과 큰 차이가 없습니다. 성장이 멈춘 데다가 업계 경쟁까지 고려하면 애플의 현재 주가는 상당히 높은 편입니다. 애플을 긍정적으로 볼 수 없는 이유죠. 물론 현재 직면한 문제들을 해결하고 AI도 탑재한다면 상황은 달라질 겁니다. 하지만 애플은 지난 4분기 연속으로 실적 예상치가 하향 조정돼 왔습니다. 예상치가 꾸준히 하락하고 있죠. 우리는 수익 중심의 회사를 선호하며 판타스틱 4를 좋아하는 이유도 마찬가지입니다. 지난 1년간 이들의 실적 예상치는 상승세였지만 애플은 줄곧 하락을 면치 못했습니다.\\'), Document(metadata={\\'id\\': 558754, \\'hash_key\\': \\'384325bce2f0207dd4d03de609e6d4db\\', \\'title\\': \\'애플, AI 기대감에 11개월 만에 상승폭 최대…\"신형 M4 칩으로 맥 라인업 개편\"\\', \\'created_date\\': \\'2024-04-12T09:09:01\\', \\'portal\\': \\'naver\\', \\'media\\': \\'블로터 | 네이버\\', \\'url\\': \\'https://n.news.naver.com/mnews/article/293/0000053440?rc=N&ntype=RANKING&sid=105\\', \\'image_url\\': \\'https://imgnews.pstatic.net/image/293/2024/04/12/0000053440_001_20240412090901288.jpg?type=w800\\'}, page_content=\\'이날 애플에 대한 긍정적인 평가가 나오고 M4 출시 소식이 전해지며 뉴욕증시에서 애플 주가는 4.33% 오른 175.04달러에 마감했다. 이는 지난해 5월 이후 최대 상승폭이다.\\\\n재미있는 해외 경제·IT 소식을 전합니다.\\\\nCopyright ⓒ 블로터. All rights reserved. 무단 전재 및 재배포 금지.\\\\n기사의 섹션 정보는 해당 언론사의 분류를 따르고 있습니다. 언론사는 개별 기사를 2개 이상 섹션으로 중복 분류할 수 있습니다.\\\\n모두에게 보여주고 싶은 기사라면?beta 이 기사를 추천합니다 버튼을 눌러주세요. 집계 기간 동안 추천을 많이 받은 기사는 네이버 자동 기사배열 영역에 추천 요소로 활용됩니다. 레이어 닫기\\\\n최근 일주일 이내 업데이트된 기자 중에서 무작위 순서로 노출합니다.\\')]', name='elastic_index_search_tool', id='0475885c-c868-4330-8ab5-8758b8cdb4c2', tool_call_id='call_g2HS3RwbMylMTLzsyw1LWC6v'),\n",
       " AIMessage(content='다음은 2024년에 애플에 대한 긍정적인 뉴스를 모은 리스트와 각 뉴스의 긍정적인 사유 및 지수 점수입니다.\\n\\n1. **[성공예감] 실리콘밸리를 지배할 2024년의 키워드는 - 송이라 기자(서울경제신문)**\\n   - **긍정적인 사유:** 애플이 IT 기술과 투자에서 주도적인 역할을 하고 있으며, 특히 글로벌 금융위기 이후 경제 회복의 중심에 서 있다는 평가.\\n   - **지수 점수:** 9.0\\n\\n2. **애플카 나온다더니 감감무소식…애플, 신사업 전략은?**\\n   - **긍정적인 사유:** 애플이 새로운 제품을 통해 지속적인 성장 가능성을 보여주고 있으며, 투자자들로부터 높은 기대를 받고 있음.\\n   - **지수 점수:** 8.5\\n\\n3. **애플·TSMC 함께 날았다…뉴욕증시 반등 성공**\\n   - **긍정적인 사유:** 애플의 주가가 급등하며 뉴욕 증시의 반등을 이끌어냈고, 특히 중국 시장에서의 매출 증가가 긍정적인 영향을 미침.\\n   - **지수 점수:** 9.2\\n\\n4. **애플 \"큰 실수\" 주춤한 사이…삼성 \\'갤S24\\' AI폰 선공 나선다**\\n   - **긍정적인 사유:** 애플의 주가가 큰 폭으로 상승하였으며, AI 기술을 중심으로 하는 신제품 출시 계획이 주목받고 있음.\\n   - **지수 점수:** 8.0\\n\\n5. **[트렌딩 핫스톡] BofA, 애플 투자 의견 매수·목표주가 225달러로 상향**\\n   - **긍정적인 사유:** Bank of America가 애플의 주가 목표를 상향 조정하며 긍정적인 투자 의견을 제시함.\\n   - **지수 점수:** 8.8\\n\\n6. **[문남중의 금요시장] 미 증시 주도주, 전기차에서 AI로…서학개미들의 선택은?**\\n   - **긍정적인 사유:** 애플이 AI 중심의 기술 혁신을 통해 시장의 주요 주도주로 부상하고 있음.\\n   - **지수 점수:** 8.7\\n\\n7. **[2024 증시전망] 목대전 KCGI운용 CIO “자사주만 소각해도 코스피 최소 40% 상승”**\\n   - **긍정적인 사유:** 애플이 자사주 소각을 통해 주가 상승의 가능성을 높이며, 전반적인 시장에 긍정적인 신호를 주고 있음.\\n   - **지수 점수:** 8.3\\n\\n8. **[단독인터뷰] 스타 펀드매니저 던 나일스 \"한 반도체업계, 해외투자자 유인책 부족\"**\\n   - **긍정적인 사유:** 애플이 시장에서 긍정적인 평가를 받고 있으며, 특히 AI 기술의 도입을 통해 큰 성과를 기대하고 있음.\\n   - **지수 점수:** 8.6\\n\\n9. **애플, AI 기대감에 11개월 만에 상승폭 최대…\"신형 M4 칩으로 맥 라인업 개편\"**\\n   - **긍정적인 사유:** 애플의 주가가 AI 기술 도입과 신형 M4 칩 출시 기대감으로 급등함.\\n   - **지수 점수:** 9.1\\n\\n10. **[단독인터뷰] 스타 펀드매니저 던 나일스 \"한 반도체업계, 해외투자자 유인책 부족\" (중복)**\\n    - **긍정적인 사유:** 동일한 기사로 인해 중복 평가 제외.\\n    - **지수 점수:** 제외\\n\\n이 리스트는 2024년에 애플에 대한 긍정적인 뉴스와 각 뉴스의 긍정적인 사유를 설명한 후, 개별 뉴스에 대한 지수 점수를 매겨 정리한 것입니다.', response_metadata={'token_usage': {'completion_tokens': 934, 'prompt_tokens': 38809, 'total_tokens': 39743}, 'model_name': 'gpt-4o-2024-05-13', 'system_fingerprint': 'fp_4e2b2da518', 'finish_reason': 'stop', 'logprobs': None}, id='run-dd205f73-7a54-41c8-9060-980472cbf6b1-0', usage_metadata={'input_tokens': 38809, 'output_tokens': 934, 'total_tokens': 39743})]"
      ]
     },
     "execution_count": 13,
     "metadata": {},
     "output_type": "execute_result"
    }
   ],
   "source": [
    "response = agent_executor.invoke(\n",
    "    {\"messages\": [HumanMessage(content=f\"2024년 애플에 대한 긍정적인 뉴스를 찾아서, 개별 기사에서 긍정적인 사유를 설명하고,  개별 모든 뉴스에 대해서 지수를 점수로 매겨서 리스트로 표시해\")]}\n",
    ")\n",
    "response[\"messages\"]"
   ]
  },
  {
   "cell_type": "code",
   "execution_count": 15,
   "id": "b3d56f9e-9a49-41bd-92dc-4af784017c5a",
   "metadata": {
    "tags": []
   },
   "outputs": [
    {
     "data": {
      "text/plain": [
       "AIMessage(content='다음은 2024년에 애플에 대한 긍정적인 뉴스를 모은 리스트와 각 뉴스의 긍정적인 사유 및 지수 점수입니다.\\n\\n1. **[성공예감] 실리콘밸리를 지배할 2024년의 키워드는 - 송이라 기자(서울경제신문)**\\n   - **긍정적인 사유:** 애플이 IT 기술과 투자에서 주도적인 역할을 하고 있으며, 특히 글로벌 금융위기 이후 경제 회복의 중심에 서 있다는 평가.\\n   - **지수 점수:** 9.0\\n\\n2. **애플카 나온다더니 감감무소식…애플, 신사업 전략은?**\\n   - **긍정적인 사유:** 애플이 새로운 제품을 통해 지속적인 성장 가능성을 보여주고 있으며, 투자자들로부터 높은 기대를 받고 있음.\\n   - **지수 점수:** 8.5\\n\\n3. **애플·TSMC 함께 날았다…뉴욕증시 반등 성공**\\n   - **긍정적인 사유:** 애플의 주가가 급등하며 뉴욕 증시의 반등을 이끌어냈고, 특히 중국 시장에서의 매출 증가가 긍정적인 영향을 미침.\\n   - **지수 점수:** 9.2\\n\\n4. **애플 \"큰 실수\" 주춤한 사이…삼성 \\'갤S24\\' AI폰 선공 나선다**\\n   - **긍정적인 사유:** 애플의 주가가 큰 폭으로 상승하였으며, AI 기술을 중심으로 하는 신제품 출시 계획이 주목받고 있음.\\n   - **지수 점수:** 8.0\\n\\n5. **[트렌딩 핫스톡] BofA, 애플 투자 의견 매수·목표주가 225달러로 상향**\\n   - **긍정적인 사유:** Bank of America가 애플의 주가 목표를 상향 조정하며 긍정적인 투자 의견을 제시함.\\n   - **지수 점수:** 8.8\\n\\n6. **[문남중의 금요시장] 미 증시 주도주, 전기차에서 AI로…서학개미들의 선택은?**\\n   - **긍정적인 사유:** 애플이 AI 중심의 기술 혁신을 통해 시장의 주요 주도주로 부상하고 있음.\\n   - **지수 점수:** 8.7\\n\\n7. **[2024 증시전망] 목대전 KCGI운용 CIO “자사주만 소각해도 코스피 최소 40% 상승”**\\n   - **긍정적인 사유:** 애플이 자사주 소각을 통해 주가 상승의 가능성을 높이며, 전반적인 시장에 긍정적인 신호를 주고 있음.\\n   - **지수 점수:** 8.3\\n\\n8. **[단독인터뷰] 스타 펀드매니저 던 나일스 \"한 반도체업계, 해외투자자 유인책 부족\"**\\n   - **긍정적인 사유:** 애플이 시장에서 긍정적인 평가를 받고 있으며, 특히 AI 기술의 도입을 통해 큰 성과를 기대하고 있음.\\n   - **지수 점수:** 8.6\\n\\n9. **애플, AI 기대감에 11개월 만에 상승폭 최대…\"신형 M4 칩으로 맥 라인업 개편\"**\\n   - **긍정적인 사유:** 애플의 주가가 AI 기술 도입과 신형 M4 칩 출시 기대감으로 급등함.\\n   - **지수 점수:** 9.1\\n\\n10. **[단독인터뷰] 스타 펀드매니저 던 나일스 \"한 반도체업계, 해외투자자 유인책 부족\" (중복)**\\n    - **긍정적인 사유:** 동일한 기사로 인해 중복 평가 제외.\\n    - **지수 점수:** 제외\\n\\n이 리스트는 2024년에 애플에 대한 긍정적인 뉴스와 각 뉴스의 긍정적인 사유를 설명한 후, 개별 뉴스에 대한 지수 점수를 매겨 정리한 것입니다.', response_metadata={'token_usage': {'completion_tokens': 934, 'prompt_tokens': 38809, 'total_tokens': 39743}, 'model_name': 'gpt-4o-2024-05-13', 'system_fingerprint': 'fp_4e2b2da518', 'finish_reason': 'stop', 'logprobs': None}, id='run-dd205f73-7a54-41c8-9060-980472cbf6b1-0', usage_metadata={'input_tokens': 38809, 'output_tokens': 934, 'total_tokens': 39743})"
      ]
     },
     "execution_count": 15,
     "metadata": {},
     "output_type": "execute_result"
    }
   ],
   "source": [
    "response[\"messages\"][-1]"
   ]
  }
 ],
 "metadata": {
  "kernelspec": {
   "display_name": "Python 3 (ipykernel)",
   "language": "python",
   "name": "python3"
  },
  "language_info": {
   "codemirror_mode": {
    "name": "ipython",
    "version": 3
   },
   "file_extension": ".py",
   "mimetype": "text/x-python",
   "name": "python",
   "nbconvert_exporter": "python",
   "pygments_lexer": "ipython3",
   "version": "3.9.19"
  }
 },
 "nbformat": 4,
 "nbformat_minor": 5
}
