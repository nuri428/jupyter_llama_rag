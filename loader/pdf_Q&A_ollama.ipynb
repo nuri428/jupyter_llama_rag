{
 "cells": [
  {
   "cell_type": "markdown",
   "id": "c10c3682-10d1-420b-bcbf-f4a383e8cba6",
   "metadata": {},
   "source": [
    "# Pdf Q&A"
   ]
  },
  {
   "cell_type": "code",
   "execution_count": 1,
   "id": "20b89df8-d5e2-4ff2-ad5f-c5f9573fc9d7",
   "metadata": {
    "tags": []
   },
   "outputs": [],
   "source": [
    "# %pip install pypdf\n",
    "# %pip install chromadb"
   ]
  },
  {
   "cell_type": "code",
   "execution_count": 2,
   "id": "d760d94b-9590-423f-8a6c-85403c15126d",
   "metadata": {
    "tags": []
   },
   "outputs": [],
   "source": [
    "from langchain.document_loaders import PyPDFLoader"
   ]
  },
  {
   "cell_type": "markdown",
   "id": "2f074dd2-5e67-4cf5-9ea3-e448b1093268",
   "metadata": {},
   "source": [
    "### pdf loading"
   ]
  },
  {
   "cell_type": "code",
   "execution_count": 3,
   "id": "38ac5a08-31e3-4430-b1d9-62342becd453",
   "metadata": {
    "tags": []
   },
   "outputs": [],
   "source": [
    "loader = PyPDFLoader(\"/Volumes/storage/patent/2023/20230102/1020150020108/B012/PDF/1020150020108.pdf\")"
   ]
  },
  {
   "cell_type": "code",
   "execution_count": 4,
   "id": "0d021253-42ec-4e20-bc57-c77397ec6f23",
   "metadata": {
    "tags": []
   },
   "outputs": [],
   "source": [
    "document = loader.load()"
   ]
  },
  {
   "cell_type": "code",
   "execution_count": 5,
   "id": "0aab6c37-6ee7-4d51-b174-28359ea995b4",
   "metadata": {
    "tags": []
   },
   "outputs": [
    {
     "data": {
      "text/plain": [
       "'(19) 대한민국특허청(KR)\\n(12) 등록특허공보(B1)(45) 공고일자   2023년01월02일\\n(11) 등록번호   10-2483612\\n(24) 등록일자   2022년12월28일\\n(51) 국제특허분류(Int. Cl.)\\n     H05K 1/18 (2006.01)  H05K 3/00 (2019.01)\\n     H05K 3/46 (2006.01)\\n(52) CPC특허분류\\n     H05K 1/186 (2013.01)\\n     H05K 3/0047 (2013.01)\\n(21) 출원번호       10-2015-0020108\\n(22) 출원일자       2015년02월10일\\n     심사청구일자   2020년01월28일 \\n(65) 공개번호       10-2016-0097800\\n(43) 공개일자       2016년08월18일\\n(56) 선행기술조사문헌\\nWO2014193641 A1*\\nUS20120037411 A1\\nKR1020070029930 A\\nKR1020070078986 A\\n*는 심사관에 의하여 인용된 문헌(73) 특허권자\\n삼성전기주식회사\\n경기도 수원시 영통구 매영로 150 (매탄동)\\n(72) 발명자\\n이준성\\n경기도 수원시 영통구 매영로 150 (매탄동)\\n조석현\\n경기도 수원시 영통구 매영로 150 (매탄동)\\n이용삼\\n경기도 수원시 영통구 매영로 150 (매탄동)\\n(74) 대리인\\n특허법인씨엔에스\\n전체 청구항 수 : 총  10  항  심사관 :    최동기\\n(54) 발명의 명칭 인쇄회로기판 및 그 제조방법\\n(57) 요 약\\n본 발명의 인쇄회로기판은, 캐비티를 갖는 코어 기판; 및 상기 캐비티에 수용된 더미칩을 포함하여 구성'"
      ]
     },
     "execution_count": 5,
     "metadata": {},
     "output_type": "execute_result"
    }
   ],
   "source": [
    "document[0].page_content[:800]"
   ]
  },
  {
   "cell_type": "markdown",
   "id": "61716487-8373-49bc-af38-27ed468d8fbc",
   "metadata": {},
   "source": [
    "### Chunk 기반 텍스트 분할"
   ]
  },
  {
   "cell_type": "code",
   "execution_count": 6,
   "id": "2eecb835-ac6e-41bc-8d61-c525a9bbddea",
   "metadata": {
    "tags": []
   },
   "outputs": [],
   "source": [
    "from langchain.text_splitter import CharacterTextSplitter"
   ]
  },
  {
   "cell_type": "code",
   "execution_count": 7,
   "id": "98ff1c99-879c-40b1-9d05-a10ba5d0eccc",
   "metadata": {
    "tags": []
   },
   "outputs": [],
   "source": [
    "text_splitter = CharacterTextSplitter(chunk_size=1000, chunk_overlap=50)\n",
    "texts = text_splitter.split_documents(document)"
   ]
  },
  {
   "cell_type": "markdown",
   "id": "1aad7ec5-5d6e-4dc4-9b93-14525decf08e",
   "metadata": {},
   "source": [
    "### embedding"
   ]
  },
  {
   "cell_type": "code",
   "execution_count": 8,
   "id": "e14dc898-5995-40f7-906b-cfba2b0c9e3b",
   "metadata": {
    "tags": []
   },
   "outputs": [],
   "source": [
    "import os\n",
    "from dotenv import load_dotenv\n",
    "load_dotenv()\n",
    "OPENAI_API_KEY = os.getenv('OPENAI_API_KEY')\n",
    "HUGGINGFACE_API_KEY = os.getenv('HUGGINGFACE_KEY')"
   ]
  },
  {
   "cell_type": "code",
   "execution_count": 9,
   "id": "1a90b362-2529-482b-99fd-dc2913006dc8",
   "metadata": {
    "tags": []
   },
   "outputs": [],
   "source": [
    "# embedding 패키지 로딩\n",
    "from langchain_community.embeddings import HuggingFaceHubEmbeddings"
   ]
  },
  {
   "cell_type": "code",
   "execution_count": 10,
   "id": "06e1bd33-9fd0-4b15-a4e2-ae6e80ad149c",
   "metadata": {
    "tags": []
   },
   "outputs": [
    {
     "name": "stderr",
     "output_type": "stream",
     "text": [
      "/Users/nuri/dev/jupyter/.venv/lib/python3.9/site-packages/langchain_core/_api/deprecation.py:139: LangChainDeprecationWarning: The class `HuggingFaceHubEmbeddings` was deprecated in LangChain 0.2.2 and will be removed in 0.3.0. An updated version of the class exists in the langchain-huggingface package and should be used instead. To use it run `pip install -U langchain-huggingface` and import as `from langchain_huggingface import HuggingFaceEndpointEmbeddings`.\n",
      "  warn_deprecated(\n"
     ]
    }
   ],
   "source": [
    "# embedding 클래스 정의 \n",
    "EMBEDDING_BASE_URL=os.getenv(\"EMBEDDING_BASE_URL\")\n",
    "HUGGINGFACEHUB_API_TOKEN = os.getenv(\"HUGGUNGFACE_TOKEN\")\n",
    "embeddings = HuggingFaceHubEmbeddings(model=EMBEDDING_BASE_URL, huggingfacehub_api_token=HUGGINGFACEHUB_API_TOKEN)\n"
   ]
  },
  {
   "cell_type": "code",
   "execution_count": 11,
   "id": "fd077946-e44d-4519-9122-1872b55d4a74",
   "metadata": {
    "tags": []
   },
   "outputs": [],
   "source": [
    "from langchain.vectorstores import Chroma"
   ]
  },
  {
   "cell_type": "markdown",
   "id": "64da6d2f-c460-43e2-b2d9-c6c7900c962c",
   "metadata": {},
   "source": [
    "### 저장 및 검색"
   ]
  },
  {
   "cell_type": "code",
   "execution_count": 12,
   "id": "eb083568-cb0e-4568-9b6d-ab3ee1bf9a80",
   "metadata": {
    "tags": []
   },
   "outputs": [],
   "source": [
    "# Chroma DB 에 저장\n",
    "docsearch = Chroma.from_documents(texts, embeddings)\n",
    "# retriever 가져옴\n",
    "retriever = docsearch.as_retriever()"
   ]
  },
  {
   "cell_type": "markdown",
   "id": "1351fa0d-c1c7-4e64-99cd-46fd711dfb0f",
   "metadata": {},
   "source": [
    "### 프로젝트 템플릿"
   ]
  },
  {
   "cell_type": "code",
   "execution_count": 27,
   "id": "b21f9bd7-1d54-467f-8521-f4d910b87b71",
   "metadata": {
    "tags": []
   },
   "outputs": [],
   "source": [
    "# from langchain import hub\n",
    "# rag_prompt = hub.pull(\"rlm/rag-prompt\")\n",
    "# rag_prompt\n",
    "from langchain_core.prompts import ChatPromptTemplate\n",
    "prompt = ChatPromptTemplate.from_template(\"\"\"\n",
    "{context}\n",
    "넌 특허 전문 변리사 로봇이야.\n",
    "주어진 질문에 대한 답변을 한글로 답해줘 \n",
    "{question}\n",
    "\"\"\")"
   ]
  },
  {
   "cell_type": "markdown",
   "id": "0a4c8297-d384-48be-b888-84a94ffcbbac",
   "metadata": {},
   "source": [
    "### llm 생성"
   ]
  },
  {
   "cell_type": "code",
   "execution_count": 28,
   "id": "8636655f-7258-4fb2-af45-d5414b956eb2",
   "metadata": {
    "tags": []
   },
   "outputs": [],
   "source": [
    "from langchain_community.chat_models import ChatOllama"
   ]
  },
  {
   "cell_type": "code",
   "execution_count": 29,
   "id": "9733c2e3-7a89-471f-bc92-674b0b37c6de",
   "metadata": {
    "tags": []
   },
   "outputs": [],
   "source": [
    "model = \"mistral-nemo\""
   ]
  },
  {
   "cell_type": "code",
   "execution_count": 30,
   "id": "4ef3b905-deeb-473e-8714-ace5c4e2e9fe",
   "metadata": {
    "tags": []
   },
   "outputs": [],
   "source": [
    "llm = ChatOllama(base_url=\"http://192.168.0.11:11434\",\n",
    "                 model=model,\n",
    "                 temperature=0)"
   ]
  },
  {
   "cell_type": "markdown",
   "id": "90ddf7c9-5bf0-4be4-b90d-5c4e3db3eaf9",
   "metadata": {},
   "source": [
    "### RAG Chain 생성"
   ]
  },
  {
   "cell_type": "code",
   "execution_count": 31,
   "id": "798dd88f-8dbe-4dc2-afe2-ec15d2394b27",
   "metadata": {
    "tags": []
   },
   "outputs": [],
   "source": [
    "from langchain.schema.runnable import RunnablePassthrough"
   ]
  },
  {
   "cell_type": "code",
   "execution_count": 32,
   "id": "a0602187-f1f1-4941-a17a-d0095c02c2cb",
   "metadata": {
    "tags": []
   },
   "outputs": [],
   "source": [
    "rag_chain = (\n",
    "    {\n",
    "        \"context\":retriever,\n",
    "        \"question\": RunnablePassthrough()\n",
    "    }\n",
    "    # |rag_prompt\n",
    "    | prompt\n",
    "    | llm    \n",
    ")"
   ]
  },
  {
   "cell_type": "code",
   "execution_count": 33,
   "id": "67807b2e-864b-47b3-8580-652069471b03",
   "metadata": {
    "tags": []
   },
   "outputs": [
    {
     "data": {
      "text/plain": [
       "AIMessage(content='이 발명의 명칭은 \"인쇄회로기판 및 그 제조방법\"입니다.', response_metadata={'model': 'mistral-nemo', 'created_at': '2024-08-03T15:51:26.135887673Z', 'message': {'role': 'assistant', 'content': ''}, 'done_reason': 'stop', 'done': True, 'total_duration': 703472318, 'load_duration': 18354622, 'prompt_eval_count': 1026, 'prompt_eval_duration': 347306000, 'eval_count': 22, 'eval_duration': 296496000}, id='run-2d8876da-dffb-4aaa-93ab-b9b272294cfc-0')"
      ]
     },
     "execution_count": 33,
     "metadata": {},
     "output_type": "execute_result"
    }
   ],
   "source": [
    "rag_chain.invoke(\"이 발명의 명칭이 뭐지?\")"
   ]
  },
  {
   "cell_type": "code",
   "execution_count": 37,
   "id": "bf5d449c-b64e-4a6f-bf0a-3bb7623bcc10",
   "metadata": {
    "tags": []
   },
   "outputs": [
    {
     "data": {
      "text/plain": [
       "AIMessage(content='{\\n  \"발명자\": \"미상\",\\n  \"출원인\": \"미상\",\\n  \"권리자\": \"미상\"\\n}', response_metadata={'model': 'mistral-nemo', 'created_at': '2024-08-03T15:52:35.608506517Z', 'message': {'role': 'assistant', 'content': ''}, 'done_reason': 'stop', 'done': True, 'total_duration': 836405155, 'load_duration': 17978612, 'prompt_eval_count': 1026, 'prompt_eval_duration': 339184000, 'eval_count': 32, 'eval_duration': 437233000}, id='run-55109cfc-87c6-4cf2-88ba-db43be4b2a77-0')"
      ]
     },
     "execution_count": 37,
     "metadata": {},
     "output_type": "execute_result"
    }
   ],
   "source": [
    "rag_chain.invoke(\"이 문서의 발명자, 출원인, 권리자를 추출해서 python 사전 구조로 표시해줘\")"
   ]
  },
  {
   "cell_type": "code",
   "execution_count": 35,
   "id": "cfc9df46-bd16-416e-875f-4774bd2a4470",
   "metadata": {
    "tags": []
   },
   "outputs": [
    {
     "data": {
      "text/plain": [
       "AIMessage(content='주어진 문서는 총 1개의 문서이다.', response_metadata={'model': 'mistral-nemo', 'created_at': '2024-08-03T15:51:41.190658402Z', 'message': {'role': 'assistant', 'content': ''}, 'done_reason': 'stop', 'done': True, 'total_duration': 564363405, 'load_duration': 18308122, 'prompt_eval_count': 1026, 'prompt_eval_duration': 332729000, 'eval_count': 13, 'eval_duration': 169561000}, id='run-a37dd167-f00a-4a23-9e14-9350400071ff-0')"
      ]
     },
     "execution_count": 35,
     "metadata": {},
     "output_type": "execute_result"
    }
   ],
   "source": [
    "rag_chain.invoke(\"입력된 문서의 수량은 몇개나 되지?\")"
   ]
  },
  {
   "cell_type": "code",
   "execution_count": 36,
   "id": "05b3a513-c8b4-4333-bcfa-61e8e33f7f5b",
   "metadata": {
    "tags": []
   },
   "outputs": [
    {
     "data": {
      "text/plain": [
       "AIMessage(content='**제목:** 인쇄회로기판 및 그 제작방법\\n\\n**내용 요약:**\\n\\n* 이 특허는 테이퍼 형상으로 가공된 코어 기판(110)과 더미칩(120), 레진층(130), 회로층(140)으로 구성된 인쇄회로기판을 설명한다.\\n* 코어 기판(110)은 수지 절연물질로 만들어지며, 에폭시 수지, 폴리이미드 수지 또는 보강재가 함침된 프리프레그가 사용된다.\\n* 더미칩(120)은 유리 기판을 레이저 드릴 가공하여 역테이퍼 형상으로 실장한다. 이는 기판 휨 현상을 개선하기 위해 임베디드 기판 특성을 고려한 것이다.\\n* 레진층(130)은 열경화성 또는 열가소성 고분자 물질, 세라믹, 유-무기 복합 소재, 글라스 섬유 함침일 수 있으며, 고분자 수지를 포함하는 경우 FR-4, BT(Bismaleimide Triazine), ABF(Ajinomoto Build up Film) 등의 에폭시계 절연 수지를 포함할 수 있다.\\n* 코어 기판(110)은 더미칩(120)이 실장될 캐비티(111) 및 두께 방향으로 관통하는 관통홀을 형성한다.', response_metadata={'model': 'mistral-nemo', 'created_at': '2024-08-03T15:51:49.618405821Z', 'message': {'role': 'assistant', 'content': ''}, 'done_reason': 'stop', 'done': True, 'total_duration': 4908655081, 'load_duration': 18292913, 'prompt_eval_count': 1026, 'prompt_eval_duration': 334693000, 'eval_count': 319, 'eval_duration': 4511322000}, id='run-be50a4f6-8f0f-4666-be19-1af7e65f4e06-0')"
      ]
     },
     "execution_count": 36,
     "metadata": {},
     "output_type": "execute_result"
    }
   ],
   "source": [
    "rag_chain.invoke(\"입력된 모든 문서의 제목을 표시해줘 \")"
   ]
  },
  {
   "cell_type": "code",
   "execution_count": null,
   "id": "b0451a02-ddb3-485e-aacf-185f963d0b7a",
   "metadata": {},
   "outputs": [],
   "source": []
  }
 ],
 "metadata": {
  "kernelspec": {
   "display_name": "Python 3 (ipykernel)",
   "language": "python",
   "name": "python3"
  },
  "language_info": {
   "codemirror_mode": {
    "name": "ipython",
    "version": 3
   },
   "file_extension": ".py",
   "mimetype": "text/x-python",
   "name": "python",
   "nbconvert_exporter": "python",
   "pygments_lexer": "ipython3",
   "version": "3.9.19"
  }
 },
 "nbformat": 4,
 "nbformat_minor": 5
}
