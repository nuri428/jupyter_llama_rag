{
 "cells": [
  {
   "cell_type": "markdown",
   "id": "c10c3682-10d1-420b-bcbf-f4a383e8cba6",
   "metadata": {},
   "source": [
    "# Pdf Q&A"
   ]
  },
  {
   "cell_type": "code",
   "execution_count": 17,
   "id": "20b89df8-d5e2-4ff2-ad5f-c5f9573fc9d7",
   "metadata": {
    "tags": []
   },
   "outputs": [],
   "source": [
    "# %pip install pypdf\n",
    "# %pip install chromadb"
   ]
  },
  {
   "cell_type": "code",
   "execution_count": 18,
   "id": "d760d94b-9590-423f-8a6c-85403c15126d",
   "metadata": {
    "tags": []
   },
   "outputs": [],
   "source": [
    "from langchain.document_loaders import PyPDFLoader"
   ]
  },
  {
   "cell_type": "markdown",
   "id": "2f074dd2-5e67-4cf5-9ea3-e448b1093268",
   "metadata": {},
   "source": [
    "### pdf loading"
   ]
  },
  {
   "cell_type": "code",
   "execution_count": 19,
   "id": "38ac5a08-31e3-4430-b1d9-62342becd453",
   "metadata": {
    "tags": []
   },
   "outputs": [],
   "source": [
    "loader = PyPDFLoader(\"/Volumes/storage/patent/2023/20230102/1020150020108/B012/PDF/1020150020108.pdf\")"
   ]
  },
  {
   "cell_type": "code",
   "execution_count": 20,
   "id": "0d021253-42ec-4e20-bc57-c77397ec6f23",
   "metadata": {
    "tags": []
   },
   "outputs": [],
   "source": [
    "document = loader.load()"
   ]
  },
  {
   "cell_type": "code",
   "execution_count": 21,
   "id": "0aab6c37-6ee7-4d51-b174-28359ea995b4",
   "metadata": {
    "tags": []
   },
   "outputs": [
    {
     "data": {
      "text/plain": [
       "'(19) 대한민국특허청(KR)\\n(12) 등록특허공보(B1)(45) 공고일자   2023년01월02일\\n(11) 등록번호   10-2483612\\n(24) 등록일자   2022년12월28일\\n(51) 국제특허분류(Int. Cl.)\\n     H05K 1/18 (2006.01)  H05K 3/00 (2019.01)\\n     H05K 3/46 (2006.01)\\n(52)'"
      ]
     },
     "execution_count": 21,
     "metadata": {},
     "output_type": "execute_result"
    }
   ],
   "source": [
    "document[0].page_content[:200]"
   ]
  },
  {
   "cell_type": "markdown",
   "id": "61716487-8373-49bc-af38-27ed468d8fbc",
   "metadata": {},
   "source": [
    "### Chunk 기반 텍스트 분할"
   ]
  },
  {
   "cell_type": "code",
   "execution_count": 22,
   "id": "2eecb835-ac6e-41bc-8d61-c525a9bbddea",
   "metadata": {
    "tags": []
   },
   "outputs": [],
   "source": [
    "from langchain.text_splitter import CharacterTextSplitter"
   ]
  },
  {
   "cell_type": "code",
   "execution_count": 23,
   "id": "98ff1c99-879c-40b1-9d05-a10ba5d0eccc",
   "metadata": {
    "tags": []
   },
   "outputs": [],
   "source": [
    "text_splitter = CharacterTextSplitter(chunk_size=1000, chunk_overlap=50)\n",
    "texts = text_splitter.split_documents(document)"
   ]
  },
  {
   "cell_type": "markdown",
   "id": "1aad7ec5-5d6e-4dc4-9b93-14525decf08e",
   "metadata": {},
   "source": [
    "### embedding"
   ]
  },
  {
   "cell_type": "code",
   "execution_count": 24,
   "id": "e14dc898-5995-40f7-906b-cfba2b0c9e3b",
   "metadata": {
    "tags": []
   },
   "outputs": [],
   "source": [
    "import os\n",
    "from dotenv import load_dotenv\n",
    "load_dotenv()\n",
    "OPENAI_API_KEY = os.getenv('OPENAI_API_KEY')\n",
    "HUGGINGFACE_API_KEY = os.getenv('HUGGINGFACE_KEY')"
   ]
  },
  {
   "cell_type": "code",
   "execution_count": 25,
   "id": "1a90b362-2529-482b-99fd-dc2913006dc8",
   "metadata": {
    "tags": []
   },
   "outputs": [],
   "source": [
    "# embedding 패키지 로딩\n",
    "from langchain_community.embeddings import HuggingFaceHubEmbeddings"
   ]
  },
  {
   "cell_type": "code",
   "execution_count": 26,
   "id": "06e1bd33-9fd0-4b15-a4e2-ae6e80ad149c",
   "metadata": {
    "tags": []
   },
   "outputs": [],
   "source": [
    "# embedding 클래스 정의 \n",
    "EMBEDDING_BASE_URL=os.getenv(\"EMBEDDING_BASE_URL\")\n",
    "HUGGINGFACEHUB_API_TOKEN = os.getenv(\"HUGGUNGFACE_TOKEN\")\n",
    "embeddings = HuggingFaceHubEmbeddings(model=EMBEDDING_BASE_URL, huggingfacehub_api_token=HUGGINGFACEHUB_API_TOKEN)\n"
   ]
  },
  {
   "cell_type": "code",
   "execution_count": 27,
   "id": "fd077946-e44d-4519-9122-1872b55d4a74",
   "metadata": {
    "tags": []
   },
   "outputs": [],
   "source": [
    "from langchain.vectorstores import Chroma"
   ]
  },
  {
   "cell_type": "markdown",
   "id": "64da6d2f-c460-43e2-b2d9-c6c7900c962c",
   "metadata": {},
   "source": [
    "### 저장 및 검색"
   ]
  },
  {
   "cell_type": "code",
   "execution_count": 29,
   "id": "eb083568-cb0e-4568-9b6d-ab3ee1bf9a80",
   "metadata": {
    "tags": []
   },
   "outputs": [],
   "source": [
    "# Chroma DB 에 저장\n",
    "docsearch = Chroma.from_documents(texts, embeddings)\n",
    "# retriever 가져옴\n",
    "retriever = docsearch.as_retriever()"
   ]
  },
  {
   "cell_type": "markdown",
   "id": "1351fa0d-c1c7-4e64-99cd-46fd711dfb0f",
   "metadata": {},
   "source": [
    "### 프로젝트 템플릿"
   ]
  },
  {
   "cell_type": "code",
   "execution_count": 30,
   "id": "b21f9bd7-1d54-467f-8521-f4d910b87b71",
   "metadata": {
    "tags": []
   },
   "outputs": [
    {
     "data": {
      "text/plain": [
       "ChatPromptTemplate(input_variables=['context', 'question'], metadata={'lc_hub_owner': 'rlm', 'lc_hub_repo': 'rag-prompt', 'lc_hub_commit_hash': '50442af133e61576e74536c6556cefe1fac147cad032f4377b60c436e6cdcb6e'}, messages=[HumanMessagePromptTemplate(prompt=PromptTemplate(input_variables=['context', 'question'], template=\"You are an assistant for question-answering tasks. Use the following pieces of retrieved context to answer the question. If you don't know the answer, just say that you don't know. Use three sentences maximum and keep the answer concise.\\nQuestion: {question} \\nContext: {context} \\nAnswer:\"))])"
      ]
     },
     "execution_count": 30,
     "metadata": {},
     "output_type": "execute_result"
    }
   ],
   "source": [
    "from langchain import hub\n",
    "rag_prompt = hub.pull(\"rlm/rag-prompt\")\n",
    "rag_prompt"
   ]
  },
  {
   "cell_type": "markdown",
   "id": "0a4c8297-d384-48be-b888-84a94ffcbbac",
   "metadata": {},
   "source": [
    "### llm 생성"
   ]
  },
  {
   "cell_type": "code",
   "execution_count": 31,
   "id": "8636655f-7258-4fb2-af45-d5414b956eb2",
   "metadata": {
    "tags": []
   },
   "outputs": [],
   "source": [
    "from langchain.chat_models import ChatOpenAI"
   ]
  },
  {
   "cell_type": "code",
   "execution_count": 32,
   "id": "4ef3b905-deeb-473e-8714-ace5c4e2e9fe",
   "metadata": {
    "tags": []
   },
   "outputs": [],
   "source": [
    "llm = ChatOpenAI(model_name=\"gpt-4o\", temperature=0)"
   ]
  },
  {
   "cell_type": "markdown",
   "id": "90ddf7c9-5bf0-4be4-b90d-5c4e3db3eaf9",
   "metadata": {},
   "source": [
    "### RAG Chain 생성"
   ]
  },
  {
   "cell_type": "code",
   "execution_count": 33,
   "id": "798dd88f-8dbe-4dc2-afe2-ec15d2394b27",
   "metadata": {
    "tags": []
   },
   "outputs": [],
   "source": [
    "from langchain.schema.runnable import RunnablePassthrough"
   ]
  },
  {
   "cell_type": "code",
   "execution_count": 34,
   "id": "a0602187-f1f1-4941-a17a-d0095c02c2cb",
   "metadata": {
    "tags": []
   },
   "outputs": [],
   "source": [
    "rag_chain = (\n",
    "    {\n",
    "        \"context\":retriever,\n",
    "        \"question\": RunnablePassthrough()\n",
    "    }\n",
    "    |rag_prompt\n",
    "    |llm    \n",
    ")"
   ]
  },
  {
   "cell_type": "code",
   "execution_count": 35,
   "id": "67807b2e-864b-47b3-8580-652069471b03",
   "metadata": {
    "tags": []
   },
   "outputs": [
    {
     "data": {
      "text/plain": [
       "AIMessage(content='이 문서의 명칭은 \"인쇄회로기판 및 그 제조방법\"입니다.', response_metadata={'token_usage': {'completion_tokens': 21, 'prompt_tokens': 2343, 'total_tokens': 2364}, 'model_name': 'gpt-4o', 'system_fingerprint': 'fp_bc2a86f5f5', 'finish_reason': 'stop', 'logprobs': None}, id='run-ee45ba4e-178f-4646-aa7a-5eb22948e2ea-0')"
      ]
     },
     "execution_count": 35,
     "metadata": {},
     "output_type": "execute_result"
    }
   ],
   "source": [
    "rag_chain.invoke(\"이 문서의 명칭이 뭐지\")"
   ]
  },
  {
   "cell_type": "code",
   "execution_count": 37,
   "id": "bf5d449c-b64e-4a6f-bf0a-3bb7623bcc10",
   "metadata": {
    "tags": []
   },
   "outputs": [
    {
     "data": {
      "text/plain": [
       "AIMessage(content='```python\\n{\\n    \"발명자\": [\"이준성\", \"조석현\", \"이용삼\"],\\n    \"출원인\": \"삼성전기주식회사\",\\n    \"권리자\": \"삼성전기주식회사\"\\n}\\n```', response_metadata={'token_usage': {'completion_tokens': 57, 'prompt_tokens': 1590, 'total_tokens': 1647}, 'model_name': 'gpt-4o', 'system_fingerprint': 'fp_4e2b2da518', 'finish_reason': 'stop', 'logprobs': None}, id='run-bffc96fa-d3a8-49ab-82f2-2710676e11df-0')"
      ]
     },
     "execution_count": 37,
     "metadata": {},
     "output_type": "execute_result"
    }
   ],
   "source": [
    "rag_chain.invoke(\"이 문서의 발명인, 출원인, 권리자를 추출해서 python 사전 구조로 표시해줘\")"
   ]
  },
  {
   "cell_type": "code",
   "execution_count": 38,
   "id": "cfc9df46-bd16-416e-875f-4774bd2a4470",
   "metadata": {
    "tags": []
   },
   "outputs": [
    {
     "data": {
      "text/plain": [
       "AIMessage(content='입력된 문서의 수량은 총 4개입니다.', response_metadata={'token_usage': {'completion_tokens': 15, 'prompt_tokens': 2348, 'total_tokens': 2363}, 'model_name': 'gpt-4o', 'system_fingerprint': 'fp_4e2b2da518', 'finish_reason': 'stop', 'logprobs': None}, id='run-791fdad4-8e01-413f-863c-8dd382ade62e-0')"
      ]
     },
     "execution_count": 38,
     "metadata": {},
     "output_type": "execute_result"
    }
   ],
   "source": [
    "rag_chain.invoke(\"입력된 문서의 수량은 몇개나 되지?\")"
   ]
  },
  {
   "cell_type": "code",
   "execution_count": 39,
   "id": "05b3a513-c8b4-4333-bcfa-61e8e33f7f5b",
   "metadata": {
    "tags": []
   },
   "outputs": [
    {
     "data": {
      "text/plain": [
       "AIMessage(content='\"인쇄회로기판 및 그 제조방법\"', response_metadata={'token_usage': {'completion_tokens': 12, 'prompt_tokens': 1575, 'total_tokens': 1587}, 'model_name': 'gpt-4o', 'system_fingerprint': 'fp_4e2b2da518', 'finish_reason': 'stop', 'logprobs': None}, id='run-8e2c7297-ac48-4517-b9c6-0e94bfaa3aef-0')"
      ]
     },
     "execution_count": 39,
     "metadata": {},
     "output_type": "execute_result"
    }
   ],
   "source": [
    "rag_chain.invoke(\"입력된 모든 문서의 제목을 표시해줘 \")"
   ]
  },
  {
   "cell_type": "code",
   "execution_count": 40,
   "id": "b0451a02-ddb3-485e-aacf-185f963d0b7a",
   "metadata": {
    "tags": []
   },
   "outputs": [
    {
     "data": {
      "text/plain": [
       "AIMessage(content='```python\\n{\\n    \"발명의 배경\": \"전자제품이 고집적화되고 얇아지면서 기판 위에 실장되는 소자들이 기판의 내부에 매립되는 임베디드 기판 기술이 발전하고 있다. 이러한 기술 발전으로 캐비티의 수와 크기가 증가하고, 기판의 휨 현상이 발생한다.\",\\n    \"해결하고자 하는 문제\": \"기판의 휨 현상을 개선하여 임베디드 기판의 신뢰성을 향상시키는 것.\",\\n    \"문제 해결 방법\": \"글라스 기판을 가공하여 더미칩을 완성하고, 이를 기판에 임베딩하여 휨 현상을 개선하는 인쇄회로기판을 제공한다.\"\\n}\\n```', response_metadata={'token_usage': {'completion_tokens': 170, 'prompt_tokens': 4788, 'total_tokens': 4958}, 'model_name': 'gpt-4o', 'system_fingerprint': 'fp_4e2b2da518', 'finish_reason': 'stop', 'logprobs': None}, id='run-e1e07f5b-c11d-40fb-8cdb-a0aa7afc031d-0')"
      ]
     },
     "execution_count": 40,
     "metadata": {},
     "output_type": "execute_result"
    }
   ],
   "source": [
    "rag_chain.invoke(\"입력된 문서의 발명의 배경 및 해결하고자 하는 문제, 문제 해결 방법을 python 사전 구조로 표시해줘 \")"
   ]
  },
  {
   "cell_type": "code",
   "execution_count": 42,
   "id": "6b6d6377-3852-451f-a842-1dab108e4c7c",
   "metadata": {
    "tags": []
   },
   "outputs": [
    {
     "data": {
      "text/plain": [
       "AIMessage(content='```python\\n{\\n    \"발명의 배경\": \"전자제품의 고집적화와 얇아짐에 따라 기판 내부에 소자를 매립하는 임베디드 기판 기술이 발전하고 있으며, 캐비티의 수와 크기가 증가하면서 기판의 휨 현상이 문제로 대두되고 있다.\",\\n    \"해결하고자 하는 문제\": \"글라스 기판을 직접 가공하여 더미칩을 완성하고 이를 기판에 임베딩하여 기판의 휨 현상을 개선함으로써 임베디드 기판의 신뢰성을 향상시키는 것이다.\",\\n    \"문제 해결 방법\": \"캐비티를 갖는 코어 기판과 그 캐비티에 수용된 더미칩을 포함하는 인쇄회로기판을 제공하며, 더미칩을 준비하고 이를 수용할 캐비티를 갖는 코어 기판을 준비한 후 캐비티에 더미칩을 수용하는 방법을 제안한다.\"\\n}\\n```', response_metadata={'token_usage': {'completion_tokens': 225, 'prompt_tokens': 2148, 'total_tokens': 2373}, 'model_name': 'gpt-4o', 'system_fingerprint': 'fp_4e2b2da518', 'finish_reason': 'stop', 'logprobs': None}, id='run-a965855f-d9ef-46f9-adee-45f04ed05efd-0')"
      ]
     },
     "execution_count": 42,
     "metadata": {},
     "output_type": "execute_result"
    }
   ],
   "source": [
    "rag_chain.invoke(\"\"\"\n",
    "입력된 문서의 \n",
    "발명의 배경 및 \n",
    "해결하고자 하는 문제, \n",
    "문제 해결 방법을 추출하고, \n",
    "각각에 대해 한문장으로 요약 추출하고\n",
    "python 사전 구조로 표시해줘\"\"\")"
   ]
  },
  {
   "cell_type": "code",
   "execution_count": null,
   "id": "a3bbd79d-cd7e-40f8-a6cc-7ff655633986",
   "metadata": {},
   "outputs": [],
   "source": []
  }
 ],
 "metadata": {
  "kernelspec": {
   "display_name": "Python 3 (ipykernel)",
   "language": "python",
   "name": "python3"
  },
  "language_info": {
   "codemirror_mode": {
    "name": "ipython",
    "version": 3
   },
   "file_extension": ".py",
   "mimetype": "text/x-python",
   "name": "python",
   "nbconvert_exporter": "python",
   "pygments_lexer": "ipython3",
   "version": "3.9.19"
  }
 },
 "nbformat": 4,
 "nbformat_minor": 5
}
